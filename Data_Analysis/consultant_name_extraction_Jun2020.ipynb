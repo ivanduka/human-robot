{
 "cells": [
  {
   "cell_type": "code",
   "execution_count": null,
   "metadata": {},
   "outputs": [],
   "source": [
    "from sqlalchemy import text, create_engine\n",
    "import pandas as pd\n",
    "from PIL import Image \n",
    "import pytesseract \n",
    "import sys \n",
    "from pdf2image import convert_from_path \n",
    "import os\n",
    "import numpy as np "
   ]
  },
  {
   "cell_type": "code",
   "execution_count": null,
   "metadata": {},
   "outputs": [],
   "source": [
    "# Importing environmental variables library that reads from the .env file\n",
    "from dotenv import load_dotenv\n",
    "\n",
    "# Loading key-value pairs from the .env file into the OS environment\n",
    "load_dotenv()\n",
    "\n",
    "# Reading the key-value pairs from the OS environment\n",
    "user = os.getenv(\"DB_USER\")\n",
    "password = os.getenv(\"DB_PASS\")\n",
    "db_hostname = os.getenv(\"DB_HOST\")\n",
    "db_name = os.getenv(\"DB_DATABASE\")\n",
    "\n",
    "# Using those variables in the connection string using \"F\" strings\n",
    "conn_string = f\"mysql+mysqldb://{user}:{password}@{db_hostname}/{db_name}?charset=utf8mb4\"\n",
    "engine = create_engine(conn_string)"
   ]
  },
  {
   "cell_type": "code",
   "execution_count": null,
   "metadata": {},
   "outputs": [],
   "source": [
    "consultant_name_df = pd.read_excel('G:/Post Construction/metadata csvs/consultants.xlsx', encoding = 'utf-8-sig')\n",
    "consultant_name_lst = consultant_name_df[\"consultant_name\"].tolist()"
   ]
  },
  {
   "cell_type": "code",
   "execution_count": null,
   "metadata": {},
   "outputs": [],
   "source": [
    "with engine.connect() as conn: ## with context manager with, we don't have to close the connection everytime we run queries\n",
    "    query1 = \"SELECT * FROM pdfs;\"\n",
    "    df1 = pd.read_sql(query1, conn)"
   ]
  },
  {
   "cell_type": "code",
   "execution_count": null,
   "metadata": {
    "tags": []
   },
   "outputs": [],
   "source": [
    "main_consultant_name = []\n",
    "pytesseract.pytesseract.tesseract_cmd = r'C:\\Users\\t1nipun\\AppData\\Local\\Tesseract-OCR\\tesseract.exe'\n",
    "for file in df1['pdfName']:\n",
    "    pages = convert_from_path(\"G:/Post Construction/PCMR_All/\" + file + '.pdf', 500, last_page = 1)\n",
    "    for page in pages:\n",
    "        filename = file +'_Page1.jpg'\n",
    "        page.save(\"C:/Users/t1nipun/Desktop/PCMR/human-robot/Data_Analysis/pdf_firstpage_img/\" + filename, 'JPEG')\n",
    "        text = str(((pytesseract.image_to_string(Image.open(\"C:/Users/t1nipun/Desktop/PCMR/human-robot/Data_Analysis/pdf_firstpage_img/\" + filename))))).lower()\n",
    "        consultant_name = []\n",
    "        for name in consultant_name_lst:\n",
    "            if name.lower() in text:\n",
    "                consultant_name.append(name)\n",
    "        main_consultant_name.append(consultant_name)"
   ]
  },
  {
   "cell_type": "code",
   "execution_count": null,
   "metadata": {},
   "outputs": [],
   "source": [
    "df1['consultant_name'] = main_consultant_name\n",
    "mapping_dict = df1.groupby('filingId')['consultant_name'].apply(lambda x: x.values.tolist()).to_dict()"
   ]
  },
  {
   "cell_type": "code",
   "execution_count": 173,
   "metadata": {},
   "outputs": [],
   "source": [
    "def flatten(lst_of_lsts):\n",
    "    output = []\n",
    "    for element in lst_of_lsts:\n",
    "        if type(element) == list:\n",
    "            output.extend(flatten(element))\n",
    "        else:\n",
    "            output.append(element)\n",
    "    return output"
   ]
  },
  {
   "cell_type": "code",
   "execution_count": 178,
   "metadata": {
    "tags": []
   },
   "outputs": [
    {
     "output_type": "execute_result",
     "data": {
      "text/plain": "{337440: ['AXYS Environmental Consulting Ltd'],\n 340412: [],\n 399962: [],\n 409162: ['AXYS Environmental Consulting Ltd'],\n 476698: [],\n 485676: ['TERA Environmental Consultants'],\n 485763: ['TERA Environmental Consultants'],\n 495396: [],\n 538744: ['TERA Environmental Consultants'],\n 538754: ['TERA Environmental Consultants'],\n 541474: [],\n 542503: [],\n 542626: [],\n 543503: ['TERA Environmental Consultants'],\n 546497: ['TERA Environmental Consultants', 'TERA Environmental Consultants'],\n 550966: ['TERA Environmental Consultants', 'Applied Aquatic Research Ltd'],\n 563853: [],\n 579440: ['TERA Environmental Consultants'],\n 582277: ['TERA Environmental Consultants'],\n 587008: [],\n 587052: [],\n 587537: ['TERA Environmental Consultants', 'B.A. Blackwell & Associates Ltd'],\n 588202: ['Golder Associates'],\n 590444: [],\n 590454: [],\n 594990: [],\n 601828: [],\n 659952: ['Golder Associates'],\n 664701: ['TERA Environmental Consultants'],\n 664824: ['TERA Environmental Consultants'],\n 665691: ['TERA Environmental Consultants'],\n 665705: ['TERA Environmental Consultants'],\n 665760: ['TERA Environmental Consultants'],\n 665981: [],\n 666788: [],\n 666821: [],\n 774744: ['Stantec Consulting Ltd'],\n 775971: ['Golder Associates',\n  'TERA Environmental Consultants',\n  'Golder Associates'],\n 779235: ['TERA Environmental Consultants',\n  'B.A. Blackwell and Associates',\n  'Applied Geomarine Environmental Consultants Ltd',\n  'Westland Resource Group'],\n 781518: ['Roy Northern Environmental Ltd'],\n 781909: [],\n 786042: [],\n 786189: ['Mentiga Pedology Consultants Ltd',\n  'SLR Consulting',\n  'Genesis Environmental Ltd'],\n 786208: ['TERA Environmental Consultants'],\n 786776: [],\n 786796: [],\n 786947: [],\n 786960: ['TERA Environmental Consultants'],\n 807057: ['TERA Environmental Consultants', 'TERA Environmental Consultants'],\n 807162: ['TERA Environmental Consultants'],\n 807946: [],\n 877284: [],\n 905821: ['TERA Environmental Consultants'],\n 912170: [],\n 912209: ['TERA Environmental Consultants'],\n 912278: [],\n 912327: ['TERA Environmental Consultants'],\n 914354: ['TERA Environmental Consultants'],\n 914519: ['TERA Environmental Consultants'],\n 914744: [],\n 914753: [],\n 914793: ['TERA Environmental Consultants'],\n 914877: [],\n 914919: [],\n 915064: [],\n 915072: [],\n 920247: [],\n 927469: [],\n 961080: [],\n 1023108: [],\n 1036533: [],\n 1056522: ['TERA Environmental Consultants'],\n 2384974: [],\n 2404647: ['TERA Environmental Consultants'],\n 2404944: [],\n 2407101: [],\n 2407387: [],\n 2407476: ['TERA Environmental Consultants'],\n 2407667: ['TERA Environmental Consultants'],\n 2411149: [],\n 2411252: ['TERA Environmental Consultants'],\n 2411253: ['TERA Environmental Consultants', 'TERA Environmental Consultants'],\n 2411456: ['TERA Environmental Consultants', 'TERA Environmental Consultants'],\n 2411672: ['TERA Environmental Consultants'],\n 2411789: ['TERA Environmental Consultants', 'TERA Environmental Consultants'],\n 2411798: [],\n 2411799: [],\n 2411801: [],\n 2412026: ['TERA Environmental Consultants'],\n 2412030: [],\n 2487151: ['TERA Environmental Consultants'],\n 2526292: ['Roy Northern Environmental Ltd'],\n 2543902: ['Stantec Consulting Ltd'],\n 2547822: ['Stantec Consulting Ltd'],\n 2585451: ['Triton Environmental Consultants Ltd'],\n 2585771: ['CH2M HILL Energy'],\n 2661329: [],\n 2661335: [],\n 2661437: [],\n 2661447: [],\n 2661987: [],\n 2671357: ['CH2M HILL Energy'],\n 2671378: [],\n 2671474: [],\n 2671486: [],\n 2671520: [],\n 2671574: ['Kicking Horse'],\n 2671945: [],\n 2671966: [],\n 2672040: [],\n 2672072: [],\n 2798844: ['CH2M HILL Energy'],\n 2858290: [],\n 2897123: [],\n 2905494: [],\n 2908403: [],\n 2908414: [],\n 2908482: ['CH2M HILL Energy'],\n 2908644: [],\n 2908880: [],\n 2909363: [],\n 2909462: [],\n 2909564: [],\n 2909599: [],\n 2909679: [],\n 2909746: [],\n 2915510: [],\n 2922241: ['Dunn Hiebert & Associates Ltd', 'Dunn Hiebert & Associates Ltd'],\n 2922352: [],\n 3096796: [],\n 3116777: ['CH2M HILL Energy'],\n 3166584: ['CH2M HILL Energy'],\n 3178871: [],\n 3178881: [],\n 3179017: [],\n 3179090: [],\n 3179102: [],\n 3179139: [],\n 3179306: [],\n 3179429: [],\n 3179472: [],\n 3179520: ['Kicking Horse'],\n 3179528: [],\n 3179542: [],\n 3179680: [],\n 3179688: [],\n 3179689: [],\n 3179778: [],\n 3179906: [],\n 3179907: [],\n 3201250: [],\n 3349592: ['Roy Northern Environmental Ltd'],\n 3399196: [],\n 3434164: ['CH2M HILL Energy'],\n 3436908: [],\n 3437127: [],\n 3460910: [],\n 3461125: [],\n 3461263: [],\n 3461361: [],\n 3462127: [],\n 3462341: [],\n 3462570: [],\n 3463441: [],\n 3463758: [],\n 3463763: [],\n 3464211: [],\n 3464752: [],\n 3464784: [],\n 3737775: [],\n 3745940: [],\n 3745990: [],\n 3746585: [],\n 3747552: [],\n 3747624: [],\n 3748068: [],\n 3750338: [],\n 3750350: [],\n 3750366: [],\n 3750786: [],\n 3751018: [],\n 3751106: [],\n 3751132: [],\n 3751215: [],\n 3754527: []}"
     },
     "metadata": {},
     "execution_count": 178
    }
   ],
   "source": [
    "newdict = {key: flatten(value) for key, value in mapping_dict.items()}\n",
    "newdict"
   ]
  },
  {
   "cell_type": "code",
   "execution_count": null,
   "metadata": {},
   "outputs": [],
   "source": [
    "# columns  = ['pdfId', 'pdfName', 'filingId', 'totalPages', 'application_id', 'submitter', 'company', 'consultant_name']\n",
    "# df1.to_csv('consultant_name_analysis.csv', encoding = 'utf-8-sig', columns = columns)"
   ]
  },
  {
   "cell_type": "code",
   "execution_count": 177,
   "metadata": {},
   "outputs": [
    {
     "output_type": "execute_result",
     "data": {
      "text/plain": "['TERA Environmental Consultants',\n 'B.A. Blackwell and Associates',\n 'Applied Geomarine Environmental Consultants Ltd',\n 'Westland Resource Group']"
     },
     "metadata": {},
     "execution_count": 177
    }
   ],
   "source": [
    "newdict[779235]"
   ]
  }
 ],
 "metadata": {
  "kernelspec": {
   "display_name": "Python 3",
   "language": "python",
   "name": "python3"
  },
  "language_info": {
   "codemirror_mode": {
    "name": "ipython",
    "version": 3
   },
   "file_extension": ".py",
   "mimetype": "text/x-python",
   "name": "python",
   "nbconvert_exporter": "python",
   "pygments_lexer": "ipython3",
   "version": "3.7.4"
  }
 },
 "nbformat": 4,
 "nbformat_minor": 2
}