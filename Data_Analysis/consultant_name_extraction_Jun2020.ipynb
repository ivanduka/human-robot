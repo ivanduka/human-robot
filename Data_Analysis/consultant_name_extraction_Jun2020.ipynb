{
 "cells": [
  {
   "cell_type": "code",
   "execution_count": 12,
   "metadata": {},
   "outputs": [],
   "source": [
    "from sqlalchemy import text, create_engine\n",
    "import pandas as pd\n",
    "from PIL import Image \n",
    "import pytesseract \n",
    "import sys \n",
    "from pdf2image import convert_from_path \n",
    "import os\n",
    "import numpy as np \n",
    "import re\n",
    "import time\n",
    "import fitz\n",
    "import re"
   ]
  },
  {
   "cell_type": "code",
   "execution_count": 13,
   "metadata": {},
   "outputs": [],
   "source": [
    "# Importing environmental variables library that reads from the .env file\n",
    "from dotenv import load_dotenv\n",
    "\n",
    "# Loading key-value pairs from the .env file into the OS environment\n",
    "load_dotenv()\n",
    "\n",
    "# Reading the key-value pairs from the OS environment\n",
    "user = os.getenv(\"DB_USER\")\n",
    "password = os.getenv(\"DB_PASS\")\n",
    "db_hostname = os.getenv(\"DB_HOST\")\n",
    "db_name = os.getenv(\"DB_DATABASE\")\n",
    "\n",
    "# Using those variables in the connection string using \"F\" strings\n",
    "conn_string = f\"mysql+mysqldb://{user}:{password}@{db_hostname}/{db_name}?charset=utf8mb4\"\n",
    "engine = create_engine(conn_string)"
   ]
  },
  {
   "cell_type": "code",
   "execution_count": 14,
   "metadata": {},
   "outputs": [],
   "source": [
    "consultant_name_df = pd.read_excel('G:/Post Construction/metadata csvs/consultants.xlsx', encoding = 'utf-8-sig')\n",
    "consultant_name_lst = consultant_name_df[\"consultant_name\"].tolist()"
   ]
  },
  {
   "cell_type": "code",
   "execution_count": 15,
   "metadata": {},
   "outputs": [],
   "source": [
    "with engine.connect() as conn: ## with context manager with, we don't have to close the connection everytime we run queries\n",
    "    query1 = \"SELECT * FROM pdfs;\"\n",
    "    df1 = pd.read_sql(query1, conn)"
   ]
  },
  {
   "cell_type": "code",
   "execution_count": 16,
   "metadata": {
    "tags": []
   },
   "outputs": [
    {
     "output_type": "stream",
     "name": "stdout",
     "text": "Runtime is 1964.2945160865784\n"
    }
   ],
   "source": [
    "start = time.time()\n",
    "main_consultant_name = []\n",
    "pytesseract.pytesseract.tesseract_cmd = r'C:\\Users\\t1nipun\\AppData\\Local\\Tesseract-OCR\\tesseract.exe'\n",
    "for file in df1['pdfName']:\n",
    "    pages = convert_from_path(\"G:/Post Construction/PCMR_All/\" + file + '.pdf', 500, last_page= 1)\n",
    "    for page in pages:\n",
    "        filename = file +'_Page1.jpg'\n",
    "        page.save(\"C:/Users/t1nipun/Desktop/PCMR/human-robot/Data_Analysis/pdf_firstpage_img/\" + filename, 'JPEG')\n",
    "        text = str(((pytesseract.image_to_string(Image.open(\"C:/Users/t1nipun/Desktop/PCMR/human-robot/Data_Analysis/pdf_firstpage_img/\" + filename))))).lower().replace('\\n\\n',' ')\n",
    "        consultant_name = []\n",
    "        for name in consultant_name_lst:\n",
    "            if name.lower() in text:\n",
    "                consultant_name.append(name)\n",
    "        main_consultant_name.append(consultant_name)\n",
    "end = time.time()\n",
    "print(f'Runtime is {end - start}')"
   ]
  },
  {
   "cell_type": "code",
   "execution_count": 17,
   "metadata": {},
   "outputs": [],
   "source": [
    "df1['consultant_name'] = main_consultant_name\n",
    "df2 = df1.copy()\n",
    "mapping_dict = df2.groupby('filingId')['consultant_name'].apply(lambda x: x.values.tolist()).to_dict()"
   ]
  },
  {
   "cell_type": "code",
   "execution_count": 18,
   "metadata": {},
   "outputs": [],
   "source": [
    "def flatten(lst_of_lsts):\n",
    "    output = []\n",
    "    for element in lst_of_lsts:\n",
    "        if type(element) == list:\n",
    "            output.extend(element)\n",
    "    return list(set(output))"
   ]
  },
  {
   "cell_type": "code",
   "execution_count": 19,
   "metadata": {
    "tags": []
   },
   "outputs": [],
   "source": [
    "newdict = {key: flatten(value) for key, value in mapping_dict.items()}\n",
    "newdict.update(dict.fromkeys([786189,877284,786042,2672072,590454,961080,2671945,2897123,3096796], ['TERA Environmental Consultants']))\n",
    "newdict.update(dict.fromkeys([775971,2412030,2671966], ['Golder Associates']))\n",
    "newdict.update(dict.fromkeys([2661335,3179528,3737775], ['AMEC Environment & Infrastructure']))\n",
    "newdict.update(dict.fromkeys([2661447,3754527], ['Triton Environmental Consultants']))\n",
    "newdict.update(dict.fromkeys([541474,601828, 678027], ['AMEC Earth & Environmental']))\n",
    "newdict.update(dict.fromkeys([2909564,2908414,3179688,3462570], ['Paragon Soil and Environmental Consulting']))\n",
    "newdict.update(dict.fromkeys([781909], ['SLR Consulting']))\n",
    "newdict.update(dict.fromkeys([2909462], ['CCI']))\n",
    "newdict.update(dict.fromkeys([915736], ['Stantec Consulting']))\n",
    "newdict.update(dict.fromkeys([3464752,3747552], ['Paragon Soil and Environmental Consulting', 'Golder Associates']))\n",
    "df2['consultant_name'] = df2['filingId'].map(newdict)"
   ]
  },
  {
   "cell_type": "code",
   "execution_count": 20,
   "metadata": {},
   "outputs": [],
   "source": [
    "def clean(my_str):\n",
    "    my_new_str = re.sub(r\"[^a-zA-Z0-9-&]+\",' ', my_str)\n",
    "    return my_new_str"
   ]
  },
  {
   "cell_type": "code",
   "execution_count": null,
   "metadata": {
    "tags": []
   },
   "outputs": [],
   "source": [
    "\"\"\"pdf_name = []\n",
    "for line, row in enumerate(df2.itertuples(),1):  ## use head method with dataframe in order to slice the data when using itertuples() example df1.head(2).itertuples()\n",
    "    if len(row.consultant_name) == 0:\n",
    "        pdf_name.append(row.pdfName)\n",
    "        print(row.pdfName)\n",
    "        try:\n",
    "            pdf_file = open('G:/Dev/PCMR/pdf_files/' + row.pdfName + '.pdf', 'rb').read()\n",
    "            pdf_doc = fitz.open('pdf', pdf_file)\n",
    "        except:\n",
    "            print('File: {} failed to open'.format(row.pdfName))\n",
    "        for page_number in range(pdf_doc.pageCount):\n",
    "            if 'table of contents' not in pdf_doc.loadPage(page_number).getText(\"text\").lower() or len(pdf_doc.loadPage(1).getText(\"text\")) == 0:\n",
    "                page_content = pdf_doc.loadPage(2).getText(\"text\").lower()\n",
    "                print(page_content)\n",
    "            else:\n",
    "                page_content = pdf_doc.loadPage(1).getText(\"text\").lower()\n",
    "                print(page_content)\n",
    "            consultant_name_step2 = []\n",
    "            for name in consultant_name_lst:\n",
    "                if name.lower() in page_content:\n",
    "                    consultant_name_step2.append(name)\n",
    "        #df2.set_value(row.Index, 'consultant_name', consultant_name_step2) # reference: https://stackoverflow.com/questions/43222878/iterate-over-pandas-dataframe-and-update-the-value-attributeerror-cant-set-a"
   ]
  },
  {
   "cell_type": "code",
   "execution_count": 21,
   "metadata": {
    "tags": []
   },
   "outputs": [
    {
     "output_type": "stream",
     "name": "stderr",
     "text": "mupdf: invalid page object\nmupdf: invalid page object\nmupdf: invalid page object\nmupdf: invalid page object\nmupdf: invalid page object\nmupdf: invalid page object\nmupdf: invalid page object\nmupdf: invalid page object\nmupdf: invalid page object\nmupdf: invalid page object\nmupdf: invalid page object\nmupdf: invalid page object\nmupdf: invalid page object\nmupdf: invalid page object\nmupdf: invalid page object\nmupdf: invalid page object\nmupdf: invalid page object\nmupdf: invalid page object\nmupdf: invalid page object\nmupdf: invalid page object\nmupdf: invalid page object\nmupdf: invalid page object\nmupdf: invalid page object\nmupdf: invalid page object\nmupdf: invalid page object\nmupdf: invalid page object\nmupdf: invalid page object\nmupdf: invalid page object\nmupdf: invalid page object\nmupdf: invalid page object\nRuntime is 50.51804208755493\n"
    }
   ],
   "source": [
    "start = time.time()\n",
    "for line, row in enumerate(df2.itertuples(),1):  ## use head method with dataframe in order to slice the data when using itertuples() example df1.head(2).itertuples()\n",
    "    if len(row.consultant_name) == 0:\n",
    "        try:\n",
    "            pdf_file = open('G:/Dev/PCMR/pdf_files/' + row.pdfName + '.pdf', 'rb').read()\n",
    "            pdf_doc = fitz.open('pdf', pdf_file)\n",
    "        except:\n",
    "            print('File: {} failed to open'.format(row.pdfName))\n",
    "        page_content = \"\"\n",
    "        for page_number in range(pdf_doc.pageCount):\n",
    "            page_content += pdf_doc.loadPage(page_number).getText(\"text\").lower()\n",
    "        page_content = clean(page_content)\n",
    "        if \"table of contents\" not in page_content or len(pdf_doc.loadPage(1).getText(\"text\")) == 0:\n",
    "            lookup_content = pdf_doc.loadPage(2).getText(\"text\").lower()\n",
    "            lookup_content = clean(lookup_content)\n",
    "        else:\n",
    "            lookup_content = pdf_doc.loadPage(1).getText(\"text\").lower()\n",
    "            lookup_content = clean(lookup_content)\n",
    "        consultant_name_step2 = []\n",
    "        for name in consultant_name_lst:\n",
    "            if name.lower() in lookup_content:\n",
    "                consultant_name_step2.append(name)\n",
    "        df2.set_value(row.Index, 'consultant_name', consultant_name_step2) # reference: https://stackoverflow.com/questions/43222878/iterate-over-pandas-dataframe-and-update-the-value-attributeerror-cant-set-a\n",
    "end = time.time()\n",
    "print(f'Runtime is {end - start}')"
   ]
  },
  {
   "cell_type": "code",
   "execution_count": 22,
   "metadata": {},
   "outputs": [],
   "source": [
    "exception_list = ['A97613-3', 'A97613-4', 'A97613-5']\n",
    "for line, row in enumerate(df2.itertuples(),1):  ## use head method with dataframe in order to slice the data when using itertuples() example df1.head(2).itertuples()\n",
    "    consultant_name_step3 = []\n",
    "    if len(row.consultant_name) == 0 and not any(substring in row.pdfName[:8] for substring in exception_list): \n",
    "        consultant_name_step3.append('In-house Consulting: ' + row.company)\n",
    "        df2.set_value(row.Index, 'consultant_name', consultant_name_step3)\n",
    "df2.loc[df2.pdfName.str[:8] == 'A97613-3', 'consultant_name'] = pd.Series([['CCI']]*df2.shape[0])\n",
    "df2.loc[df2.pdfName.str[:8] == 'A97613-4', 'consultant_name'] = pd.Series([['CCI']]*df2.shape[0])\n",
    "df2.loc[df2.pdfName.str[:8] == 'A97613-5', 'consultant_name'] = pd.Series([['Paragon Soil and Environmental Consulting']]*df2.shape[0])\n",
    "columns  = ['pdfId', 'pdfName', 'filingId', 'totalPages', 'application_id', 'submitter', 'company', 'consultant_name']\n",
    "df2.to_csv('consultant_name1.csv', encoding = 'utf-8-sig', columns = columns)"
   ]
  },
  {
   "cell_type": "code",
   "execution_count": null,
   "metadata": {
    "tags": []
   },
   "outputs": [],
   "source": [
    "\"\"\"pdf_file = open('G:/Dev/PCMR/pdf_files/A1I1H6 - PCM Report Year 1.pdf', 'rb').read()\n",
    "pdf_doc = fitz.open('pdf', pdf_file)\n",
    "page_content = \"\"\n",
    "for page_number in range(pdf_doc.pageCount):\n",
    "    page_content += pdf_doc.loadPage(page_number).getText(\"text\").lower()\n",
    "if \"table of contents\" not in page_content or len(pdf_doc.loadPage(1).getText(\"text\")) == 0:\n",
    "    lookup_content = pdf_doc.loadPage(2).getText(\"text\").lower()\n",
    "    print(lookup_content)\n",
    "else:\n",
    "    lookup_content = pdf_doc.loadPage(1).getText(\"text\").lower()\n",
    "    print(lookup_content)"
   ]
  },
  {
   "cell_type": "code",
   "execution_count": null,
   "metadata": {},
   "outputs": [],
   "source": [
    "'''pdf_name = []\n",
    "main_consultant_name_step2 = []\n",
    "for line, row in enumerate(df2.itertuples(),1):  ## use head method with dataframe in order to slice the data when using itertuples() example df1.head(2).itertuples()\n",
    "    if len(row.consultant_name) == 0:\n",
    "        pdf_file = open('G:/Dev/PCMR/pdf_files/' + row.pdfName + '.pdf', 'rb')\n",
    "        read_pdf = PyPDF2.PdfFileReader(pdf_file)\n",
    "        if 'table of contents' not in row.xmlContent.lower():\n",
    "            page_content = read_pdf.getPage(2).extractText().lower()\n",
    "            Research = re.search(string,page_content)\n",
    "            print(row.pdfName,Research)     \n",
    "        pd\n",
    "        text = row.xmlContent.lower().strip().split(\"table of contents\")\n",
    "        text_tuple = '_'.join(text[:1]), '_'.join(text[1:])\n",
    "        text_before_TOC = text_tuple[0]\n",
    "        consultant_name_step2 = []\n",
    "        for name in consultant_name_lst:\n",
    "            if name.lower() in text_before_TOC:\n",
    "                consultant_name_step2.append(name)\n",
    "        main_consultant_name_step2.append(consultant_name_step2)\n",
    "                #df1.set_value(row.Index, 'consultant_name', name) # reference: https://stackoverflow.com/questions/43222878/iterate-over-pandas-dataframe-and-update-the-value-attributeerror-cant-set-a'''"
   ]
  }
 ],
 "metadata": {
  "kernelspec": {
   "display_name": "Python 3.7.4 64-bit",
   "language": "python",
   "name": "python37464bit44ddb9ad7b944aa98606efee99bf806f"
  },
  "language_info": {
   "codemirror_mode": {
    "name": "ipython",
    "version": 3
   },
   "file_extension": ".py",
   "mimetype": "text/x-python",
   "name": "python",
   "nbconvert_exporter": "python",
   "pygments_lexer": "ipython3",
   "version": "3.7.4-final"
  }
 },
 "nbformat": 4,
 "nbformat_minor": 2
}