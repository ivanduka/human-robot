{
 "cells": [
  {
   "cell_type": "code",
   "execution_count": 64,
   "metadata": {},
   "outputs": [],
   "source": [
    "from sqlalchemy import text, create_engine\n",
    "import pandas as pd\n",
    "from PIL import Image \n",
    "import pytesseract \n",
    "import sys \n",
    "from pdf2image import convert_from_path \n",
    "import os\n",
    "import numpy as np \n",
    "import re\n",
    "import time\n",
    "import fitz\n",
    "import re"
   ]
  },
  {
   "cell_type": "code",
   "execution_count": 32,
   "metadata": {},
   "outputs": [],
   "source": [
    "# Importing environmental variables library that reads from the .env file\n",
    "from dotenv import load_dotenv\n",
    "\n",
    "# Loading key-value pairs from the .env file into the OS environment\n",
    "load_dotenv()\n",
    "\n",
    "# Reading the key-value pairs from the OS environment\n",
    "user = os.getenv(\"DB_USER\")\n",
    "password = os.getenv(\"DB_PASS\")\n",
    "db_hostname = os.getenv(\"DB_HOST\")\n",
    "db_name = os.getenv(\"DB_DATABASE\")\n",
    "\n",
    "# Using those variables in the connection string using \"F\" strings\n",
    "conn_string = f\"mysql+mysqldb://{user}:{password}@{db_hostname}/{db_name}?charset=utf8mb4\"\n",
    "engine = create_engine(conn_string)"
   ]
  },
  {
   "cell_type": "code",
   "execution_count": 33,
   "metadata": {},
   "outputs": [],
   "source": [
    "consultant_name_df = pd.read_excel('G:/Post Construction/metadata csvs/consultants.xlsx', encoding = 'utf-8-sig')\n",
    "consultant_name_lst = consultant_name_df[\"consultant_name\"].tolist()"
   ]
  },
  {
   "cell_type": "code",
   "execution_count": 34,
   "metadata": {},
   "outputs": [],
   "source": [
    "with engine.connect() as conn: ## with context manager with, we don't have to close the connection everytime we run queries\n",
    "    query1 = \"SELECT * FROM pdfs;\"\n",
    "    df1 = pd.read_sql(query1, conn)"
   ]
  },
  {
   "cell_type": "code",
   "execution_count": 35,
   "metadata": {
    "tags": []
   },
   "outputs": [
    {
     "output_type": "stream",
     "name": "stdout",
     "text": "Runtime is 1890.5476598739624\n"
    }
   ],
   "source": [
    "start = time.time()\n",
    "main_consultant_name = []\n",
    "pytesseract.pytesseract.tesseract_cmd = r'C:\\Users\\t1nipun\\AppData\\Local\\Tesseract-OCR\\tesseract.exe'\n",
    "for file in df1['pdfName']:\n",
    "    pages = convert_from_path(\"G:/Post Construction/PCMR_All/\" + file + '.pdf', 500, last_page= 1)\n",
    "    for page in pages:\n",
    "        filename = file +'_Page1.jpg'\n",
    "        page.save(\"C:/Users/t1nipun/Desktop/PCMR/human-robot/Data_Analysis/pdf_firstpage_img/\" + filename, 'JPEG')\n",
    "        text = str(((pytesseract.image_to_string(Image.open(\"C:/Users/t1nipun/Desktop/PCMR/human-robot/Data_Analysis/pdf_firstpage_img/\" + filename))))).lower().replace('\\n\\n',' ')\n",
    "        consultant_name = []\n",
    "        for name in consultant_name_lst:\n",
    "            if name.lower() in text:\n",
    "                consultant_name.append(name)\n",
    "        main_consultant_name.append(consultant_name)\n",
    "end = time.time()\n",
    "print(f'Runtime is {end - start}')"
   ]
  },
  {
   "cell_type": "code",
   "execution_count": 11,
   "metadata": {
    "tags": []
   },
   "outputs": [],
   "source": [
    "'''start = time.time()\n",
    "main_consultant_name = []\n",
    "pytesseract.pytesseract.tesseract_cmd = r'C:\\Users\\t1nipun\\AppData\\Local\\Tesseract-OCR\\tesseract.exe'\n",
    "for file in df1['pdfName']:\n",
    "    pages = convert_from_path(\"G:/Post Construction/PCMR_All/\" + file + '.pdf', 500)\n",
    "    text = \"\"\n",
    "    for i in range(0,2):\n",
    "        pages[i].save(\"C:/Users/t1nipun/Desktop/PCMR/human-robot/Data_Analysis/pdf_firstpage_img/\" + file +'_{}.jpg'.format(i), 'JPEG')\n",
    "    if len(pytesseract.image_to_string(Image.open(\"C:/Users/t1nipun/Desktop/PCMR/human-robot/Data_Analysis/pdf_firstpage_img/\" + file +'_{}.jpg'.format(1)))) == 0:\n",
    "        text += pytesseract.image_to_string(Image.open(\"C:/Users/t1nipun/Desktop/PCMR/human-robot/Data_Analysis/pdf_firstpage_img/\" + file +'_{}.jpg'.format(0))).lower()\n",
    "    else:\n",
    "        text += pytesseract.image_to_string(Image.open(\"C:/Users/t1nipun/Desktop/PCMR/human-robot/Data_Analysis/pdf_firstpage_img/\" + file +'_{}.jpg'.format(i))).lower()\n",
    "    consultant_name = []\n",
    "    for name in consultant_name_lst:\n",
    "        if name.lower() in text:\n",
    "            consultant_name.append(name)\n",
    "    main_consultant_name.append(consultant_name)\n",
    "    print(file)\n",
    "end = time.time()\n",
    "print(f'Runtime is {end - start}')'''"
   ]
  },
  {
   "cell_type": "code",
   "execution_count": 104,
   "metadata": {},
   "outputs": [],
   "source": [
    "df1['consultant_name'] = main_consultant_name\n",
    "df2 = df1.copy()\n",
    "mapping_dict = df2.groupby('filingId')['consultant_name'].apply(lambda x: x.values.tolist()).to_dict()"
   ]
  },
  {
   "cell_type": "code",
   "execution_count": 105,
   "metadata": {},
   "outputs": [],
   "source": [
    "def flatten(lst_of_lsts):\n",
    "    output = []\n",
    "    for element in lst_of_lsts:\n",
    "        if type(element) == list:\n",
    "            output.extend(element)\n",
    "    return list(set(output))"
   ]
  },
  {
   "cell_type": "code",
   "execution_count": 106,
   "metadata": {
    "tags": []
   },
   "outputs": [],
   "source": [
    "newdict = {key: flatten(value) for key, value in mapping_dict.items()}\n",
    "newdict[775971] = ['Golder Associates']\n",
    "newdict[786189] = ['TERA Environmental Consultants']\n",
    "df2['consultant_name'] = df2['filingId'].map(newdict)"
   ]
  },
  {
   "cell_type": "code",
   "execution_count": 107,
   "metadata": {
    "tags": []
   },
   "outputs": [
    {
     "output_type": "stream",
     "name": "stderr",
     "text": "mupdf: No default Layer config\nmupdf: invalid page object\nmupdf: invalid page object\nmupdf: invalid page object\nmupdf: invalid page object\nmupdf: invalid page object\nmupdf: invalid page object\nmupdf: invalid page object\nmupdf: invalid page object\nmupdf: invalid page object\n"
    }
   ],
   "source": [
    "pdf_name = []\n",
    "for line, row in enumerate(df2.itertuples(),1):  ## use head method with dataframe in order to slice the data when using itertuples() example df1.head(2).itertuples()\n",
    "    if len(row.consultant_name) == 0:\n",
    "        pdf_name.append(row.pdfName)\n",
    "        try:\n",
    "            pdf_file = open('G:/Dev/PCMR/pdf_files/' + row.pdfName + '.pdf', 'rb').read()\n",
    "            pdf_doc = fitz.open('pdf', pdf_file)\n",
    "        except:\n",
    "            print('File: {} failed to open'.format(row.pdfName))\n",
    "        if 'table of contents' not in row.xmlContent.lower() or len(pdf_doc.loadPage(1).getText(\"text\")) == 0:\n",
    "            page_content = pdf_doc.loadPage(2).getText(\"text\").lower()\n",
    "        else:\n",
    "            page_content = pdf_doc.loadPage(1).getText(\"text\").lower()\n",
    "        consultant_name_step2 = []\n",
    "        for name in consultant_name_lst:\n",
    "            if name.lower() in page_content:\n",
    "                consultant_name_step2.append(name)\n",
    "        df2.set_value(row.Index, 'consultant_name', consultant_name_step2) # reference: https://stackoverflow.com/questions/43222878/iterate-over-pandas-dataframe-and-update-the-value-attributeerror-cant-set-a"
   ]
  },
  {
   "cell_type": "code",
   "execution_count": 109,
   "metadata": {},
   "outputs": [],
   "source": [
    "columns  = ['pdfId', 'pdfName', 'filingId', 'totalPages', 'application_id', 'submitter', 'company', 'consultant_name']\n",
    "df2.to_csv('check_df3.csv', encoding = 'utf-8-sig', columns = columns)"
   ]
  },
  {
   "cell_type": "code",
   "execution_count": null,
   "metadata": {},
   "outputs": [],
   "source": [
    "'''pdf_name = []\n",
    "main_consultant_name_step2 = []\n",
    "for line, row in enumerate(df2.itertuples(),1):  ## use head method with dataframe in order to slice the data when using itertuples() example df1.head(2).itertuples()\n",
    "    if len(row.consultant_name) == 0:\n",
    "        pdf_file = open('G:/Dev/PCMR/pdf_files/' + row.pdfName + '.pdf', 'rb')\n",
    "        read_pdf = PyPDF2.PdfFileReader(pdf_file)\n",
    "        if 'table of contents' not in row.xmlContent.lower():\n",
    "            page_content = read_pdf.getPage(2).extractText().lower()\n",
    "            Research = re.search(string,page_content)\n",
    "            print(row.pdfName,Research)     \n",
    "        pd\n",
    "        text = row.xmlContent.lower().strip().split(\"table of contents\")\n",
    "        text_tuple = '_'.join(text[:1]), '_'.join(text[1:])\n",
    "        text_before_TOC = text_tuple[0]\n",
    "        consultant_name_step2 = []\n",
    "        for name in consultant_name_lst:\n",
    "            if name.lower() in text_before_TOC:\n",
    "                consultant_name_step2.append(name)\n",
    "        main_consultant_name_step2.append(consultant_name_step2)\n",
    "                #df1.set_value(row.Index, 'consultant_name', name) # reference: https://stackoverflow.com/questions/43222878/iterate-over-pandas-dataframe-and-update-the-value-attributeerror-cant-set-a'''"
   ]
  }
 ],
 "metadata": {
  "kernelspec": {
   "display_name": "Python 3.7.4 64-bit",
   "language": "python",
   "name": "python37464bit44ddb9ad7b944aa98606efee99bf806f"
  },
  "language_info": {
   "codemirror_mode": {
    "name": "ipython",
    "version": 3
   },
   "file_extension": ".py",
   "mimetype": "text/x-python",
   "name": "python",
   "nbconvert_exporter": "python",
   "pygments_lexer": "ipython3",
   "version": "3.7.4-final"
  }
 },
 "nbformat": 4,
 "nbformat_minor": 2
}