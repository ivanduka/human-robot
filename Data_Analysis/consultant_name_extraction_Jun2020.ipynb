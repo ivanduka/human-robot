{
 "cells": [
  {
   "cell_type": "code",
   "execution_count": 56,
   "metadata": {},
   "outputs": [],
   "source": [
    "from sqlalchemy import text, create_engine\n",
    "import pandas as pd\n",
    "from PIL import Image \n",
    "import pytesseract \n",
    "import sys \n",
    "from pdf2image import convert_from_path \n",
    "import os "
   ]
  },
  {
   "cell_type": "code",
   "execution_count": 57,
   "metadata": {},
   "outputs": [],
   "source": [
    "# Importing environmental variables library that reads from the .env file\n",
    "from dotenv import load_dotenv\n",
    "\n",
    "# Loading key-value pairs from the .env file into the OS environment\n",
    "load_dotenv()\n",
    "\n",
    "# Reading the key-value pairs from the OS environment\n",
    "user = os.getenv(\"DB_USER\")\n",
    "password = os.getenv(\"DB_PASS\")\n",
    "db_hostname = os.getenv(\"DB_HOST\")\n",
    "db_name = os.getenv(\"DB_DATABASE\")\n",
    "\n",
    "# Using those variables in the connection string using \"F\" strings\n",
    "conn_string = f\"mysql+mysqldb://{user}:{password}@{db_hostname}/{db_name}?charset=utf8mb4\"\n",
    "engine = create_engine(conn_string)"
   ]
  },
  {
   "cell_type": "code",
   "execution_count": 58,
   "metadata": {},
   "outputs": [],
   "source": [
    "consultant_name_df = pd.read_excel('G:/Post Construction/metadata csvs/consultants.xlsx', encoding = 'utf-8-sig')\n",
    "consultant_name_lst = consultant_name_df[\"consultant_name\"].tolist()"
   ]
  },
  {
   "cell_type": "code",
   "execution_count": 59,
   "metadata": {},
   "outputs": [],
   "source": [
    "with engine.connect() as conn: ## with context manager with, we don't have to close the connection everytime we run queries\n",
    "    query1 = \"SELECT * FROM pdfs;\"\n",
    "    df1 = pd.read_sql(query1, conn)"
   ]
  },
  {
   "cell_type": "code",
   "execution_count": 60,
   "metadata": {
    "tags": []
   },
   "outputs": [],
   "source": [
    "main_consultant_name = []\n",
    "pytesseract.pytesseract.tesseract_cmd = r'C:\\Users\\t1nipun\\AppData\\Local\\Tesseract-OCR\\tesseract.exe'\n",
    "for file in df1['pdfName']:\n",
    "    pages = convert_from_path(\"G:/Post Construction/PCMR_All/\" + file + '.pdf', 500, last_page = 1)\n",
    "    for page in pages:\n",
    "        filename = file +'_Page1.jpg'\n",
    "        page.save(\"C:/Users/t1nipun/Desktop/PCMR/human-robot/Data_Analysis/pdf_firstpage_img/\" + filename, 'JPEG')\n",
    "        text = str(((pytesseract.image_to_string(Image.open(\"C:/Users/t1nipun/Desktop/PCMR/human-robot/Data_Analysis/pdf_firstpage_img/\" + filename))))).lower()\n",
    "        consultant_name = []\n",
    "        for name in consultant_name_lst:\n",
    "            if name.lower() in text:\n",
    "                consultant_name.append(name)\n",
    "        main_consultant_name.append(consultant_name)"
   ]
  },
  {
   "cell_type": "code",
   "execution_count": 66,
   "metadata": {},
   "outputs": [
    {
     "output_type": "execute_result",
     "data": {
      "text/plain": "       pdfId                                            pdfName  pdfSize  \\\n0     337444  A0L2F6 - 002 Ekwan Post Construction Monitorin...     0.05   \n1     340413  A0L3K4 - Kwoen Facilities and Re-injection Ext...     1.02   \n2     399963  A0T5H7 - Kwoen Re-injection Pipeline - 3rd Yea...     1.60   \n3     408901  A0U3V0 - 002 Post Construction Monitoring - Au...     0.54   \n4     476639  B-14R Appendix MPLA-SAPL IR 43 b) - TERA Post ...     7.16   \n..       ...                                                ...      ...   \n244  3751108  A97686-2 Attachment 1 - Post Construction Envi...     7.28   \n245  3751134  A97703-2 NWML_Cranberry Section_Year 5_PCMR_Ja...     4.47   \n246  3751136  A97703-4 NWML_Timberwolf Section_Year 5_PCMR_J...     5.97   \n247  3751154  A97723-1 Eastern ML Exp._Parkway Loop Sections...     2.58   \n248  3754529  A97973-2 Pine River Aerial Crossing Project Po...     4.18   \n\n     filingId                date  totalPages  status  \\\n0      337440 2004-10-06 14:46:30          11  locked   \n1      340412 2004-11-15 11:07:40          19  locked   \n2      399962 2006-03-06 16:18:03          25  locked   \n3      409162 2006-05-30 09:23:58          29  locked   \n4      476698 2007-09-10 12:30:32         301  locked   \n..        ...                 ...         ...     ...   \n244   3751106 2019-01-28 16:06:17         113  locked   \n245   3751132 2019-01-29 14:04:08          58  locked   \n246   3751132 2019-01-29 14:04:19         104  locked   \n247   3750786 2019-01-30 16:15:18          61  locked   \n248   3754527 2019-02-20 08:49:12          29  locked   \n\n                                            xmlContent  application_id  \\\n0    <html xmlns=\"http://www.w3.org/1999/xhtml\">\\n<...          268876   \n1    <html xmlns=\"http://www.w3.org/1999/xhtml\">\\n<...          139307   \n2    <html xmlns=\"http://www.w3.org/1999/xhtml\">\\n<...          139307   \n3    <html xmlns=\"http://www.w3.org/1999/xhtml\">\\n<...          268876   \n4    <html xmlns=\"http://www.w3.org/1999/xhtml\">\\n<...          465178   \n..                                                 ...             ...   \n244  <html xmlns=\"http://www.w3.org/1999/xhtml\">\\n<...          893373   \n245  <html xmlns=\"http://www.w3.org/1999/xhtml\">\\n<...          737909   \n246  <html xmlns=\"http://www.w3.org/1999/xhtml\">\\n<...          737909   \n247  <html xmlns=\"http://www.w3.org/1999/xhtml\">\\n<...          753662   \n248  <html xmlns=\"http://www.w3.org/1999/xhtml\">\\n<...         3024883   \n\n                                             submitter  \\\n0                           EnCana Ekwan Pipeline Inc.   \n1         Westcoast Energy Inc., a Duke Energy company   \n2    Westcoast Energy Inc., carrying on business as...   \n3                                       Alan K. Haskey   \n4                              Enbridge Pipelines Inc.   \n..                                                 ...   \n244                            Enbridge Pipelines Inc.   \n245                         NOVA Gas Transmission Ltd.   \n246                         NOVA Gas Transmission Ltd.   \n247                      TransCanada PipeLines Limited   \n248  Westcoast Energy Inc., doing business as Spect...   \n\n                           company                      consultant_name  \n0       EnCana Ekwan Pipeline Inc.  [AXYS Environmental Consulting Ltd]  \n1            Westcoast Energy Inc.                                   []  \n2            Westcoast Energy Inc.                                   []  \n3       EnCana Ekwan Pipeline Inc.  [AXYS Environmental Consulting Ltd]  \n4          Enbridge Pipelines Inc.                                   []  \n..                             ...                                  ...  \n244        Enbridge Pipelines Inc.                                   []  \n245     NOVA Gas Transmission Ltd.                                   []  \n246     NOVA Gas Transmission Ltd.                                   []  \n247  TransCanada PipeLines Limited                                   []  \n248          Westcoast Energy Inc.                                   []  \n\n[249 rows x 12 columns]",
      "text/html": "<div>\n<style scoped>\n    .dataframe tbody tr th:only-of-type {\n        vertical-align: middle;\n    }\n\n    .dataframe tbody tr th {\n        vertical-align: top;\n    }\n\n    .dataframe thead th {\n        text-align: right;\n    }\n</style>\n<table border=\"1\" class=\"dataframe\">\n  <thead>\n    <tr style=\"text-align: right;\">\n      <th></th>\n      <th>pdfId</th>\n      <th>pdfName</th>\n      <th>pdfSize</th>\n      <th>filingId</th>\n      <th>date</th>\n      <th>totalPages</th>\n      <th>status</th>\n      <th>xmlContent</th>\n      <th>application_id</th>\n      <th>submitter</th>\n      <th>company</th>\n      <th>consultant_name</th>\n    </tr>\n  </thead>\n  <tbody>\n    <tr>\n      <td>0</td>\n      <td>337444</td>\n      <td>A0L2F6 - 002 Ekwan Post Construction Monitorin...</td>\n      <td>0.05</td>\n      <td>337440</td>\n      <td>2004-10-06 14:46:30</td>\n      <td>11</td>\n      <td>locked</td>\n      <td>&lt;html xmlns=\"http://www.w3.org/1999/xhtml\"&gt;\\n&lt;...</td>\n      <td>268876</td>\n      <td>EnCana Ekwan Pipeline Inc.</td>\n      <td>EnCana Ekwan Pipeline Inc.</td>\n      <td>[AXYS Environmental Consulting Ltd]</td>\n    </tr>\n    <tr>\n      <td>1</td>\n      <td>340413</td>\n      <td>A0L3K4 - Kwoen Facilities and Re-injection Ext...</td>\n      <td>1.02</td>\n      <td>340412</td>\n      <td>2004-11-15 11:07:40</td>\n      <td>19</td>\n      <td>locked</td>\n      <td>&lt;html xmlns=\"http://www.w3.org/1999/xhtml\"&gt;\\n&lt;...</td>\n      <td>139307</td>\n      <td>Westcoast Energy Inc., a Duke Energy company</td>\n      <td>Westcoast Energy Inc.</td>\n      <td>[]</td>\n    </tr>\n    <tr>\n      <td>2</td>\n      <td>399963</td>\n      <td>A0T5H7 - Kwoen Re-injection Pipeline - 3rd Yea...</td>\n      <td>1.60</td>\n      <td>399962</td>\n      <td>2006-03-06 16:18:03</td>\n      <td>25</td>\n      <td>locked</td>\n      <td>&lt;html xmlns=\"http://www.w3.org/1999/xhtml\"&gt;\\n&lt;...</td>\n      <td>139307</td>\n      <td>Westcoast Energy Inc., carrying on business as...</td>\n      <td>Westcoast Energy Inc.</td>\n      <td>[]</td>\n    </tr>\n    <tr>\n      <td>3</td>\n      <td>408901</td>\n      <td>A0U3V0 - 002 Post Construction Monitoring - Au...</td>\n      <td>0.54</td>\n      <td>409162</td>\n      <td>2006-05-30 09:23:58</td>\n      <td>29</td>\n      <td>locked</td>\n      <td>&lt;html xmlns=\"http://www.w3.org/1999/xhtml\"&gt;\\n&lt;...</td>\n      <td>268876</td>\n      <td>Alan K. Haskey</td>\n      <td>EnCana Ekwan Pipeline Inc.</td>\n      <td>[AXYS Environmental Consulting Ltd]</td>\n    </tr>\n    <tr>\n      <td>4</td>\n      <td>476639</td>\n      <td>B-14R Appendix MPLA-SAPL IR 43 b) - TERA Post ...</td>\n      <td>7.16</td>\n      <td>476698</td>\n      <td>2007-09-10 12:30:32</td>\n      <td>301</td>\n      <td>locked</td>\n      <td>&lt;html xmlns=\"http://www.w3.org/1999/xhtml\"&gt;\\n&lt;...</td>\n      <td>465178</td>\n      <td>Enbridge Pipelines Inc.</td>\n      <td>Enbridge Pipelines Inc.</td>\n      <td>[]</td>\n    </tr>\n    <tr>\n      <td>...</td>\n      <td>...</td>\n      <td>...</td>\n      <td>...</td>\n      <td>...</td>\n      <td>...</td>\n      <td>...</td>\n      <td>...</td>\n      <td>...</td>\n      <td>...</td>\n      <td>...</td>\n      <td>...</td>\n      <td>...</td>\n    </tr>\n    <tr>\n      <td>244</td>\n      <td>3751108</td>\n      <td>A97686-2 Attachment 1 - Post Construction Envi...</td>\n      <td>7.28</td>\n      <td>3751106</td>\n      <td>2019-01-28 16:06:17</td>\n      <td>113</td>\n      <td>locked</td>\n      <td>&lt;html xmlns=\"http://www.w3.org/1999/xhtml\"&gt;\\n&lt;...</td>\n      <td>893373</td>\n      <td>Enbridge Pipelines Inc.</td>\n      <td>Enbridge Pipelines Inc.</td>\n      <td>[]</td>\n    </tr>\n    <tr>\n      <td>245</td>\n      <td>3751134</td>\n      <td>A97703-2 NWML_Cranberry Section_Year 5_PCMR_Ja...</td>\n      <td>4.47</td>\n      <td>3751132</td>\n      <td>2019-01-29 14:04:08</td>\n      <td>58</td>\n      <td>locked</td>\n      <td>&lt;html xmlns=\"http://www.w3.org/1999/xhtml\"&gt;\\n&lt;...</td>\n      <td>737909</td>\n      <td>NOVA Gas Transmission Ltd.</td>\n      <td>NOVA Gas Transmission Ltd.</td>\n      <td>[]</td>\n    </tr>\n    <tr>\n      <td>246</td>\n      <td>3751136</td>\n      <td>A97703-4 NWML_Timberwolf Section_Year 5_PCMR_J...</td>\n      <td>5.97</td>\n      <td>3751132</td>\n      <td>2019-01-29 14:04:19</td>\n      <td>104</td>\n      <td>locked</td>\n      <td>&lt;html xmlns=\"http://www.w3.org/1999/xhtml\"&gt;\\n&lt;...</td>\n      <td>737909</td>\n      <td>NOVA Gas Transmission Ltd.</td>\n      <td>NOVA Gas Transmission Ltd.</td>\n      <td>[]</td>\n    </tr>\n    <tr>\n      <td>247</td>\n      <td>3751154</td>\n      <td>A97723-1 Eastern ML Exp._Parkway Loop Sections...</td>\n      <td>2.58</td>\n      <td>3750786</td>\n      <td>2019-01-30 16:15:18</td>\n      <td>61</td>\n      <td>locked</td>\n      <td>&lt;html xmlns=\"http://www.w3.org/1999/xhtml\"&gt;\\n&lt;...</td>\n      <td>753662</td>\n      <td>TransCanada PipeLines Limited</td>\n      <td>TransCanada PipeLines Limited</td>\n      <td>[]</td>\n    </tr>\n    <tr>\n      <td>248</td>\n      <td>3754529</td>\n      <td>A97973-2 Pine River Aerial Crossing Project Po...</td>\n      <td>4.18</td>\n      <td>3754527</td>\n      <td>2019-02-20 08:49:12</td>\n      <td>29</td>\n      <td>locked</td>\n      <td>&lt;html xmlns=\"http://www.w3.org/1999/xhtml\"&gt;\\n&lt;...</td>\n      <td>3024883</td>\n      <td>Westcoast Energy Inc., doing business as Spect...</td>\n      <td>Westcoast Energy Inc.</td>\n      <td>[]</td>\n    </tr>\n  </tbody>\n</table>\n<p>249 rows × 12 columns</p>\n</div>"
     },
     "metadata": {},
     "execution_count": 66
    }
   ],
   "source": [
    "df1['consultant_name'] = main_consultant_name\n",
    "df1"
   ]
  },
  {
   "cell_type": "code",
   "execution_count": 65,
   "metadata": {},
   "outputs": [],
   "source": [
    "# columns  = ['pdfId', 'pdfName', 'filingId', 'totalPages', 'application_id', 'submitter', 'company', 'consultant_name']\n",
    "# df1.to_csv('consultant_name_analysis.csv', encoding = 'utf-8-sig', columns = columns)"
   ]
  },
  {
   "cell_type": "code",
   "execution_count": null,
   "metadata": {},
   "outputs": [],
   "source": []
  }
 ],
 "metadata": {
  "kernelspec": {
   "display_name": "Python 3",
   "language": "python",
   "name": "python3"
  },
  "language_info": {
   "codemirror_mode": {
    "name": "ipython",
    "version": 3
   },
   "file_extension": ".py",
   "mimetype": "text/x-python",
   "name": "python",
   "nbconvert_exporter": "python",
   "pygments_lexer": "ipython3",
   "version": "3.7.4"
  }
 },
 "nbformat": 4,
 "nbformat_minor": 2
}