{
 "cells": [
  {
   "cell_type": "code",
   "execution_count": 1,
   "metadata": {},
   "outputs": [],
   "source": [
    "import pandas as pd\n",
    "import PyPDF2 as p2\n",
    "import re\n",
    "import os\n",
    "from IPython.core.interactiveshell import InteractiveShell\n",
    "InteractiveShell.ast_node_interactivity = \"all\"\n",
    "\n",
    "import os\n",
    "from PyPDF2 import PdfFileReader, PdfFileWriter\n",
    "\n",
    "from PIL import Image\n",
    "# import ghostscript\n",
    "# from pdf2image import convert_from_path\n",
    "\n",
    "from IPython.core.interactiveshell import InteractiveShell\n",
    "InteractiveShell.ast_node_interactivity = \"all\""
   ]
  },
  {
   "cell_type": "code",
   "execution_count": 2,
   "metadata": {},
   "outputs": [],
   "source": [
    "#import location_extractor\n",
    "import re \n",
    "\n",
    "import re\n",
    "#import math\n",
    "#import collections\n",
    "\n",
    "#import gis_converter\n",
    "import html_analyzer\n",
    "import util"
   ]
  },
  {
   "cell_type": "code",
   "execution_count": 3,
   "metadata": {},
   "outputs": [],
   "source": [
    "def get_page_text(file_path, page_no):\n",
    "    try:\n",
    "        object = p2.PdfFileReader(file_path)\n",
    "        PageObj = object.getPage(page_no)\n",
    "        Text = PageObj.extractText()\n",
    "        Text = Text.replace('\\n','').replace('\\r','')\n",
    "    except:\n",
    "        Text = \"XXXXXXXXXXXXXXXXXXXXX Text could not be extracted for File {} for Page Number {} XXXXXXXXXXXX\".format(file_path, page_no)\n",
    "        print(Text)\n",
    "    return(Text)\n",
    "    "
   ]
  },
  {
   "cell_type": "code",
   "execution_count": 4,
   "metadata": {},
   "outputs": [],
   "source": [
    "path = 'C:\\\\Users\\\\T1Vibudh\\\\Desktop\\\\A81200-1_EAS0005250_Dephi_Pesh_Petitot_Pipeline_CSA_Phase_I_Report__Final_-_A5H9Q6.pdf'\n",
    "text = get_page_text(path, 19)"
   ]
  },
  {
   "cell_type": "code",
   "execution_count": 5,
   "metadata": {},
   "outputs": [
    {
     "data": {
      "text/plain": [
       "' Canadian Standards Association Phase I Environmental Site Assessment  Delphi Energy Corp.  Pesh Petitot Pipeline  Project No. EAS005250 15 The pipeline was discontinued by the previous owner and therefore was never under Delphi operation, therefore an operator interview could not be conducted.  6.0   The site assessment was conducted during a period of snow cover and therefore some surface conditions were unidentifiable. Sloughed-in roaches, valves and the line heater were unable to be investigated closely due to a lack of a safe clear spot for the helicopter to land. Additionally company and insurance records were unavailable for review. Based on previous ownership of the pipeline, an operator interview could not be conducted with Delphi as the pipeline was discontinued upon purchase.   According to these limitations, it is possible that not all areas of potential environmental concern have been identified; however, all encountered during this investigation have been described in this report. 7.0   The Site is a 15.1 km pipeline ROW travelling from B-016-I/094-P-08 in British Columbia to 13-08-121-11 W6 in Alberta. The area is zoned as natural land use. According to the aerial photograph reconnaissance, the site visit, the interviews and the review of all available reports and documentation, the following was determined:  There was no indication that any major spills have occurred at the Site.  Infrastructure within the pipeline ROW includes a line heater and valves. Special attention items such as ACMs, lead, and PCBs are not a concern at the Site. This is due to the nature of infrastructure present and the time that the Site, as it currently exists, was constructed and operated. The Site is partially contained within the Delphi 100/12-08-121-11 W6 well/dehydrator site. Infrastructure associated to the well/dehydrator site includes eight unidentifiable buildings, above ground piping and  Pits were identified east of the pipeline ROW within 09 and 12-08-121-11 W6 and one east of B-016-I/094-P-08 wellsite. In addition, a borrow pit was identified west of the pipeline ROW within 09-01-121-12 W6. It is unknown if these pits are associated with the pipeline ROW.  Sloughed in roaches areas were observed within the pipeline ROW.  Any impacts associated to the infrastructure on the Delphi 100/12-08-121-11 W6 well/dehydrator site are considered to be associated with the well/dehydrator site and not to the Site.  8.0   Alberta Environment and Parks, Environmental Site Assessment Repository Services. 2016. Web: http://www.esar.alberta.ca/esarmain.aspx. Accessed on December 9, 2016.  '"
      ]
     },
     "execution_count": 5,
     "metadata": {},
     "output_type": "execute_result"
    }
   ],
   "source": [
    "text"
   ]
  },
  {
   "cell_type": "code",
   "execution_count": 12,
   "metadata": {},
   "outputs": [
    {
     "data": {
      "text/plain": [
       "[]"
      ]
     },
     "execution_count": 12,
     "metadata": {},
     "output_type": "execute_result"
    },
    {
     "data": {
      "text/plain": [
       "[dls_location(legal_subdivision=13, section=8, township=121, range=11, meridian=6, text='13-8-121-11-W6M', lat_long=lat_long_coordinate(N=59.45012128235622, W=119.84725292473699, text='59.45012128235622 N, 119.84725292473699 W')),\n",
       " dls_location(legal_subdivision=12, section=8, township=121, range=11, meridian=6, text='12-8-121-11-W6M', lat_long=lat_long_coordinate(N=59.44921671879666, W=119.8258485606171, text='59.44921671879666 N, 119.8258485606171 W')),\n",
       " dls_location(legal_subdivision=12, section=8, township=121, range=11, meridian=6, text='12-8-121-11-W6M', lat_long=lat_long_coordinate(N=59.44921671879666, W=119.8258485606171, text='59.44921671879666 N, 119.8258485606171 W')),\n",
       " dls_location(legal_subdivision=9, section=1, township=121, range=12, meridian=6, text='9-1-121-12-W6M', lat_long=lat_long_coordinate(N=59.429617841672965, W=119.88170469926263, text='59.429617841672965 N, 119.88170469926263 W')),\n",
       " dls_location(legal_subdivision=12, section=8, township=121, range=11, meridian=6, text='12-8-121-11-W6M', lat_long=lat_long_coordinate(N=59.44921671879666, W=119.8258485606171, text='59.44921671879666 N, 119.8258485606171 W'))]"
      ]
     },
     "execution_count": 12,
     "metadata": {},
     "output_type": "execute_result"
    },
    {
     "data": {
      "text/plain": [
       "[]"
      ]
     },
     "execution_count": 12,
     "metadata": {},
     "output_type": "execute_result"
    },
    {
     "data": {
      "text/plain": [
       "[]"
      ]
     },
     "execution_count": 12,
     "metadata": {},
     "output_type": "execute_result"
    }
   ],
   "source": [
    "lat_long, dls, nts, mlv = html_analyzer.find_location_tags_from_text(text, util.clean_text(text))\n",
    "lat_long\n",
    "dls\n",
    "nts\n",
    "mlv"
   ]
  },
  {
   "cell_type": "code",
   "execution_count": null,
   "metadata": {},
   "outputs": [],
   "source": [
    "_add_to_hist(lat_long_tags, lat_long, page_number)\n",
    "_add_to_hist(dls_tags, dls, page_number)\n",
    "_add_to_hist(nts_tags, nts, page_number)\n",
    "_add_to_hist(mlv_tags, mlv, page_number)"
   ]
  }
 ],
 "metadata": {
  "kernelspec": {
   "display_name": "Python 3",
   "language": "python",
   "name": "python3"
  },
  "language_info": {
   "codemirror_mode": {
    "name": "ipython",
    "version": 3
   },
   "file_extension": ".py",
   "mimetype": "text/x-python",
   "name": "python",
   "nbconvert_exporter": "python",
   "pygments_lexer": "ipython3",
   "version": "3.7.4"
  }
 },
 "nbformat": 4,
 "nbformat_minor": 2
}
