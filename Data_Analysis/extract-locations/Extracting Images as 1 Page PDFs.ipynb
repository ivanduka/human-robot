{
 "cells": [
  {
   "cell_type": "markdown",
   "metadata": {},
   "source": [
    "# Extracting Images as 1 Page PDFs"
   ]
  },
  {
   "cell_type": "code",
   "execution_count": 19,
   "metadata": {},
   "outputs": [],
   "source": [
    "import pandas as pd\n",
    "import PyPDF2 as p2\n",
    "import re\n",
    "import os\n",
    "from IPython.core.interactiveshell import InteractiveShell\n",
    "InteractiveShell.ast_node_interactivity = \"all\"\n",
    "\n",
    "import os\n",
    "from PyPDF2 import PdfFileReader, PdfFileWriter\n",
    "\n",
    "from PIL import Image\n",
    "# import ghostscript\n",
    "# from pdf2image import convert_from_path\n",
    "\n",
    "from IPython.core.interactiveshell import InteractiveShell\n",
    "InteractiveShell.ast_node_interactivity = \"all\""
   ]
  },
  {
   "cell_type": "code",
   "execution_count": 20,
   "metadata": {},
   "outputs": [],
   "source": [
    "import location_extractor\n",
    "import re \n",
    "\n",
    "import re\n",
    "#import math\n",
    "import collections\n",
    "\n",
    "import gis_converter\n",
    "#import util"
   ]
  },
  {
   "cell_type": "code",
   "execution_count": 21,
   "metadata": {},
   "outputs": [],
   "source": [
    "index2 = pd.read_csv('F:\\Environmental Baseline Data\\Version 3\\Indices\\Final\\Index 2 - List of PDFs for Major Projects with ESAs.csv')\n",
    "ngtl_2021 = index2[index2['Application title short'].str.contains(\"Application for 2021 NGTL System Expansion Project\")]"
   ]
  },
  {
   "cell_type": "code",
   "execution_count": 22,
   "metadata": {},
   "outputs": [],
   "source": [
    "index2 = pd.read_csv('F:\\Environmental Baseline Data\\Version 3\\Indices\\Final\\Index 2 - List of PDFs for Major Projects with ESAs.csv')\n",
    "ngtl_2021 = index2[index2['Application title short'].str.contains(\"Application for 2021 NGTL System Expansion Project\")]\n",
    "ngtl_2021_pdfs = ngtl_2021['PDF file name'].tolist()\n",
    "\n",
    "path = 'F:/Environmental Baseline Data/Version 3/Data/PDF/'\n",
    "ngtl_2021_pdfs_path = [path + x for x in ngtl_2021_pdfs]\n",
    "\n",
    "\n",
    "def get_list_elements(s, level):\n",
    "    if isinstance(s, list):\n",
    "        for x in s:\n",
    "            get_list_elements(x, level+1)\n",
    "    else:\n",
    "        data.append({'pdf_name': y.split('/')[-1], 'outline_item' : s.title, 'page_number' : pdf_reader.getDestinationPageNumber(s) + 1, 'Level' : level, 'pdf_path' : y})\n",
    "    return\n",
    "\n",
    "data = []\n",
    "for y in ngtl_2021_pdfs_path:\n",
    "    PDFfile = open(y, 'rb')\n",
    "    pdf_reader = p2.PdfFileReader(PDFfile)\n",
    "    \n",
    "    get_list_elements(pdf_reader.outlines, 0)\n",
    "df_outlines = pd.DataFrame(data)"
   ]
  },
  {
   "cell_type": "markdown",
   "metadata": {},
   "source": [
    "### Extracting Images from the Outlines "
   ]
  },
  {
   "cell_type": "code",
   "execution_count": 5,
   "metadata": {},
   "outputs": [
    {
     "data": {
      "text/plain": [
       "['Image',\n",
       " 'Images',\n",
       " 'IMAGE',\n",
       " 'IMAGES',\n",
       " 'Figure',\n",
       " 'Figures',\n",
       " 'FIGURE',\n",
       " 'FIGURES',\n",
       " 'Photo',\n",
       " 'Photos',\n",
       " 'PHOTO',\n",
       " 'PHOTOS']"
      ]
     },
     "execution_count": 5,
     "metadata": {},
     "output_type": "execute_result"
    }
   ],
   "source": [
    "\n",
    "#LABEL_HEADINGS =        ('plate', 'figure', 'photo', 'image', 'table', 'appendix')\n",
    "#LABEL_HEADINGS_PLURAL = ('plates', 'figures', 'photos', 'images', 'tables', 'appendices')\n",
    "searchlist = ['Image', 'Figure', 'Photo']\n",
    "searchfor = []\n",
    "for search in searchlist:\n",
    "    searchfor.append(search)\n",
    "    searchfor.append(search + 's')\n",
    "    searchfor.append(search.upper())\n",
    "    searchfor.append(search.upper() + 'S')\n",
    "searchfor"
   ]
  },
  {
   "cell_type": "code",
   "execution_count": 6,
   "metadata": {},
   "outputs": [
    {
     "data": {
      "text/html": [
       "<div>\n",
       "<style scoped>\n",
       "    .dataframe tbody tr th:only-of-type {\n",
       "        vertical-align: middle;\n",
       "    }\n",
       "\n",
       "    .dataframe tbody tr th {\n",
       "        vertical-align: top;\n",
       "    }\n",
       "\n",
       "    .dataframe thead th {\n",
       "        text-align: right;\n",
       "    }\n",
       "</style>\n",
       "<table border=\"1\" class=\"dataframe\">\n",
       "  <thead>\n",
       "    <tr style=\"text-align: right;\">\n",
       "      <th></th>\n",
       "      <th>pdf_name</th>\n",
       "      <th>outline_item</th>\n",
       "      <th>page_number</th>\n",
       "      <th>Level</th>\n",
       "      <th>pdf_path</th>\n",
       "    </tr>\n",
       "  </thead>\n",
       "  <tbody>\n",
       "    <tr>\n",
       "      <td>8</td>\n",
       "      <td>A6F4Q3.pdf</td>\n",
       "      <td>Figure 1.3–1: 2021 NGTL System Expansion Proje...</td>\n",
       "      <td>16</td>\n",
       "      <td>5</td>\n",
       "      <td>F:/Environmental Baseline Data/Version 3/Data/...</td>\n",
       "    </tr>\n",
       "    <tr>\n",
       "      <td>46</td>\n",
       "      <td>A6F4Q3.pdf</td>\n",
       "      <td>Figure 2.6–1: Preliminary Construction Schedule</td>\n",
       "      <td>50</td>\n",
       "      <td>5</td>\n",
       "      <td>F:/Environmental Baseline Data/Version 3/Data/...</td>\n",
       "    </tr>\n",
       "    <tr>\n",
       "      <td>68</td>\n",
       "      <td>A6F4Q3.pdf</td>\n",
       "      <td>Figure 4.3–1: Local Study Area (Pipeline)</td>\n",
       "      <td>71</td>\n",
       "      <td>4</td>\n",
       "      <td>F:/Environmental Baseline Data/Version 3/Data/...</td>\n",
       "    </tr>\n",
       "    <tr>\n",
       "      <td>69</td>\n",
       "      <td>A6F4Q3.pdf</td>\n",
       "      <td>Figure 4.3–2: Local Study Area (Compressor Sta...</td>\n",
       "      <td>72</td>\n",
       "      <td>4</td>\n",
       "      <td>F:/Environmental Baseline Data/Version 3/Data/...</td>\n",
       "    </tr>\n",
       "    <tr>\n",
       "      <td>70</td>\n",
       "      <td>A6F4Q3.pdf</td>\n",
       "      <td>Figure 4.3–3: Regional Study Area</td>\n",
       "      <td>73</td>\n",
       "      <td>4</td>\n",
       "      <td>F:/Environmental Baseline Data/Version 3/Data/...</td>\n",
       "    </tr>\n",
       "    <tr>\n",
       "      <td>87</td>\n",
       "      <td>A6F4Q3.pdf</td>\n",
       "      <td>Figure 4.4–1: Study Areas for Cumulative Effects</td>\n",
       "      <td>90</td>\n",
       "      <td>4</td>\n",
       "      <td>F:/Environmental Baseline Data/Version 3/Data/...</td>\n",
       "    </tr>\n",
       "    <tr>\n",
       "      <td>92</td>\n",
       "      <td>A6F4Q3.pdf</td>\n",
       "      <td>Figure 4.4–2: Forestry Management Areas</td>\n",
       "      <td>99</td>\n",
       "      <td>4</td>\n",
       "      <td>F:/Environmental Baseline Data/Version 3/Data/...</td>\n",
       "    </tr>\n",
       "    <tr>\n",
       "      <td>95</td>\n",
       "      <td>A6F4Q3.pdf</td>\n",
       "      <td>Figure 4.4–3: Population Projections Scenario ...</td>\n",
       "      <td>101</td>\n",
       "      <td>4</td>\n",
       "      <td>F:/Environmental Baseline Data/Version 3/Data/...</td>\n",
       "    </tr>\n",
       "    <tr>\n",
       "      <td>98</td>\n",
       "      <td>A6F4Q3.pdf</td>\n",
       "      <td>Figure 4.4–4: Reasonably Foreseeable Projects</td>\n",
       "      <td>104</td>\n",
       "      <td>4</td>\n",
       "      <td>F:/Environmental Baseline Data/Version 3/Data/...</td>\n",
       "    </tr>\n",
       "    <tr>\n",
       "      <td>112</td>\n",
       "      <td>A6F4Q4.pdf</td>\n",
       "      <td>Figure 5.1–1: Natural Regions and Subregions</td>\n",
       "      <td>5</td>\n",
       "      <td>4</td>\n",
       "      <td>F:/Environmental Baseline Data/Version 3/Data/...</td>\n",
       "    </tr>\n",
       "  </tbody>\n",
       "</table>\n",
       "</div>"
      ],
      "text/plain": [
       "       pdf_name                                       outline_item  \\\n",
       "8    A6F4Q3.pdf  Figure 1.3–1: 2021 NGTL System Expansion Proje...   \n",
       "46   A6F4Q3.pdf    Figure 2.6–1: Preliminary Construction Schedule   \n",
       "68   A6F4Q3.pdf          Figure 4.3–1: Local Study Area (Pipeline)   \n",
       "69   A6F4Q3.pdf  Figure 4.3–2: Local Study Area (Compressor Sta...   \n",
       "70   A6F4Q3.pdf                  Figure 4.3–3: Regional Study Area   \n",
       "87   A6F4Q3.pdf  Figure 4.4–1: Study Areas for Cumulative Effects    \n",
       "92   A6F4Q3.pdf            Figure 4.4–2: Forestry Management Areas   \n",
       "95   A6F4Q3.pdf  Figure 4.4–3: Population Projections Scenario ...   \n",
       "98   A6F4Q3.pdf      Figure 4.4–4: Reasonably Foreseeable Projects   \n",
       "112  A6F4Q4.pdf       Figure 5.1–1: Natural Regions and Subregions   \n",
       "\n",
       "     page_number  Level                                           pdf_path  \n",
       "8             16      5  F:/Environmental Baseline Data/Version 3/Data/...  \n",
       "46            50      5  F:/Environmental Baseline Data/Version 3/Data/...  \n",
       "68            71      4  F:/Environmental Baseline Data/Version 3/Data/...  \n",
       "69            72      4  F:/Environmental Baseline Data/Version 3/Data/...  \n",
       "70            73      4  F:/Environmental Baseline Data/Version 3/Data/...  \n",
       "87            90      4  F:/Environmental Baseline Data/Version 3/Data/...  \n",
       "92            99      4  F:/Environmental Baseline Data/Version 3/Data/...  \n",
       "95           101      4  F:/Environmental Baseline Data/Version 3/Data/...  \n",
       "98           104      4  F:/Environmental Baseline Data/Version 3/Data/...  \n",
       "112            5      4  F:/Environmental Baseline Data/Version 3/Data/...  "
      ]
     },
     "execution_count": 6,
     "metadata": {},
     "output_type": "execute_result"
    }
   ],
   "source": [
    "df_outlines_figures = df_outlines[df_outlines['outline_item'].str.contains('|'.join(searchfor), na = False)] \n",
    "df_outlines_figures.head(10)"
   ]
  },
  {
   "cell_type": "code",
   "execution_count": 15,
   "metadata": {},
   "outputs": [
    {
     "data": {
      "text/plain": [
       "'Figure 4.3–1: Local Study Area (Pipeline)'"
      ]
     },
     "execution_count": 15,
     "metadata": {},
     "output_type": "execute_result"
    },
    {
     "data": {
      "text/plain": [
       "388"
      ]
     },
     "execution_count": 15,
     "metadata": {},
     "output_type": "execute_result"
    },
    {
     "data": {
      "text/plain": [
       "'F:/Environmental Baseline Data/Version 3/Data/PDF/A6F4Q3.pdf'"
      ]
     },
     "execution_count": 15,
     "metadata": {},
     "output_type": "execute_result"
    }
   ],
   "source": [
    "df_outlines_figures.iloc[2]['outline_item']\n",
    "len(df_outlines_figures)\n",
    "df_outlines_figures.iloc[2]['pdf_path']"
   ]
  },
  {
   "cell_type": "code",
   "execution_count": 8,
   "metadata": {},
   "outputs": [],
   "source": [
    "def get_image_pdf(file_path, page_no):\n",
    "    #fname = os.path.splitext(os.path.basename(output_file_path))[0]\n",
    "    pdf = PdfFileReader(file_path)\n",
    "    \n",
    "    os.chdir(output_file_path)\n",
    "    pdf_writer = PdfFileWriter()\n",
    "    output_filename = '{}_page_{}.pdf'.format(file_path.split('/')[-1].split('.pdf')[0], page_no)\n",
    "    image_file_name.append(output_filename)\n",
    "    try: \n",
    "        pdf_writer.addPage(pdf.getPage(page_no))\n",
    "        with open(output_file_path + '//'+ output_filename, 'wb') as out:\n",
    "            pdf_writer.write(out)\n",
    "    except:\n",
    "        print('Image could not be extracted {}_page_{}.pdf'.format(file_path.split('/')[-1].split('.pdf')[0], page_no))\n",
    "    \n",
    "    image_path.append(output_file_path + '//'+ output_filename)\n",
    " \n",
    "    #print('Created: {}'.format(output_filename))\n",
    "    #print(os.getcwd())\n",
    "    return(output_file_path + '//'+ output_filename)"
   ]
  },
  {
   "cell_type": "code",
   "execution_count": 9,
   "metadata": {},
   "outputs": [],
   "source": [
    "def get_page_text(file_path, page_no):\n",
    "    try:\n",
    "        object = p2.PdfFileReader(file_path)\n",
    "        PageObj = object.getPage(page_no)\n",
    "        Text = PageObj.extractText()\n",
    "        Text = Text.replace('\\n','').replace('\\r','')\n",
    "    except:\n",
    "        Text = \"XXXXXXXXXXXXXXXXXXXXX Text could not be extracted for File {} for Page Number {} XXXXXXXXXXXX\".format(file_path, page_no)\n",
    "        #print(Text)\n",
    "    return(Text)\n",
    "    "
   ]
  },
  {
   "cell_type": "code",
   "execution_count": 10,
   "metadata": {},
   "outputs": [
    {
     "data": {
      "text/plain": [
       "'\")\")\")$+EdsonMcLeod RiverChip LakeGrande PrairieBrazeauReserviorNorth Saskatchewan RiverBrazeau RiverAthabasca RiverWapiti RiverSmoky RiverWildhay  RiverBerland  RiverGPML Loop No. 4(Valhalla Section)GPML Loop No. 3(Elmworth Section)GPML Loop No. 2(Karr Section)GPML Loop No. 2(Deep Valley Section)GPML Loop No. 2(McLeod RiverConnection Section)Edson ML Loop No. 2(Robb Section)Edson ML Loop No. 4(Dismal Creek Section)Edson ML Loop No. 4(Brewster Section)January CreekControl ValveNordeggCompressor Station¬«16¬«43EdmontonCalgaryDidsburyCompressor StationBeisekerCompressor StationRed Deer River¬«2Lesser Slave LakeRegional Study Area2021 NGTL System Expansion\")$+Municipality2021 NGTLSystem Expansion Project \")\")\")$+CalgaryEdmontonGrandePrairie±'"
      ]
     },
     "execution_count": 10,
     "metadata": {},
     "output_type": "execute_result"
    },
    {
     "data": {
      "text/plain": [
       "'\")\")\")$+EdsonMcLeod RiverChip LakeGrande PrairieBrazeauReserviorNorth Saskatchewan RiverBrazeau RiverAthabasca RiverWapiti RiverSmoky RiverWildhay  RiverBerland  RiverGPML Loop No. 4(Valhalla Section)GPML Loop No. 3(Elmworth Section)GPML Loop No. 2(Karr Section)GPML Loop No. 2(Deep Valley Section)GPML Loop No. 2(McLeod RiverConnection Section)Edson ML Loop No. 2(Robb Section)Edson ML Loop No. 4(Dismal Creek Section)Edson ML Loop No. 4(Brewster Section)January CreekControl ValveNordeggCompressor Station  16  43EdmontonCalgaryDidsburyCompressor StationBeisekerCompressor StationRed Deer River  2Lesser Slave LakeRegional Study Area2021 NGTL System Expansion\")$+Municipality2021 NGTLSystem Expansion Project \")\")\")$+CalgaryEdmontonGrandePrairie'"
      ]
     },
     "execution_count": 10,
     "metadata": {},
     "output_type": "execute_result"
    }
   ],
   "source": [
    "text = get_page_text(df_outlines_figures.iloc[3]['pdf_path'], df_outlines_figures.iloc[3]['page_number'])\n",
    "text\n",
    "text2 = location_extractor.clean_text(text)\n",
    "text2"
   ]
  },
  {
   "cell_type": "code",
   "execution_count": 11,
   "metadata": {},
   "outputs": [
    {
     "data": {
      "text/plain": [
       "pdf_name                                               A6F4Q7.pdf\n",
       "outline_item    Figure 12.1-28: Olive-sided Flycatcher Habitat...\n",
       "page_number                                                   216\n",
       "Level                                                           3\n",
       "pdf_path        F:/Environmental Baseline Data/Version 3/Data/...\n",
       "Name: 685, dtype: object"
      ]
     },
     "execution_count": 11,
     "metadata": {},
     "output_type": "execute_result"
    }
   ],
   "source": [
    "df_outlines_figures.iloc[184]"
   ]
  },
  {
   "cell_type": "code",
   "execution_count": 16,
   "metadata": {},
   "outputs": [
    {
     "name": "stdout",
     "output_type": "stream",
     "text": [
      "0\n"
     ]
    },
    {
     "data": {
      "text/plain": [
       "'F://Environmental Baseline Data//Version 3//Data//Images as PDFs//A6F4Q3_page_16.pdf'"
      ]
     },
     "execution_count": 16,
     "metadata": {},
     "output_type": "execute_result"
    },
    {
     "name": "stdout",
     "output_type": "stream",
     "text": [
      "1\n"
     ]
    },
    {
     "data": {
      "text/plain": [
       "'F://Environmental Baseline Data//Version 3//Data//Images as PDFs//A6F4Q3_page_50.pdf'"
      ]
     },
     "execution_count": 16,
     "metadata": {},
     "output_type": "execute_result"
    },
    {
     "name": "stdout",
     "output_type": "stream",
     "text": [
      "2\n"
     ]
    },
    {
     "data": {
      "text/plain": [
       "'F://Environmental Baseline Data//Version 3//Data//Images as PDFs//A6F4Q3_page_71.pdf'"
      ]
     },
     "execution_count": 16,
     "metadata": {},
     "output_type": "execute_result"
    },
    {
     "name": "stdout",
     "output_type": "stream",
     "text": [
      "3\n"
     ]
    },
    {
     "data": {
      "text/plain": [
       "'F://Environmental Baseline Data//Version 3//Data//Images as PDFs//A6F4Q3_page_72.pdf'"
      ]
     },
     "execution_count": 16,
     "metadata": {},
     "output_type": "execute_result"
    },
    {
     "name": "stdout",
     "output_type": "stream",
     "text": [
      "4\n"
     ]
    },
    {
     "data": {
      "text/plain": [
       "'F://Environmental Baseline Data//Version 3//Data//Images as PDFs//A6F4Q3_page_73.pdf'"
      ]
     },
     "execution_count": 16,
     "metadata": {},
     "output_type": "execute_result"
    },
    {
     "name": "stdout",
     "output_type": "stream",
     "text": [
      "5\n"
     ]
    },
    {
     "data": {
      "text/plain": [
       "'F://Environmental Baseline Data//Version 3//Data//Images as PDFs//A6F4Q3_page_90.pdf'"
      ]
     },
     "execution_count": 16,
     "metadata": {},
     "output_type": "execute_result"
    },
    {
     "name": "stdout",
     "output_type": "stream",
     "text": [
      "6\n"
     ]
    },
    {
     "data": {
      "text/plain": [
       "'F://Environmental Baseline Data//Version 3//Data//Images as PDFs//A6F4Q3_page_99.pdf'"
      ]
     },
     "execution_count": 16,
     "metadata": {},
     "output_type": "execute_result"
    },
    {
     "name": "stdout",
     "output_type": "stream",
     "text": [
      "7\n"
     ]
    },
    {
     "data": {
      "text/plain": [
       "'F://Environmental Baseline Data//Version 3//Data//Images as PDFs//A6F4Q3_page_101.pdf'"
      ]
     },
     "execution_count": 16,
     "metadata": {},
     "output_type": "execute_result"
    },
    {
     "name": "stdout",
     "output_type": "stream",
     "text": [
      "8\n"
     ]
    },
    {
     "data": {
      "text/plain": [
       "'F://Environmental Baseline Data//Version 3//Data//Images as PDFs//A6F4Q3_page_104.pdf'"
      ]
     },
     "execution_count": 16,
     "metadata": {},
     "output_type": "execute_result"
    },
    {
     "name": "stdout",
     "output_type": "stream",
     "text": [
      "9\n"
     ]
    },
    {
     "data": {
      "text/plain": [
       "'F://Environmental Baseline Data//Version 3//Data//Images as PDFs//A6F4Q4_page_5.pdf'"
      ]
     },
     "execution_count": 16,
     "metadata": {},
     "output_type": "execute_result"
    },
    {
     "name": "stdout",
     "output_type": "stream",
     "text": [
      "10\n"
     ]
    },
    {
     "data": {
      "text/plain": [
       "'F://Environmental Baseline Data//Version 3//Data//Images as PDFs//A6F4Q4_page_36.pdf'"
      ]
     },
     "execution_count": 16,
     "metadata": {},
     "output_type": "execute_result"
    },
    {
     "name": "stdout",
     "output_type": "stream",
     "text": [
      "11\n"
     ]
    },
    {
     "data": {
      "text/plain": [
       "'F://Environmental Baseline Data//Version 3//Data//Images as PDFs//A6F4Q4_page_45.pdf'"
      ]
     },
     "execution_count": 16,
     "metadata": {},
     "output_type": "execute_result"
    },
    {
     "name": "stdout",
     "output_type": "stream",
     "text": [
      "12\n"
     ]
    },
    {
     "data": {
      "text/plain": [
       "'F://Environmental Baseline Data//Version 3//Data//Images as PDFs//A6F4Q4_page_52.pdf'"
      ]
     },
     "execution_count": 16,
     "metadata": {},
     "output_type": "execute_result"
    },
    {
     "name": "stdout",
     "output_type": "stream",
     "text": [
      "13\n"
     ]
    },
    {
     "data": {
      "text/plain": [
       "'F://Environmental Baseline Data//Version 3//Data//Images as PDFs//A6F4Q4_page_65.pdf'"
      ]
     },
     "execution_count": 16,
     "metadata": {},
     "output_type": "execute_result"
    },
    {
     "name": "stdout",
     "output_type": "stream",
     "text": [
      "14\n"
     ]
    },
    {
     "data": {
      "text/plain": [
       "'F://Environmental Baseline Data//Version 3//Data//Images as PDFs//A6F4Q4_page_66.pdf'"
      ]
     },
     "execution_count": 16,
     "metadata": {},
     "output_type": "execute_result"
    },
    {
     "name": "stdout",
     "output_type": "stream",
     "text": [
      "15\n"
     ]
    },
    {
     "data": {
      "text/plain": [
       "'F://Environmental Baseline Data//Version 3//Data//Images as PDFs//A6F4Q4_page_77.pdf'"
      ]
     },
     "execution_count": 16,
     "metadata": {},
     "output_type": "execute_result"
    },
    {
     "name": "stdout",
     "output_type": "stream",
     "text": [
      "16\n"
     ]
    },
    {
     "data": {
      "text/plain": [
       "'F://Environmental Baseline Data//Version 3//Data//Images as PDFs//A6F4Q4_page_78.pdf'"
      ]
     },
     "execution_count": 16,
     "metadata": {},
     "output_type": "execute_result"
    },
    {
     "name": "stdout",
     "output_type": "stream",
     "text": [
      "17\n"
     ]
    },
    {
     "data": {
      "text/plain": [
       "'F://Environmental Baseline Data//Version 3//Data//Images as PDFs//A6F4Q4_page_91.pdf'"
      ]
     },
     "execution_count": 16,
     "metadata": {},
     "output_type": "execute_result"
    },
    {
     "name": "stdout",
     "output_type": "stream",
     "text": [
      "18\n"
     ]
    },
    {
     "data": {
      "text/plain": [
       "'F://Environmental Baseline Data//Version 3//Data//Images as PDFs//A6F4Q4_page_92.pdf'"
      ]
     },
     "execution_count": 16,
     "metadata": {},
     "output_type": "execute_result"
    },
    {
     "name": "stdout",
     "output_type": "stream",
     "text": [
      "19\n"
     ]
    },
    {
     "data": {
      "text/plain": [
       "'F://Environmental Baseline Data//Version 3//Data//Images as PDFs//A6F4Q4_page_109.pdf'"
      ]
     },
     "execution_count": 16,
     "metadata": {},
     "output_type": "execute_result"
    },
    {
     "name": "stdout",
     "output_type": "stream",
     "text": [
      "20\n"
     ]
    },
    {
     "data": {
      "text/plain": [
       "'F://Environmental Baseline Data//Version 3//Data//Images as PDFs//A6F4Q4_page_110.pdf'"
      ]
     },
     "execution_count": 16,
     "metadata": {},
     "output_type": "execute_result"
    },
    {
     "name": "stdout",
     "output_type": "stream",
     "text": [
      "21\n"
     ]
    },
    {
     "data": {
      "text/plain": [
       "'F://Environmental Baseline Data//Version 3//Data//Images as PDFs//A6F4Q4_page_120.pdf'"
      ]
     },
     "execution_count": 16,
     "metadata": {},
     "output_type": "execute_result"
    },
    {
     "name": "stdout",
     "output_type": "stream",
     "text": [
      "22\n"
     ]
    },
    {
     "data": {
      "text/plain": [
       "'F://Environmental Baseline Data//Version 3//Data//Images as PDFs//A6F4Q4_page_125.pdf'"
      ]
     },
     "execution_count": 16,
     "metadata": {},
     "output_type": "execute_result"
    },
    {
     "name": "stdout",
     "output_type": "stream",
     "text": [
      "23\n"
     ]
    },
    {
     "data": {
      "text/plain": [
       "'F://Environmental Baseline Data//Version 3//Data//Images as PDFs//A6F4Q4_page_181.pdf'"
      ]
     },
     "execution_count": 16,
     "metadata": {},
     "output_type": "execute_result"
    },
    {
     "name": "stdout",
     "output_type": "stream",
     "text": [
      "24\n"
     ]
    },
    {
     "data": {
      "text/plain": [
       "'F://Environmental Baseline Data//Version 3//Data//Images as PDFs//A6F4Q4_page_185.pdf'"
      ]
     },
     "execution_count": 16,
     "metadata": {},
     "output_type": "execute_result"
    },
    {
     "name": "stdout",
     "output_type": "stream",
     "text": [
      "25\n"
     ]
    },
    {
     "data": {
      "text/plain": [
       "'F://Environmental Baseline Data//Version 3//Data//Images as PDFs//A6F4Q4_page_189.pdf'"
      ]
     },
     "execution_count": 16,
     "metadata": {},
     "output_type": "execute_result"
    },
    {
     "name": "stdout",
     "output_type": "stream",
     "text": [
      "26\n"
     ]
    },
    {
     "data": {
      "text/plain": [
       "'F://Environmental Baseline Data//Version 3//Data//Images as PDFs//A6F4Q4_page_190.pdf'"
      ]
     },
     "execution_count": 16,
     "metadata": {},
     "output_type": "execute_result"
    },
    {
     "name": "stdout",
     "output_type": "stream",
     "text": [
      "27\n"
     ]
    },
    {
     "data": {
      "text/plain": [
       "'F://Environmental Baseline Data//Version 3//Data//Images as PDFs//A6F4Q4_page_191.pdf'"
      ]
     },
     "execution_count": 16,
     "metadata": {},
     "output_type": "execute_result"
    },
    {
     "name": "stdout",
     "output_type": "stream",
     "text": [
      "28\n"
     ]
    },
    {
     "data": {
      "text/plain": [
       "'F://Environmental Baseline Data//Version 3//Data//Images as PDFs//A6F4Q4_page_194.pdf'"
      ]
     },
     "execution_count": 16,
     "metadata": {},
     "output_type": "execute_result"
    },
    {
     "name": "stdout",
     "output_type": "stream",
     "text": [
      "29\n"
     ]
    },
    {
     "data": {
      "text/plain": [
       "'F://Environmental Baseline Data//Version 3//Data//Images as PDFs//A6F4Q4_page_197.pdf'"
      ]
     },
     "execution_count": 16,
     "metadata": {},
     "output_type": "execute_result"
    },
    {
     "name": "stdout",
     "output_type": "stream",
     "text": [
      "30\n"
     ]
    },
    {
     "data": {
      "text/plain": [
       "'F://Environmental Baseline Data//Version 3//Data//Images as PDFs//A6F4Q4_page_198.pdf'"
      ]
     },
     "execution_count": 16,
     "metadata": {},
     "output_type": "execute_result"
    },
    {
     "name": "stdout",
     "output_type": "stream",
     "text": [
      "31\n"
     ]
    },
    {
     "data": {
      "text/plain": [
       "'F://Environmental Baseline Data//Version 3//Data//Images as PDFs//A6F4Q4_page_204.pdf'"
      ]
     },
     "execution_count": 16,
     "metadata": {},
     "output_type": "execute_result"
    },
    {
     "name": "stdout",
     "output_type": "stream",
     "text": [
      "32\n"
     ]
    },
    {
     "data": {
      "text/plain": [
       "'F://Environmental Baseline Data//Version 3//Data//Images as PDFs//A6F4Q4_page_205.pdf'"
      ]
     },
     "execution_count": 16,
     "metadata": {},
     "output_type": "execute_result"
    },
    {
     "name": "stdout",
     "output_type": "stream",
     "text": [
      "33\n"
     ]
    },
    {
     "data": {
      "text/plain": [
       "'F://Environmental Baseline Data//Version 3//Data//Images as PDFs//A6F4Q4_page_208.pdf'"
      ]
     },
     "execution_count": 16,
     "metadata": {},
     "output_type": "execute_result"
    },
    {
     "name": "stdout",
     "output_type": "stream",
     "text": [
      "34\n"
     ]
    },
    {
     "data": {
      "text/plain": [
       "'F://Environmental Baseline Data//Version 3//Data//Images as PDFs//A6F4Q4_page_210.pdf'"
      ]
     },
     "execution_count": 16,
     "metadata": {},
     "output_type": "execute_result"
    },
    {
     "name": "stdout",
     "output_type": "stream",
     "text": [
      "35\n"
     ]
    },
    {
     "data": {
      "text/plain": [
       "'F://Environmental Baseline Data//Version 3//Data//Images as PDFs//A6F4Q4_page_261.pdf'"
      ]
     },
     "execution_count": 16,
     "metadata": {},
     "output_type": "execute_result"
    },
    {
     "name": "stdout",
     "output_type": "stream",
     "text": [
      "36\n"
     ]
    },
    {
     "data": {
      "text/plain": [
       "'F://Environmental Baseline Data//Version 3//Data//Images as PDFs//A6F4Q4_page_267.pdf'"
      ]
     },
     "execution_count": 16,
     "metadata": {},
     "output_type": "execute_result"
    },
    {
     "name": "stdout",
     "output_type": "stream",
     "text": [
      "37\n"
     ]
    },
    {
     "data": {
      "text/plain": [
       "'F://Environmental Baseline Data//Version 3//Data//Images as PDFs//A6F4Q4_page_268.pdf'"
      ]
     },
     "execution_count": 16,
     "metadata": {},
     "output_type": "execute_result"
    },
    {
     "name": "stdout",
     "output_type": "stream",
     "text": [
      "38\n"
     ]
    },
    {
     "data": {
      "text/plain": [
       "'F://Environmental Baseline Data//Version 3//Data//Images as PDFs//A6F4Q4_page_268.pdf'"
      ]
     },
     "execution_count": 16,
     "metadata": {},
     "output_type": "execute_result"
    },
    {
     "name": "stdout",
     "output_type": "stream",
     "text": [
      "39\n"
     ]
    },
    {
     "data": {
      "text/plain": [
       "'F://Environmental Baseline Data//Version 3//Data//Images as PDFs//A6F4Q4_page_269.pdf'"
      ]
     },
     "execution_count": 16,
     "metadata": {},
     "output_type": "execute_result"
    },
    {
     "name": "stdout",
     "output_type": "stream",
     "text": [
      "40\n"
     ]
    },
    {
     "data": {
      "text/plain": [
       "'F://Environmental Baseline Data//Version 3//Data//Images as PDFs//A6F4Q4_page_269.pdf'"
      ]
     },
     "execution_count": 16,
     "metadata": {},
     "output_type": "execute_result"
    },
    {
     "name": "stdout",
     "output_type": "stream",
     "text": [
      "41\n"
     ]
    },
    {
     "data": {
      "text/plain": [
       "'F://Environmental Baseline Data//Version 3//Data//Images as PDFs//A6F4Q4_page_270.pdf'"
      ]
     },
     "execution_count": 16,
     "metadata": {},
     "output_type": "execute_result"
    },
    {
     "name": "stdout",
     "output_type": "stream",
     "text": [
      "42\n"
     ]
    },
    {
     "data": {
      "text/plain": [
       "'F://Environmental Baseline Data//Version 3//Data//Images as PDFs//A6F4Q4_page_270.pdf'"
      ]
     },
     "execution_count": 16,
     "metadata": {},
     "output_type": "execute_result"
    },
    {
     "name": "stdout",
     "output_type": "stream",
     "text": [
      "43\n"
     ]
    },
    {
     "data": {
      "text/plain": [
       "'F://Environmental Baseline Data//Version 3//Data//Images as PDFs//A6F4Q4_page_272.pdf'"
      ]
     },
     "execution_count": 16,
     "metadata": {},
     "output_type": "execute_result"
    },
    {
     "name": "stdout",
     "output_type": "stream",
     "text": [
      "44\n"
     ]
    },
    {
     "data": {
      "text/plain": [
       "'F://Environmental Baseline Data//Version 3//Data//Images as PDFs//A6F4Q4_page_273.pdf'"
      ]
     },
     "execution_count": 16,
     "metadata": {},
     "output_type": "execute_result"
    },
    {
     "name": "stdout",
     "output_type": "stream",
     "text": [
      "45\n"
     ]
    },
    {
     "data": {
      "text/plain": [
       "'F://Environmental Baseline Data//Version 3//Data//Images as PDFs//A6F4Q4_page_274.pdf'"
      ]
     },
     "execution_count": 16,
     "metadata": {},
     "output_type": "execute_result"
    },
    {
     "name": "stdout",
     "output_type": "stream",
     "text": [
      "46\n"
     ]
    },
    {
     "data": {
      "text/plain": [
       "'F://Environmental Baseline Data//Version 3//Data//Images as PDFs//A6F4Q4_page_275.pdf'"
      ]
     },
     "execution_count": 16,
     "metadata": {},
     "output_type": "execute_result"
    },
    {
     "name": "stdout",
     "output_type": "stream",
     "text": [
      "47\n"
     ]
    },
    {
     "data": {
      "text/plain": [
       "'F://Environmental Baseline Data//Version 3//Data//Images as PDFs//A6F4Q4_page_276.pdf'"
      ]
     },
     "execution_count": 16,
     "metadata": {},
     "output_type": "execute_result"
    },
    {
     "name": "stdout",
     "output_type": "stream",
     "text": [
      "48\n"
     ]
    },
    {
     "data": {
      "text/plain": [
       "'F://Environmental Baseline Data//Version 3//Data//Images as PDFs//A6F4Q4_page_277.pdf'"
      ]
     },
     "execution_count": 16,
     "metadata": {},
     "output_type": "execute_result"
    },
    {
     "name": "stdout",
     "output_type": "stream",
     "text": [
      "49\n"
     ]
    },
    {
     "data": {
      "text/plain": [
       "'F://Environmental Baseline Data//Version 3//Data//Images as PDFs//A6F4Q4_page_278.pdf'"
      ]
     },
     "execution_count": 16,
     "metadata": {},
     "output_type": "execute_result"
    },
    {
     "name": "stdout",
     "output_type": "stream",
     "text": [
      "50\n"
     ]
    },
    {
     "data": {
      "text/plain": [
       "'F://Environmental Baseline Data//Version 3//Data//Images as PDFs//A6F4Q4_page_279.pdf'"
      ]
     },
     "execution_count": 16,
     "metadata": {},
     "output_type": "execute_result"
    },
    {
     "name": "stdout",
     "output_type": "stream",
     "text": [
      "51\n"
     ]
    },
    {
     "data": {
      "text/plain": [
       "'F://Environmental Baseline Data//Version 3//Data//Images as PDFs//A6F4Q4_page_280.pdf'"
      ]
     },
     "execution_count": 16,
     "metadata": {},
     "output_type": "execute_result"
    },
    {
     "name": "stdout",
     "output_type": "stream",
     "text": [
      "52\n"
     ]
    },
    {
     "data": {
      "text/plain": [
       "'F://Environmental Baseline Data//Version 3//Data//Images as PDFs//A6F4Q4_page_281.pdf'"
      ]
     },
     "execution_count": 16,
     "metadata": {},
     "output_type": "execute_result"
    },
    {
     "name": "stdout",
     "output_type": "stream",
     "text": [
      "53\n"
     ]
    },
    {
     "data": {
      "text/plain": [
       "'F://Environmental Baseline Data//Version 3//Data//Images as PDFs//A6F4Q5_page_6.pdf'"
      ]
     },
     "execution_count": 16,
     "metadata": {},
     "output_type": "execute_result"
    },
    {
     "name": "stdout",
     "output_type": "stream",
     "text": [
      "54\n"
     ]
    },
    {
     "data": {
      "text/plain": [
       "'F://Environmental Baseline Data//Version 3//Data//Images as PDFs//A6F4Q5_page_7.pdf'"
      ]
     },
     "execution_count": 16,
     "metadata": {},
     "output_type": "execute_result"
    },
    {
     "name": "stdout",
     "output_type": "stream",
     "text": [
      "55\n"
     ]
    },
    {
     "data": {
      "text/plain": [
       "'F://Environmental Baseline Data//Version 3//Data//Images as PDFs//A6F4Q5_page_8.pdf'"
      ]
     },
     "execution_count": 16,
     "metadata": {},
     "output_type": "execute_result"
    },
    {
     "name": "stdout",
     "output_type": "stream",
     "text": [
      "56\n"
     ]
    },
    {
     "data": {
      "text/plain": [
       "'F://Environmental Baseline Data//Version 3//Data//Images as PDFs//A6F4Q5_page_9.pdf'"
      ]
     },
     "execution_count": 16,
     "metadata": {},
     "output_type": "execute_result"
    },
    {
     "name": "stdout",
     "output_type": "stream",
     "text": [
      "57\n"
     ]
    },
    {
     "data": {
      "text/plain": [
       "'F://Environmental Baseline Data//Version 3//Data//Images as PDFs//A6F4Q5_page_10.pdf'"
      ]
     },
     "execution_count": 16,
     "metadata": {},
     "output_type": "execute_result"
    },
    {
     "name": "stdout",
     "output_type": "stream",
     "text": [
      "58\n"
     ]
    },
    {
     "data": {
      "text/plain": [
       "'F://Environmental Baseline Data//Version 3//Data//Images as PDFs//A6F4Q5_page_36.pdf'"
      ]
     },
     "execution_count": 16,
     "metadata": {},
     "output_type": "execute_result"
    },
    {
     "name": "stdout",
     "output_type": "stream",
     "text": [
      "59\n"
     ]
    },
    {
     "data": {
      "text/plain": [
       "'F://Environmental Baseline Data//Version 3//Data//Images as PDFs//A6F4Q5_page_59.pdf'"
      ]
     },
     "execution_count": 16,
     "metadata": {},
     "output_type": "execute_result"
    },
    {
     "name": "stdout",
     "output_type": "stream",
     "text": [
      "60\n"
     ]
    },
    {
     "data": {
      "text/plain": [
       "'F://Environmental Baseline Data//Version 3//Data//Images as PDFs//A6F4Q5_page_61.pdf'"
      ]
     },
     "execution_count": 16,
     "metadata": {},
     "output_type": "execute_result"
    },
    {
     "name": "stdout",
     "output_type": "stream",
     "text": [
      "61\n"
     ]
    },
    {
     "data": {
      "text/plain": [
       "'F://Environmental Baseline Data//Version 3//Data//Images as PDFs//A6F4Q5_page_63.pdf'"
      ]
     },
     "execution_count": 16,
     "metadata": {},
     "output_type": "execute_result"
    },
    {
     "name": "stdout",
     "output_type": "stream",
     "text": [
      "62\n"
     ]
    },
    {
     "data": {
      "text/plain": [
       "'F://Environmental Baseline Data//Version 3//Data//Images as PDFs//A6F4Q5_page_64.pdf'"
      ]
     },
     "execution_count": 16,
     "metadata": {},
     "output_type": "execute_result"
    },
    {
     "name": "stdout",
     "output_type": "stream",
     "text": [
      "63\n"
     ]
    },
    {
     "data": {
      "text/plain": [
       "'F://Environmental Baseline Data//Version 3//Data//Images as PDFs//A6F4Q5_page_66.pdf'"
      ]
     },
     "execution_count": 16,
     "metadata": {},
     "output_type": "execute_result"
    },
    {
     "name": "stdout",
     "output_type": "stream",
     "text": [
      "64\n"
     ]
    },
    {
     "data": {
      "text/plain": [
       "'F://Environmental Baseline Data//Version 3//Data//Images as PDFs//A6F4Q5_page_68.pdf'"
      ]
     },
     "execution_count": 16,
     "metadata": {},
     "output_type": "execute_result"
    },
    {
     "name": "stdout",
     "output_type": "stream",
     "text": [
      "65\n"
     ]
    },
    {
     "data": {
      "text/plain": [
       "'F://Environmental Baseline Data//Version 3//Data//Images as PDFs//A6F4Q5_page_70.pdf'"
      ]
     },
     "execution_count": 16,
     "metadata": {},
     "output_type": "execute_result"
    },
    {
     "name": "stdout",
     "output_type": "stream",
     "text": [
      "66\n"
     ]
    },
    {
     "data": {
      "text/plain": [
       "'F://Environmental Baseline Data//Version 3//Data//Images as PDFs//A6F4Q5_page_71.pdf'"
      ]
     },
     "execution_count": 16,
     "metadata": {},
     "output_type": "execute_result"
    },
    {
     "name": "stdout",
     "output_type": "stream",
     "text": [
      "67\n"
     ]
    },
    {
     "data": {
      "text/plain": [
       "'F://Environmental Baseline Data//Version 3//Data//Images as PDFs//A6F4Q5_page_74.pdf'"
      ]
     },
     "execution_count": 16,
     "metadata": {},
     "output_type": "execute_result"
    },
    {
     "name": "stdout",
     "output_type": "stream",
     "text": [
      "68\n"
     ]
    },
    {
     "data": {
      "text/plain": [
       "'F://Environmental Baseline Data//Version 3//Data//Images as PDFs//A6F4Q5_page_75.pdf'"
      ]
     },
     "execution_count": 16,
     "metadata": {},
     "output_type": "execute_result"
    },
    {
     "name": "stdout",
     "output_type": "stream",
     "text": [
      "69\n"
     ]
    },
    {
     "data": {
      "text/plain": [
       "'F://Environmental Baseline Data//Version 3//Data//Images as PDFs//A6F4Q5_page_77.pdf'"
      ]
     },
     "execution_count": 16,
     "metadata": {},
     "output_type": "execute_result"
    },
    {
     "name": "stdout",
     "output_type": "stream",
     "text": [
      "70\n"
     ]
    },
    {
     "data": {
      "text/plain": [
       "'F://Environmental Baseline Data//Version 3//Data//Images as PDFs//A6F4Q5_page_78.pdf'"
      ]
     },
     "execution_count": 16,
     "metadata": {},
     "output_type": "execute_result"
    },
    {
     "name": "stdout",
     "output_type": "stream",
     "text": [
      "71\n"
     ]
    },
    {
     "data": {
      "text/plain": [
       "'F://Environmental Baseline Data//Version 3//Data//Images as PDFs//A6F4Q6_page_3.pdf'"
      ]
     },
     "execution_count": 16,
     "metadata": {},
     "output_type": "execute_result"
    },
    {
     "name": "stdout",
     "output_type": "stream",
     "text": [
      "72\n"
     ]
    },
    {
     "data": {
      "text/plain": [
       "'F://Environmental Baseline Data//Version 3//Data//Images as PDFs//A6F4Q6_page_153.pdf'"
      ]
     },
     "execution_count": 16,
     "metadata": {},
     "output_type": "execute_result"
    },
    {
     "name": "stdout",
     "output_type": "stream",
     "text": [
      "73\n"
     ]
    },
    {
     "data": {
      "text/plain": [
       "'F://Environmental Baseline Data//Version 3//Data//Images as PDFs//A6F4Q6_page_154.pdf'"
      ]
     },
     "execution_count": 16,
     "metadata": {},
     "output_type": "execute_result"
    },
    {
     "name": "stdout",
     "output_type": "stream",
     "text": [
      "74\n"
     ]
    },
    {
     "data": {
      "text/plain": [
       "'F://Environmental Baseline Data//Version 3//Data//Images as PDFs//A6F4Q6_page_155.pdf'"
      ]
     },
     "execution_count": 16,
     "metadata": {},
     "output_type": "execute_result"
    },
    {
     "name": "stdout",
     "output_type": "stream",
     "text": [
      "75\n"
     ]
    },
    {
     "data": {
      "text/plain": [
       "'F://Environmental Baseline Data//Version 3//Data//Images as PDFs//A6F4Q6_page_156.pdf'"
      ]
     },
     "execution_count": 16,
     "metadata": {},
     "output_type": "execute_result"
    },
    {
     "name": "stdout",
     "output_type": "stream",
     "text": [
      "76\n"
     ]
    },
    {
     "data": {
      "text/plain": [
       "'F://Environmental Baseline Data//Version 3//Data//Images as PDFs//A6F4Q6_page_157.pdf'"
      ]
     },
     "execution_count": 16,
     "metadata": {},
     "output_type": "execute_result"
    },
    {
     "name": "stdout",
     "output_type": "stream",
     "text": [
      "77\n"
     ]
    },
    {
     "data": {
      "text/plain": [
       "'F://Environmental Baseline Data//Version 3//Data//Images as PDFs//A6F4Q6_page_158.pdf'"
      ]
     },
     "execution_count": 16,
     "metadata": {},
     "output_type": "execute_result"
    },
    {
     "name": "stdout",
     "output_type": "stream",
     "text": [
      "78\n"
     ]
    },
    {
     "data": {
      "text/plain": [
       "'F://Environmental Baseline Data//Version 3//Data//Images as PDFs//A6F4Q6_page_159.pdf'"
      ]
     },
     "execution_count": 16,
     "metadata": {},
     "output_type": "execute_result"
    },
    {
     "name": "stdout",
     "output_type": "stream",
     "text": [
      "79\n"
     ]
    },
    {
     "data": {
      "text/plain": [
       "'F://Environmental Baseline Data//Version 3//Data//Images as PDFs//A6F4Q6_page_160.pdf'"
      ]
     },
     "execution_count": 16,
     "metadata": {},
     "output_type": "execute_result"
    },
    {
     "name": "stdout",
     "output_type": "stream",
     "text": [
      "80\n"
     ]
    },
    {
     "data": {
      "text/plain": [
       "'F://Environmental Baseline Data//Version 3//Data//Images as PDFs//A6F4Q6_page_161.pdf'"
      ]
     },
     "execution_count": 16,
     "metadata": {},
     "output_type": "execute_result"
    },
    {
     "name": "stdout",
     "output_type": "stream",
     "text": [
      "81\n"
     ]
    },
    {
     "data": {
      "text/plain": [
       "'F://Environmental Baseline Data//Version 3//Data//Images as PDFs//A6F4Q6_page_162.pdf'"
      ]
     },
     "execution_count": 16,
     "metadata": {},
     "output_type": "execute_result"
    },
    {
     "name": "stdout",
     "output_type": "stream",
     "text": [
      "82\n"
     ]
    },
    {
     "data": {
      "text/plain": [
       "'F://Environmental Baseline Data//Version 3//Data//Images as PDFs//A6F4Q6_page_163.pdf'"
      ]
     },
     "execution_count": 16,
     "metadata": {},
     "output_type": "execute_result"
    },
    {
     "name": "stdout",
     "output_type": "stream",
     "text": [
      "83\n"
     ]
    },
    {
     "data": {
      "text/plain": [
       "'F://Environmental Baseline Data//Version 3//Data//Images as PDFs//A6F4Q6_page_164.pdf'"
      ]
     },
     "execution_count": 16,
     "metadata": {},
     "output_type": "execute_result"
    },
    {
     "name": "stdout",
     "output_type": "stream",
     "text": [
      "84\n"
     ]
    },
    {
     "data": {
      "text/plain": [
       "'F://Environmental Baseline Data//Version 3//Data//Images as PDFs//A6F4Q6_page_165.pdf'"
      ]
     },
     "execution_count": 16,
     "metadata": {},
     "output_type": "execute_result"
    },
    {
     "name": "stdout",
     "output_type": "stream",
     "text": [
      "85\n"
     ]
    },
    {
     "data": {
      "text/plain": [
       "'F://Environmental Baseline Data//Version 3//Data//Images as PDFs//A6F4Q6_page_166.pdf'"
      ]
     },
     "execution_count": 16,
     "metadata": {},
     "output_type": "execute_result"
    },
    {
     "name": "stdout",
     "output_type": "stream",
     "text": [
      "86\n"
     ]
    },
    {
     "data": {
      "text/plain": [
       "'F://Environmental Baseline Data//Version 3//Data//Images as PDFs//A6F4Q6_page_167.pdf'"
      ]
     },
     "execution_count": 16,
     "metadata": {},
     "output_type": "execute_result"
    },
    {
     "name": "stdout",
     "output_type": "stream",
     "text": [
      "87\n"
     ]
    },
    {
     "data": {
      "text/plain": [
       "'F://Environmental Baseline Data//Version 3//Data//Images as PDFs//A6F4Q6_page_168.pdf'"
      ]
     },
     "execution_count": 16,
     "metadata": {},
     "output_type": "execute_result"
    },
    {
     "name": "stdout",
     "output_type": "stream",
     "text": [
      "88\n"
     ]
    },
    {
     "data": {
      "text/plain": [
       "'F://Environmental Baseline Data//Version 3//Data//Images as PDFs//A6F4Q6_page_169.pdf'"
      ]
     },
     "execution_count": 16,
     "metadata": {},
     "output_type": "execute_result"
    },
    {
     "name": "stdout",
     "output_type": "stream",
     "text": [
      "89\n"
     ]
    },
    {
     "data": {
      "text/plain": [
       "'F://Environmental Baseline Data//Version 3//Data//Images as PDFs//A6F4Q6_page_170.pdf'"
      ]
     },
     "execution_count": 16,
     "metadata": {},
     "output_type": "execute_result"
    },
    {
     "name": "stdout",
     "output_type": "stream",
     "text": [
      "90\n"
     ]
    },
    {
     "data": {
      "text/plain": [
       "'F://Environmental Baseline Data//Version 3//Data//Images as PDFs//A6F4Q6_page_171.pdf'"
      ]
     },
     "execution_count": 16,
     "metadata": {},
     "output_type": "execute_result"
    },
    {
     "name": "stdout",
     "output_type": "stream",
     "text": [
      "91\n"
     ]
    },
    {
     "data": {
      "text/plain": [
       "'F://Environmental Baseline Data//Version 3//Data//Images as PDFs//A6F4Q6_page_172.pdf'"
      ]
     },
     "execution_count": 16,
     "metadata": {},
     "output_type": "execute_result"
    },
    {
     "name": "stdout",
     "output_type": "stream",
     "text": [
      "92\n"
     ]
    },
    {
     "data": {
      "text/plain": [
       "'F://Environmental Baseline Data//Version 3//Data//Images as PDFs//A6F4Q6_page_173.pdf'"
      ]
     },
     "execution_count": 16,
     "metadata": {},
     "output_type": "execute_result"
    },
    {
     "name": "stdout",
     "output_type": "stream",
     "text": [
      "93\n"
     ]
    },
    {
     "data": {
      "text/plain": [
       "'F://Environmental Baseline Data//Version 3//Data//Images as PDFs//A6F4Q6_page_174.pdf'"
      ]
     },
     "execution_count": 16,
     "metadata": {},
     "output_type": "execute_result"
    },
    {
     "name": "stdout",
     "output_type": "stream",
     "text": [
      "94\n"
     ]
    },
    {
     "data": {
      "text/plain": [
       "'F://Environmental Baseline Data//Version 3//Data//Images as PDFs//A6F4Q6_page_175.pdf'"
      ]
     },
     "execution_count": 16,
     "metadata": {},
     "output_type": "execute_result"
    },
    {
     "name": "stdout",
     "output_type": "stream",
     "text": [
      "95\n"
     ]
    },
    {
     "data": {
      "text/plain": [
       "'F://Environmental Baseline Data//Version 3//Data//Images as PDFs//A6F4Q6_page_176.pdf'"
      ]
     },
     "execution_count": 16,
     "metadata": {},
     "output_type": "execute_result"
    },
    {
     "name": "stdout",
     "output_type": "stream",
     "text": [
      "96\n"
     ]
    },
    {
     "data": {
      "text/plain": [
       "'F://Environmental Baseline Data//Version 3//Data//Images as PDFs//A6F4Q6_page_177.pdf'"
      ]
     },
     "execution_count": 16,
     "metadata": {},
     "output_type": "execute_result"
    },
    {
     "name": "stdout",
     "output_type": "stream",
     "text": [
      "97\n"
     ]
    },
    {
     "data": {
      "text/plain": [
       "'F://Environmental Baseline Data//Version 3//Data//Images as PDFs//A6F4Q6_page_178.pdf'"
      ]
     },
     "execution_count": 16,
     "metadata": {},
     "output_type": "execute_result"
    },
    {
     "name": "stdout",
     "output_type": "stream",
     "text": [
      "98\n"
     ]
    },
    {
     "data": {
      "text/plain": [
       "'F://Environmental Baseline Data//Version 3//Data//Images as PDFs//A6F4Q6_page_179.pdf'"
      ]
     },
     "execution_count": 16,
     "metadata": {},
     "output_type": "execute_result"
    },
    {
     "name": "stdout",
     "output_type": "stream",
     "text": [
      "99\n"
     ]
    },
    {
     "data": {
      "text/plain": [
       "'F://Environmental Baseline Data//Version 3//Data//Images as PDFs//A6F4Q6_page_180.pdf'"
      ]
     },
     "execution_count": 16,
     "metadata": {},
     "output_type": "execute_result"
    },
    {
     "name": "stdout",
     "output_type": "stream",
     "text": [
      "100\n"
     ]
    },
    {
     "data": {
      "text/plain": [
       "'F://Environmental Baseline Data//Version 3//Data//Images as PDFs//A6F4Q6_page_181.pdf'"
      ]
     },
     "execution_count": 16,
     "metadata": {},
     "output_type": "execute_result"
    },
    {
     "name": "stdout",
     "output_type": "stream",
     "text": [
      "101\n"
     ]
    },
    {
     "data": {
      "text/plain": [
       "'F://Environmental Baseline Data//Version 3//Data//Images as PDFs//A6F4Q6_page_182.pdf'"
      ]
     },
     "execution_count": 16,
     "metadata": {},
     "output_type": "execute_result"
    },
    {
     "name": "stdout",
     "output_type": "stream",
     "text": [
      "102\n"
     ]
    },
    {
     "data": {
      "text/plain": [
       "'F://Environmental Baseline Data//Version 3//Data//Images as PDFs//A6F4Q6_page_183.pdf'"
      ]
     },
     "execution_count": 16,
     "metadata": {},
     "output_type": "execute_result"
    },
    {
     "name": "stdout",
     "output_type": "stream",
     "text": [
      "103\n"
     ]
    },
    {
     "data": {
      "text/plain": [
       "'F://Environmental Baseline Data//Version 3//Data//Images as PDFs//A6F4Q6_page_184.pdf'"
      ]
     },
     "execution_count": 16,
     "metadata": {},
     "output_type": "execute_result"
    },
    {
     "name": "stdout",
     "output_type": "stream",
     "text": [
      "104\n"
     ]
    },
    {
     "data": {
      "text/plain": [
       "'F://Environmental Baseline Data//Version 3//Data//Images as PDFs//A6F4Q6_page_185.pdf'"
      ]
     },
     "execution_count": 16,
     "metadata": {},
     "output_type": "execute_result"
    },
    {
     "name": "stdout",
     "output_type": "stream",
     "text": [
      "105\n"
     ]
    },
    {
     "data": {
      "text/plain": [
       "'F://Environmental Baseline Data//Version 3//Data//Images as PDFs//A6F4Q6_page_186.pdf'"
      ]
     },
     "execution_count": 16,
     "metadata": {},
     "output_type": "execute_result"
    },
    {
     "name": "stdout",
     "output_type": "stream",
     "text": [
      "106\n"
     ]
    },
    {
     "data": {
      "text/plain": [
       "'F://Environmental Baseline Data//Version 3//Data//Images as PDFs//A6F4Q6_page_187.pdf'"
      ]
     },
     "execution_count": 16,
     "metadata": {},
     "output_type": "execute_result"
    },
    {
     "name": "stdout",
     "output_type": "stream",
     "text": [
      "107\n"
     ]
    },
    {
     "data": {
      "text/plain": [
       "'F://Environmental Baseline Data//Version 3//Data//Images as PDFs//A6F4Q6_page_188.pdf'"
      ]
     },
     "execution_count": 16,
     "metadata": {},
     "output_type": "execute_result"
    },
    {
     "name": "stdout",
     "output_type": "stream",
     "text": [
      "108\n"
     ]
    },
    {
     "data": {
      "text/plain": [
       "'F://Environmental Baseline Data//Version 3//Data//Images as PDFs//A6F4Q6_page_189.pdf'"
      ]
     },
     "execution_count": 16,
     "metadata": {},
     "output_type": "execute_result"
    },
    {
     "name": "stdout",
     "output_type": "stream",
     "text": [
      "109\n"
     ]
    },
    {
     "data": {
      "text/plain": [
       "'F://Environmental Baseline Data//Version 3//Data//Images as PDFs//A6F4Q6_page_190.pdf'"
      ]
     },
     "execution_count": 16,
     "metadata": {},
     "output_type": "execute_result"
    },
    {
     "name": "stdout",
     "output_type": "stream",
     "text": [
      "110\n"
     ]
    },
    {
     "data": {
      "text/plain": [
       "'F://Environmental Baseline Data//Version 3//Data//Images as PDFs//A6F4Q6_page_191.pdf'"
      ]
     },
     "execution_count": 16,
     "metadata": {},
     "output_type": "execute_result"
    },
    {
     "name": "stdout",
     "output_type": "stream",
     "text": [
      "111\n"
     ]
    },
    {
     "data": {
      "text/plain": [
       "'F://Environmental Baseline Data//Version 3//Data//Images as PDFs//A6F4Q6_page_192.pdf'"
      ]
     },
     "execution_count": 16,
     "metadata": {},
     "output_type": "execute_result"
    },
    {
     "name": "stdout",
     "output_type": "stream",
     "text": [
      "112\n"
     ]
    },
    {
     "data": {
      "text/plain": [
       "'F://Environmental Baseline Data//Version 3//Data//Images as PDFs//A6F4Q6_page_193.pdf'"
      ]
     },
     "execution_count": 16,
     "metadata": {},
     "output_type": "execute_result"
    },
    {
     "name": "stdout",
     "output_type": "stream",
     "text": [
      "113\n"
     ]
    },
    {
     "data": {
      "text/plain": [
       "'F://Environmental Baseline Data//Version 3//Data//Images as PDFs//A6F4Q6_page_194.pdf'"
      ]
     },
     "execution_count": 16,
     "metadata": {},
     "output_type": "execute_result"
    },
    {
     "name": "stdout",
     "output_type": "stream",
     "text": [
      "114\n"
     ]
    },
    {
     "data": {
      "text/plain": [
       "'F://Environmental Baseline Data//Version 3//Data//Images as PDFs//A6F4Q6_page_195.pdf'"
      ]
     },
     "execution_count": 16,
     "metadata": {},
     "output_type": "execute_result"
    },
    {
     "name": "stdout",
     "output_type": "stream",
     "text": [
      "115\n"
     ]
    },
    {
     "data": {
      "text/plain": [
       "'F://Environmental Baseline Data//Version 3//Data//Images as PDFs//A6F4Q6_page_196.pdf'"
      ]
     },
     "execution_count": 16,
     "metadata": {},
     "output_type": "execute_result"
    },
    {
     "name": "stdout",
     "output_type": "stream",
     "text": [
      "116\n"
     ]
    },
    {
     "data": {
      "text/plain": [
       "'F://Environmental Baseline Data//Version 3//Data//Images as PDFs//A6F4Q6_page_197.pdf'"
      ]
     },
     "execution_count": 16,
     "metadata": {},
     "output_type": "execute_result"
    },
    {
     "name": "stdout",
     "output_type": "stream",
     "text": [
      "117\n"
     ]
    },
    {
     "data": {
      "text/plain": [
       "'F://Environmental Baseline Data//Version 3//Data//Images as PDFs//A6F4Q6_page_198.pdf'"
      ]
     },
     "execution_count": 16,
     "metadata": {},
     "output_type": "execute_result"
    },
    {
     "name": "stdout",
     "output_type": "stream",
     "text": [
      "118\n"
     ]
    },
    {
     "data": {
      "text/plain": [
       "'F://Environmental Baseline Data//Version 3//Data//Images as PDFs//A6F4Q6_page_199.pdf'"
      ]
     },
     "execution_count": 16,
     "metadata": {},
     "output_type": "execute_result"
    },
    {
     "name": "stdout",
     "output_type": "stream",
     "text": [
      "119\n"
     ]
    },
    {
     "data": {
      "text/plain": [
       "'F://Environmental Baseline Data//Version 3//Data//Images as PDFs//A6F4Q6_page_200.pdf'"
      ]
     },
     "execution_count": 16,
     "metadata": {},
     "output_type": "execute_result"
    },
    {
     "name": "stdout",
     "output_type": "stream",
     "text": [
      "120\n"
     ]
    },
    {
     "data": {
      "text/plain": [
       "'F://Environmental Baseline Data//Version 3//Data//Images as PDFs//A6F4Q6_page_201.pdf'"
      ]
     },
     "execution_count": 16,
     "metadata": {},
     "output_type": "execute_result"
    },
    {
     "name": "stdout",
     "output_type": "stream",
     "text": [
      "121\n"
     ]
    },
    {
     "data": {
      "text/plain": [
       "'F://Environmental Baseline Data//Version 3//Data//Images as PDFs//A6F4Q6_page_202.pdf'"
      ]
     },
     "execution_count": 16,
     "metadata": {},
     "output_type": "execute_result"
    },
    {
     "name": "stdout",
     "output_type": "stream",
     "text": [
      "122\n"
     ]
    },
    {
     "data": {
      "text/plain": [
       "'F://Environmental Baseline Data//Version 3//Data//Images as PDFs//A6F4Q6_page_203.pdf'"
      ]
     },
     "execution_count": 16,
     "metadata": {},
     "output_type": "execute_result"
    },
    {
     "name": "stdout",
     "output_type": "stream",
     "text": [
      "123\n"
     ]
    },
    {
     "data": {
      "text/plain": [
       "'F://Environmental Baseline Data//Version 3//Data//Images as PDFs//A6F4Q6_page_204.pdf'"
      ]
     },
     "execution_count": 16,
     "metadata": {},
     "output_type": "execute_result"
    },
    {
     "name": "stdout",
     "output_type": "stream",
     "text": [
      "124\n"
     ]
    },
    {
     "data": {
      "text/plain": [
       "'F://Environmental Baseline Data//Version 3//Data//Images as PDFs//A6F4Q6_page_205.pdf'"
      ]
     },
     "execution_count": 16,
     "metadata": {},
     "output_type": "execute_result"
    },
    {
     "name": "stdout",
     "output_type": "stream",
     "text": [
      "125\n"
     ]
    },
    {
     "data": {
      "text/plain": [
       "'F://Environmental Baseline Data//Version 3//Data//Images as PDFs//A6F4Q6_page_206.pdf'"
      ]
     },
     "execution_count": 16,
     "metadata": {},
     "output_type": "execute_result"
    },
    {
     "name": "stdout",
     "output_type": "stream",
     "text": [
      "126\n"
     ]
    },
    {
     "data": {
      "text/plain": [
       "'F://Environmental Baseline Data//Version 3//Data//Images as PDFs//A6F4Q6_page_207.pdf'"
      ]
     },
     "execution_count": 16,
     "metadata": {},
     "output_type": "execute_result"
    },
    {
     "name": "stdout",
     "output_type": "stream",
     "text": [
      "127\n"
     ]
    },
    {
     "data": {
      "text/plain": [
       "'F://Environmental Baseline Data//Version 3//Data//Images as PDFs//A6F4Q6_page_208.pdf'"
      ]
     },
     "execution_count": 16,
     "metadata": {},
     "output_type": "execute_result"
    },
    {
     "name": "stdout",
     "output_type": "stream",
     "text": [
      "128\n"
     ]
    },
    {
     "data": {
      "text/plain": [
       "'F://Environmental Baseline Data//Version 3//Data//Images as PDFs//A6F4Q6_page_209.pdf'"
      ]
     },
     "execution_count": 16,
     "metadata": {},
     "output_type": "execute_result"
    },
    {
     "name": "stdout",
     "output_type": "stream",
     "text": [
      "129\n"
     ]
    },
    {
     "data": {
      "text/plain": [
       "'F://Environmental Baseline Data//Version 3//Data//Images as PDFs//A6F4Q6_page_210.pdf'"
      ]
     },
     "execution_count": 16,
     "metadata": {},
     "output_type": "execute_result"
    },
    {
     "name": "stdout",
     "output_type": "stream",
     "text": [
      "130\n"
     ]
    },
    {
     "data": {
      "text/plain": [
       "'F://Environmental Baseline Data//Version 3//Data//Images as PDFs//A6F4Q6_page_211.pdf'"
      ]
     },
     "execution_count": 16,
     "metadata": {},
     "output_type": "execute_result"
    },
    {
     "name": "stdout",
     "output_type": "stream",
     "text": [
      "131\n"
     ]
    },
    {
     "data": {
      "text/plain": [
       "'F://Environmental Baseline Data//Version 3//Data//Images as PDFs//A6F4Q6_page_212.pdf'"
      ]
     },
     "execution_count": 16,
     "metadata": {},
     "output_type": "execute_result"
    },
    {
     "name": "stdout",
     "output_type": "stream",
     "text": [
      "132\n"
     ]
    },
    {
     "data": {
      "text/plain": [
       "'F://Environmental Baseline Data//Version 3//Data//Images as PDFs//A6F4Q6_page_213.pdf'"
      ]
     },
     "execution_count": 16,
     "metadata": {},
     "output_type": "execute_result"
    },
    {
     "name": "stdout",
     "output_type": "stream",
     "text": [
      "133\n"
     ]
    },
    {
     "data": {
      "text/plain": [
       "'F://Environmental Baseline Data//Version 3//Data//Images as PDFs//A6F4Q6_page_214.pdf'"
      ]
     },
     "execution_count": 16,
     "metadata": {},
     "output_type": "execute_result"
    },
    {
     "name": "stdout",
     "output_type": "stream",
     "text": [
      "134\n"
     ]
    },
    {
     "data": {
      "text/plain": [
       "'F://Environmental Baseline Data//Version 3//Data//Images as PDFs//A6F4Q6_page_215.pdf'"
      ]
     },
     "execution_count": 16,
     "metadata": {},
     "output_type": "execute_result"
    },
    {
     "name": "stdout",
     "output_type": "stream",
     "text": [
      "135\n"
     ]
    },
    {
     "data": {
      "text/plain": [
       "'F://Environmental Baseline Data//Version 3//Data//Images as PDFs//A6F4Q6_page_216.pdf'"
      ]
     },
     "execution_count": 16,
     "metadata": {},
     "output_type": "execute_result"
    },
    {
     "name": "stdout",
     "output_type": "stream",
     "text": [
      "136\n"
     ]
    },
    {
     "data": {
      "text/plain": [
       "'F://Environmental Baseline Data//Version 3//Data//Images as PDFs//A6F4Q6_page_217.pdf'"
      ]
     },
     "execution_count": 16,
     "metadata": {},
     "output_type": "execute_result"
    },
    {
     "name": "stdout",
     "output_type": "stream",
     "text": [
      "137\n"
     ]
    },
    {
     "data": {
      "text/plain": [
       "'F://Environmental Baseline Data//Version 3//Data//Images as PDFs//A6F4Q6_page_218.pdf'"
      ]
     },
     "execution_count": 16,
     "metadata": {},
     "output_type": "execute_result"
    },
    {
     "name": "stdout",
     "output_type": "stream",
     "text": [
      "138\n"
     ]
    },
    {
     "data": {
      "text/plain": [
       "'F://Environmental Baseline Data//Version 3//Data//Images as PDFs//A6F4Q6_page_219.pdf'"
      ]
     },
     "execution_count": 16,
     "metadata": {},
     "output_type": "execute_result"
    },
    {
     "name": "stdout",
     "output_type": "stream",
     "text": [
      "139\n"
     ]
    },
    {
     "data": {
      "text/plain": [
       "'F://Environmental Baseline Data//Version 3//Data//Images as PDFs//A6F4Q6_page_220.pdf'"
      ]
     },
     "execution_count": 16,
     "metadata": {},
     "output_type": "execute_result"
    },
    {
     "name": "stdout",
     "output_type": "stream",
     "text": [
      "140\n"
     ]
    },
    {
     "data": {
      "text/plain": [
       "'F://Environmental Baseline Data//Version 3//Data//Images as PDFs//A6F4Q6_page_221.pdf'"
      ]
     },
     "execution_count": 16,
     "metadata": {},
     "output_type": "execute_result"
    },
    {
     "name": "stdout",
     "output_type": "stream",
     "text": [
      "141\n"
     ]
    },
    {
     "data": {
      "text/plain": [
       "'F://Environmental Baseline Data//Version 3//Data//Images as PDFs//A6F4Q6_page_222.pdf'"
      ]
     },
     "execution_count": 16,
     "metadata": {},
     "output_type": "execute_result"
    },
    {
     "name": "stdout",
     "output_type": "stream",
     "text": [
      "142\n"
     ]
    },
    {
     "data": {
      "text/plain": [
       "'F://Environmental Baseline Data//Version 3//Data//Images as PDFs//A6F4Q6_page_223.pdf'"
      ]
     },
     "execution_count": 16,
     "metadata": {},
     "output_type": "execute_result"
    },
    {
     "name": "stdout",
     "output_type": "stream",
     "text": [
      "143\n"
     ]
    },
    {
     "data": {
      "text/plain": [
       "'F://Environmental Baseline Data//Version 3//Data//Images as PDFs//A6F4Q6_page_224.pdf'"
      ]
     },
     "execution_count": 16,
     "metadata": {},
     "output_type": "execute_result"
    },
    {
     "name": "stdout",
     "output_type": "stream",
     "text": [
      "144\n"
     ]
    },
    {
     "data": {
      "text/plain": [
       "'F://Environmental Baseline Data//Version 3//Data//Images as PDFs//A6F4Q6_page_225.pdf'"
      ]
     },
     "execution_count": 16,
     "metadata": {},
     "output_type": "execute_result"
    },
    {
     "name": "stdout",
     "output_type": "stream",
     "text": [
      "145\n"
     ]
    },
    {
     "data": {
      "text/plain": [
       "'F://Environmental Baseline Data//Version 3//Data//Images as PDFs//A6F4Q6_page_226.pdf'"
      ]
     },
     "execution_count": 16,
     "metadata": {},
     "output_type": "execute_result"
    },
    {
     "name": "stdout",
     "output_type": "stream",
     "text": [
      "146\n"
     ]
    },
    {
     "data": {
      "text/plain": [
       "'F://Environmental Baseline Data//Version 3//Data//Images as PDFs//A6F4Q6_page_227.pdf'"
      ]
     },
     "execution_count": 16,
     "metadata": {},
     "output_type": "execute_result"
    },
    {
     "name": "stdout",
     "output_type": "stream",
     "text": [
      "147\n"
     ]
    },
    {
     "data": {
      "text/plain": [
       "'F://Environmental Baseline Data//Version 3//Data//Images as PDFs//A6F4Q6_page_228.pdf'"
      ]
     },
     "execution_count": 16,
     "metadata": {},
     "output_type": "execute_result"
    },
    {
     "name": "stdout",
     "output_type": "stream",
     "text": [
      "148\n"
     ]
    },
    {
     "data": {
      "text/plain": [
       "'F://Environmental Baseline Data//Version 3//Data//Images as PDFs//A6F4Q6_page_229.pdf'"
      ]
     },
     "execution_count": 16,
     "metadata": {},
     "output_type": "execute_result"
    },
    {
     "name": "stdout",
     "output_type": "stream",
     "text": [
      "149\n"
     ]
    },
    {
     "data": {
      "text/plain": [
       "'F://Environmental Baseline Data//Version 3//Data//Images as PDFs//A6F4Q6_page_230.pdf'"
      ]
     },
     "execution_count": 16,
     "metadata": {},
     "output_type": "execute_result"
    },
    {
     "name": "stdout",
     "output_type": "stream",
     "text": [
      "150\n"
     ]
    },
    {
     "data": {
      "text/plain": [
       "'F://Environmental Baseline Data//Version 3//Data//Images as PDFs//A6F4Q6_page_231.pdf'"
      ]
     },
     "execution_count": 16,
     "metadata": {},
     "output_type": "execute_result"
    },
    {
     "name": "stdout",
     "output_type": "stream",
     "text": [
      "151\n"
     ]
    },
    {
     "data": {
      "text/plain": [
       "'F://Environmental Baseline Data//Version 3//Data//Images as PDFs//A6F4Q6_page_232.pdf'"
      ]
     },
     "execution_count": 16,
     "metadata": {},
     "output_type": "execute_result"
    },
    {
     "name": "stdout",
     "output_type": "stream",
     "text": [
      "152\n"
     ]
    },
    {
     "data": {
      "text/plain": [
       "'F://Environmental Baseline Data//Version 3//Data//Images as PDFs//A6F4Q6_page_233.pdf'"
      ]
     },
     "execution_count": 16,
     "metadata": {},
     "output_type": "execute_result"
    },
    {
     "name": "stdout",
     "output_type": "stream",
     "text": [
      "153\n"
     ]
    },
    {
     "data": {
      "text/plain": [
       "'F://Environmental Baseline Data//Version 3//Data//Images as PDFs//A6F4Q6_page_234.pdf'"
      ]
     },
     "execution_count": 16,
     "metadata": {},
     "output_type": "execute_result"
    },
    {
     "name": "stdout",
     "output_type": "stream",
     "text": [
      "154\n",
      "Image could not be extracted A6F4Q6_page_235.pdf\n"
     ]
    },
    {
     "data": {
      "text/plain": [
       "'F://Environmental Baseline Data//Version 3//Data//Images as PDFs//A6F4Q6_page_235.pdf'"
      ]
     },
     "execution_count": 16,
     "metadata": {},
     "output_type": "execute_result"
    },
    {
     "name": "stdout",
     "output_type": "stream",
     "text": [
      "155\n",
      "Image could not be extracted A6F4Q6_page_236.pdf\n"
     ]
    },
    {
     "data": {
      "text/plain": [
       "'F://Environmental Baseline Data//Version 3//Data//Images as PDFs//A6F4Q6_page_236.pdf'"
      ]
     },
     "execution_count": 16,
     "metadata": {},
     "output_type": "execute_result"
    },
    {
     "name": "stdout",
     "output_type": "stream",
     "text": [
      "156\n"
     ]
    },
    {
     "data": {
      "text/plain": [
       "'F://Environmental Baseline Data//Version 3//Data//Images as PDFs//A6F4Q7_page_3.pdf'"
      ]
     },
     "execution_count": 16,
     "metadata": {},
     "output_type": "execute_result"
    },
    {
     "name": "stdout",
     "output_type": "stream",
     "text": [
      "157\n"
     ]
    },
    {
     "data": {
      "text/plain": [
       "'F://Environmental Baseline Data//Version 3//Data//Images as PDFs//A6F4Q7_page_189.pdf'"
      ]
     },
     "execution_count": 16,
     "metadata": {},
     "output_type": "execute_result"
    },
    {
     "name": "stdout",
     "output_type": "stream",
     "text": [
      "158\n"
     ]
    },
    {
     "data": {
      "text/plain": [
       "'F://Environmental Baseline Data//Version 3//Data//Images as PDFs//A6F4Q7_page_190.pdf'"
      ]
     },
     "execution_count": 16,
     "metadata": {},
     "output_type": "execute_result"
    },
    {
     "name": "stdout",
     "output_type": "stream",
     "text": [
      "159\n"
     ]
    },
    {
     "data": {
      "text/plain": [
       "'F://Environmental Baseline Data//Version 3//Data//Images as PDFs//A6F4Q7_page_191.pdf'"
      ]
     },
     "execution_count": 16,
     "metadata": {},
     "output_type": "execute_result"
    },
    {
     "name": "stdout",
     "output_type": "stream",
     "text": [
      "160\n"
     ]
    },
    {
     "data": {
      "text/plain": [
       "'F://Environmental Baseline Data//Version 3//Data//Images as PDFs//A6F4Q7_page_192.pdf'"
      ]
     },
     "execution_count": 16,
     "metadata": {},
     "output_type": "execute_result"
    },
    {
     "name": "stdout",
     "output_type": "stream",
     "text": [
      "161\n"
     ]
    },
    {
     "data": {
      "text/plain": [
       "'F://Environmental Baseline Data//Version 3//Data//Images as PDFs//A6F4Q7_page_193.pdf'"
      ]
     },
     "execution_count": 16,
     "metadata": {},
     "output_type": "execute_result"
    },
    {
     "name": "stdout",
     "output_type": "stream",
     "text": [
      "162\n"
     ]
    },
    {
     "data": {
      "text/plain": [
       "'F://Environmental Baseline Data//Version 3//Data//Images as PDFs//A6F4Q7_page_194.pdf'"
      ]
     },
     "execution_count": 16,
     "metadata": {},
     "output_type": "execute_result"
    },
    {
     "name": "stdout",
     "output_type": "stream",
     "text": [
      "163\n"
     ]
    },
    {
     "data": {
      "text/plain": [
       "'F://Environmental Baseline Data//Version 3//Data//Images as PDFs//A6F4Q7_page_195.pdf'"
      ]
     },
     "execution_count": 16,
     "metadata": {},
     "output_type": "execute_result"
    },
    {
     "name": "stdout",
     "output_type": "stream",
     "text": [
      "164\n"
     ]
    },
    {
     "data": {
      "text/plain": [
       "'F://Environmental Baseline Data//Version 3//Data//Images as PDFs//A6F4Q7_page_196.pdf'"
      ]
     },
     "execution_count": 16,
     "metadata": {},
     "output_type": "execute_result"
    },
    {
     "name": "stdout",
     "output_type": "stream",
     "text": [
      "165\n"
     ]
    },
    {
     "data": {
      "text/plain": [
       "'F://Environmental Baseline Data//Version 3//Data//Images as PDFs//A6F4Q7_page_197.pdf'"
      ]
     },
     "execution_count": 16,
     "metadata": {},
     "output_type": "execute_result"
    },
    {
     "name": "stdout",
     "output_type": "stream",
     "text": [
      "166\n"
     ]
    },
    {
     "data": {
      "text/plain": [
       "'F://Environmental Baseline Data//Version 3//Data//Images as PDFs//A6F4Q7_page_198.pdf'"
      ]
     },
     "execution_count": 16,
     "metadata": {},
     "output_type": "execute_result"
    },
    {
     "name": "stdout",
     "output_type": "stream",
     "text": [
      "167\n"
     ]
    },
    {
     "data": {
      "text/plain": [
       "'F://Environmental Baseline Data//Version 3//Data//Images as PDFs//A6F4Q7_page_199.pdf'"
      ]
     },
     "execution_count": 16,
     "metadata": {},
     "output_type": "execute_result"
    },
    {
     "name": "stdout",
     "output_type": "stream",
     "text": [
      "168\n"
     ]
    },
    {
     "data": {
      "text/plain": [
       "'F://Environmental Baseline Data//Version 3//Data//Images as PDFs//A6F4Q7_page_200.pdf'"
      ]
     },
     "execution_count": 16,
     "metadata": {},
     "output_type": "execute_result"
    },
    {
     "name": "stdout",
     "output_type": "stream",
     "text": [
      "169\n"
     ]
    },
    {
     "data": {
      "text/plain": [
       "'F://Environmental Baseline Data//Version 3//Data//Images as PDFs//A6F4Q7_page_201.pdf'"
      ]
     },
     "execution_count": 16,
     "metadata": {},
     "output_type": "execute_result"
    },
    {
     "name": "stdout",
     "output_type": "stream",
     "text": [
      "170\n"
     ]
    },
    {
     "data": {
      "text/plain": [
       "'F://Environmental Baseline Data//Version 3//Data//Images as PDFs//A6F4Q7_page_202.pdf'"
      ]
     },
     "execution_count": 16,
     "metadata": {},
     "output_type": "execute_result"
    },
    {
     "name": "stdout",
     "output_type": "stream",
     "text": [
      "171\n"
     ]
    },
    {
     "data": {
      "text/plain": [
       "'F://Environmental Baseline Data//Version 3//Data//Images as PDFs//A6F4Q7_page_203.pdf'"
      ]
     },
     "execution_count": 16,
     "metadata": {},
     "output_type": "execute_result"
    },
    {
     "name": "stdout",
     "output_type": "stream",
     "text": [
      "172\n"
     ]
    },
    {
     "data": {
      "text/plain": [
       "'F://Environmental Baseline Data//Version 3//Data//Images as PDFs//A6F4Q7_page_204.pdf'"
      ]
     },
     "execution_count": 16,
     "metadata": {},
     "output_type": "execute_result"
    },
    {
     "name": "stdout",
     "output_type": "stream",
     "text": [
      "173\n"
     ]
    },
    {
     "data": {
      "text/plain": [
       "'F://Environmental Baseline Data//Version 3//Data//Images as PDFs//A6F4Q7_page_205.pdf'"
      ]
     },
     "execution_count": 16,
     "metadata": {},
     "output_type": "execute_result"
    },
    {
     "name": "stdout",
     "output_type": "stream",
     "text": [
      "174\n"
     ]
    },
    {
     "data": {
      "text/plain": [
       "'F://Environmental Baseline Data//Version 3//Data//Images as PDFs//A6F4Q7_page_206.pdf'"
      ]
     },
     "execution_count": 16,
     "metadata": {},
     "output_type": "execute_result"
    },
    {
     "name": "stdout",
     "output_type": "stream",
     "text": [
      "175\n"
     ]
    },
    {
     "data": {
      "text/plain": [
       "'F://Environmental Baseline Data//Version 3//Data//Images as PDFs//A6F4Q7_page_207.pdf'"
      ]
     },
     "execution_count": 16,
     "metadata": {},
     "output_type": "execute_result"
    },
    {
     "name": "stdout",
     "output_type": "stream",
     "text": [
      "176\n"
     ]
    },
    {
     "data": {
      "text/plain": [
       "'F://Environmental Baseline Data//Version 3//Data//Images as PDFs//A6F4Q7_page_208.pdf'"
      ]
     },
     "execution_count": 16,
     "metadata": {},
     "output_type": "execute_result"
    },
    {
     "name": "stdout",
     "output_type": "stream",
     "text": [
      "177\n"
     ]
    },
    {
     "data": {
      "text/plain": [
       "'F://Environmental Baseline Data//Version 3//Data//Images as PDFs//A6F4Q7_page_209.pdf'"
      ]
     },
     "execution_count": 16,
     "metadata": {},
     "output_type": "execute_result"
    },
    {
     "name": "stdout",
     "output_type": "stream",
     "text": [
      "178\n"
     ]
    },
    {
     "data": {
      "text/plain": [
       "'F://Environmental Baseline Data//Version 3//Data//Images as PDFs//A6F4Q7_page_210.pdf'"
      ]
     },
     "execution_count": 16,
     "metadata": {},
     "output_type": "execute_result"
    },
    {
     "name": "stdout",
     "output_type": "stream",
     "text": [
      "179\n"
     ]
    },
    {
     "data": {
      "text/plain": [
       "'F://Environmental Baseline Data//Version 3//Data//Images as PDFs//A6F4Q7_page_211.pdf'"
      ]
     },
     "execution_count": 16,
     "metadata": {},
     "output_type": "execute_result"
    },
    {
     "name": "stdout",
     "output_type": "stream",
     "text": [
      "180\n"
     ]
    },
    {
     "data": {
      "text/plain": [
       "'F://Environmental Baseline Data//Version 3//Data//Images as PDFs//A6F4Q7_page_212.pdf'"
      ]
     },
     "execution_count": 16,
     "metadata": {},
     "output_type": "execute_result"
    },
    {
     "name": "stdout",
     "output_type": "stream",
     "text": [
      "181\n"
     ]
    },
    {
     "data": {
      "text/plain": [
       "'F://Environmental Baseline Data//Version 3//Data//Images as PDFs//A6F4Q7_page_213.pdf'"
      ]
     },
     "execution_count": 16,
     "metadata": {},
     "output_type": "execute_result"
    },
    {
     "name": "stdout",
     "output_type": "stream",
     "text": [
      "182\n"
     ]
    },
    {
     "data": {
      "text/plain": [
       "'F://Environmental Baseline Data//Version 3//Data//Images as PDFs//A6F4Q7_page_214.pdf'"
      ]
     },
     "execution_count": 16,
     "metadata": {},
     "output_type": "execute_result"
    },
    {
     "name": "stdout",
     "output_type": "stream",
     "text": [
      "183\n"
     ]
    },
    {
     "data": {
      "text/plain": [
       "'F://Environmental Baseline Data//Version 3//Data//Images as PDFs//A6F4Q7_page_215.pdf'"
      ]
     },
     "execution_count": 16,
     "metadata": {},
     "output_type": "execute_result"
    },
    {
     "name": "stdout",
     "output_type": "stream",
     "text": [
      "184\n"
     ]
    },
    {
     "data": {
      "text/plain": [
       "'F://Environmental Baseline Data//Version 3//Data//Images as PDFs//A6F4Q7_page_216.pdf'"
      ]
     },
     "execution_count": 16,
     "metadata": {},
     "output_type": "execute_result"
    },
    {
     "name": "stdout",
     "output_type": "stream",
     "text": [
      "185\n"
     ]
    },
    {
     "data": {
      "text/plain": [
       "'F://Environmental Baseline Data//Version 3//Data//Images as PDFs//A6F4Q7_page_217.pdf'"
      ]
     },
     "execution_count": 16,
     "metadata": {},
     "output_type": "execute_result"
    },
    {
     "name": "stdout",
     "output_type": "stream",
     "text": [
      "186\n"
     ]
    },
    {
     "data": {
      "text/plain": [
       "'F://Environmental Baseline Data//Version 3//Data//Images as PDFs//A6F4Q7_page_218.pdf'"
      ]
     },
     "execution_count": 16,
     "metadata": {},
     "output_type": "execute_result"
    },
    {
     "name": "stdout",
     "output_type": "stream",
     "text": [
      "187\n"
     ]
    },
    {
     "data": {
      "text/plain": [
       "'F://Environmental Baseline Data//Version 3//Data//Images as PDFs//A6F4Q7_page_219.pdf'"
      ]
     },
     "execution_count": 16,
     "metadata": {},
     "output_type": "execute_result"
    },
    {
     "name": "stdout",
     "output_type": "stream",
     "text": [
      "188\n"
     ]
    },
    {
     "data": {
      "text/plain": [
       "'F://Environmental Baseline Data//Version 3//Data//Images as PDFs//A6F4Q7_page_220.pdf'"
      ]
     },
     "execution_count": 16,
     "metadata": {},
     "output_type": "execute_result"
    },
    {
     "name": "stdout",
     "output_type": "stream",
     "text": [
      "189\n"
     ]
    },
    {
     "data": {
      "text/plain": [
       "'F://Environmental Baseline Data//Version 3//Data//Images as PDFs//A6F4Q7_page_221.pdf'"
      ]
     },
     "execution_count": 16,
     "metadata": {},
     "output_type": "execute_result"
    },
    {
     "name": "stdout",
     "output_type": "stream",
     "text": [
      "190\n"
     ]
    },
    {
     "data": {
      "text/plain": [
       "'F://Environmental Baseline Data//Version 3//Data//Images as PDFs//A6F4Q7_page_222.pdf'"
      ]
     },
     "execution_count": 16,
     "metadata": {},
     "output_type": "execute_result"
    },
    {
     "name": "stdout",
     "output_type": "stream",
     "text": [
      "191\n"
     ]
    },
    {
     "data": {
      "text/plain": [
       "'F://Environmental Baseline Data//Version 3//Data//Images as PDFs//A6F4Q7_page_223.pdf'"
      ]
     },
     "execution_count": 16,
     "metadata": {},
     "output_type": "execute_result"
    },
    {
     "name": "stdout",
     "output_type": "stream",
     "text": [
      "192\n"
     ]
    },
    {
     "data": {
      "text/plain": [
       "'F://Environmental Baseline Data//Version 3//Data//Images as PDFs//A6F4Q7_page_224.pdf'"
      ]
     },
     "execution_count": 16,
     "metadata": {},
     "output_type": "execute_result"
    },
    {
     "name": "stdout",
     "output_type": "stream",
     "text": [
      "193\n"
     ]
    },
    {
     "data": {
      "text/plain": [
       "'F://Environmental Baseline Data//Version 3//Data//Images as PDFs//A6F4Q7_page_225.pdf'"
      ]
     },
     "execution_count": 16,
     "metadata": {},
     "output_type": "execute_result"
    },
    {
     "name": "stdout",
     "output_type": "stream",
     "text": [
      "194\n"
     ]
    },
    {
     "data": {
      "text/plain": [
       "'F://Environmental Baseline Data//Version 3//Data//Images as PDFs//A6F4Q7_page_226.pdf'"
      ]
     },
     "execution_count": 16,
     "metadata": {},
     "output_type": "execute_result"
    },
    {
     "name": "stdout",
     "output_type": "stream",
     "text": [
      "195\n"
     ]
    },
    {
     "data": {
      "text/plain": [
       "'F://Environmental Baseline Data//Version 3//Data//Images as PDFs//A6F4Q7_page_227.pdf'"
      ]
     },
     "execution_count": 16,
     "metadata": {},
     "output_type": "execute_result"
    },
    {
     "name": "stdout",
     "output_type": "stream",
     "text": [
      "196\n"
     ]
    },
    {
     "data": {
      "text/plain": [
       "'F://Environmental Baseline Data//Version 3//Data//Images as PDFs//A6F4Q7_page_228.pdf'"
      ]
     },
     "execution_count": 16,
     "metadata": {},
     "output_type": "execute_result"
    },
    {
     "name": "stdout",
     "output_type": "stream",
     "text": [
      "197\n"
     ]
    },
    {
     "data": {
      "text/plain": [
       "'F://Environmental Baseline Data//Version 3//Data//Images as PDFs//A6F4Q7_page_229.pdf'"
      ]
     },
     "execution_count": 16,
     "metadata": {},
     "output_type": "execute_result"
    },
    {
     "name": "stdout",
     "output_type": "stream",
     "text": [
      "198\n"
     ]
    },
    {
     "data": {
      "text/plain": [
       "'F://Environmental Baseline Data//Version 3//Data//Images as PDFs//A6F4Q7_page_230.pdf'"
      ]
     },
     "execution_count": 16,
     "metadata": {},
     "output_type": "execute_result"
    },
    {
     "name": "stdout",
     "output_type": "stream",
     "text": [
      "199\n"
     ]
    },
    {
     "data": {
      "text/plain": [
       "'F://Environmental Baseline Data//Version 3//Data//Images as PDFs//A6F4Q7_page_231.pdf'"
      ]
     },
     "execution_count": 16,
     "metadata": {},
     "output_type": "execute_result"
    },
    {
     "name": "stdout",
     "output_type": "stream",
     "text": [
      "200\n"
     ]
    },
    {
     "data": {
      "text/plain": [
       "'F://Environmental Baseline Data//Version 3//Data//Images as PDFs//A6F4Q7_page_232.pdf'"
      ]
     },
     "execution_count": 16,
     "metadata": {},
     "output_type": "execute_result"
    },
    {
     "name": "stdout",
     "output_type": "stream",
     "text": [
      "201\n"
     ]
    },
    {
     "data": {
      "text/plain": [
       "'F://Environmental Baseline Data//Version 3//Data//Images as PDFs//A6F4Q7_page_233.pdf'"
      ]
     },
     "execution_count": 16,
     "metadata": {},
     "output_type": "execute_result"
    },
    {
     "name": "stdout",
     "output_type": "stream",
     "text": [
      "202\n"
     ]
    },
    {
     "data": {
      "text/plain": [
       "'F://Environmental Baseline Data//Version 3//Data//Images as PDFs//A6F4Q7_page_234.pdf'"
      ]
     },
     "execution_count": 16,
     "metadata": {},
     "output_type": "execute_result"
    },
    {
     "name": "stdout",
     "output_type": "stream",
     "text": [
      "203\n"
     ]
    },
    {
     "data": {
      "text/plain": [
       "'F://Environmental Baseline Data//Version 3//Data//Images as PDFs//A6F4Q7_page_235.pdf'"
      ]
     },
     "execution_count": 16,
     "metadata": {},
     "output_type": "execute_result"
    },
    {
     "name": "stdout",
     "output_type": "stream",
     "text": [
      "204\n"
     ]
    },
    {
     "data": {
      "text/plain": [
       "'F://Environmental Baseline Data//Version 3//Data//Images as PDFs//A6F4Q7_page_236.pdf'"
      ]
     },
     "execution_count": 16,
     "metadata": {},
     "output_type": "execute_result"
    },
    {
     "name": "stdout",
     "output_type": "stream",
     "text": [
      "205\n"
     ]
    },
    {
     "data": {
      "text/plain": [
       "'F://Environmental Baseline Data//Version 3//Data//Images as PDFs//A6F4Q7_page_237.pdf'"
      ]
     },
     "execution_count": 16,
     "metadata": {},
     "output_type": "execute_result"
    },
    {
     "name": "stdout",
     "output_type": "stream",
     "text": [
      "206\n"
     ]
    },
    {
     "data": {
      "text/plain": [
       "'F://Environmental Baseline Data//Version 3//Data//Images as PDFs//A6F4Q7_page_238.pdf'"
      ]
     },
     "execution_count": 16,
     "metadata": {},
     "output_type": "execute_result"
    },
    {
     "name": "stdout",
     "output_type": "stream",
     "text": [
      "207\n"
     ]
    },
    {
     "data": {
      "text/plain": [
       "'F://Environmental Baseline Data//Version 3//Data//Images as PDFs//A6F4Q7_page_239.pdf'"
      ]
     },
     "execution_count": 16,
     "metadata": {},
     "output_type": "execute_result"
    },
    {
     "name": "stdout",
     "output_type": "stream",
     "text": [
      "208\n"
     ]
    },
    {
     "data": {
      "text/plain": [
       "'F://Environmental Baseline Data//Version 3//Data//Images as PDFs//A6F4Q7_page_285.pdf'"
      ]
     },
     "execution_count": 16,
     "metadata": {},
     "output_type": "execute_result"
    },
    {
     "name": "stdout",
     "output_type": "stream",
     "text": [
      "209\n"
     ]
    },
    {
     "data": {
      "text/plain": [
       "'F://Environmental Baseline Data//Version 3//Data//Images as PDFs//A6F4Q7_page_286.pdf'"
      ]
     },
     "execution_count": 16,
     "metadata": {},
     "output_type": "execute_result"
    },
    {
     "name": "stdout",
     "output_type": "stream",
     "text": [
      "210\n"
     ]
    },
    {
     "data": {
      "text/plain": [
       "'F://Environmental Baseline Data//Version 3//Data//Images as PDFs//A6F4Q7_page_287.pdf'"
      ]
     },
     "execution_count": 16,
     "metadata": {},
     "output_type": "execute_result"
    },
    {
     "name": "stdout",
     "output_type": "stream",
     "text": [
      "211\n"
     ]
    },
    {
     "data": {
      "text/plain": [
       "'F://Environmental Baseline Data//Version 3//Data//Images as PDFs//A6F4Q7_page_288.pdf'"
      ]
     },
     "execution_count": 16,
     "metadata": {},
     "output_type": "execute_result"
    },
    {
     "name": "stdout",
     "output_type": "stream",
     "text": [
      "212\n"
     ]
    },
    {
     "data": {
      "text/plain": [
       "'F://Environmental Baseline Data//Version 3//Data//Images as PDFs//A6F4Q7_page_289.pdf'"
      ]
     },
     "execution_count": 16,
     "metadata": {},
     "output_type": "execute_result"
    },
    {
     "name": "stdout",
     "output_type": "stream",
     "text": [
      "213\n"
     ]
    },
    {
     "data": {
      "text/plain": [
       "'F://Environmental Baseline Data//Version 3//Data//Images as PDFs//A6F4Q7_page_290.pdf'"
      ]
     },
     "execution_count": 16,
     "metadata": {},
     "output_type": "execute_result"
    },
    {
     "name": "stdout",
     "output_type": "stream",
     "text": [
      "214\n"
     ]
    },
    {
     "data": {
      "text/plain": [
       "'F://Environmental Baseline Data//Version 3//Data//Images as PDFs//A6F4Q7_page_291.pdf'"
      ]
     },
     "execution_count": 16,
     "metadata": {},
     "output_type": "execute_result"
    },
    {
     "name": "stdout",
     "output_type": "stream",
     "text": [
      "215\n"
     ]
    },
    {
     "data": {
      "text/plain": [
       "'F://Environmental Baseline Data//Version 3//Data//Images as PDFs//A6F4Q7_page_292.pdf'"
      ]
     },
     "execution_count": 16,
     "metadata": {},
     "output_type": "execute_result"
    },
    {
     "name": "stdout",
     "output_type": "stream",
     "text": [
      "216\n"
     ]
    },
    {
     "data": {
      "text/plain": [
       "'F://Environmental Baseline Data//Version 3//Data//Images as PDFs//A6F4Q7_page_293.pdf'"
      ]
     },
     "execution_count": 16,
     "metadata": {},
     "output_type": "execute_result"
    },
    {
     "name": "stdout",
     "output_type": "stream",
     "text": [
      "217\n"
     ]
    },
    {
     "data": {
      "text/plain": [
       "'F://Environmental Baseline Data//Version 3//Data//Images as PDFs//A6F4Q7_page_294.pdf'"
      ]
     },
     "execution_count": 16,
     "metadata": {},
     "output_type": "execute_result"
    },
    {
     "name": "stdout",
     "output_type": "stream",
     "text": [
      "218\n"
     ]
    },
    {
     "data": {
      "text/plain": [
       "'F://Environmental Baseline Data//Version 3//Data//Images as PDFs//A6F4Q7_page_310.pdf'"
      ]
     },
     "execution_count": 16,
     "metadata": {},
     "output_type": "execute_result"
    },
    {
     "name": "stdout",
     "output_type": "stream",
     "text": [
      "219\n"
     ]
    },
    {
     "data": {
      "text/plain": [
       "'F://Environmental Baseline Data//Version 3//Data//Images as PDFs//A6F4Q7_page_311.pdf'"
      ]
     },
     "execution_count": 16,
     "metadata": {},
     "output_type": "execute_result"
    },
    {
     "name": "stdout",
     "output_type": "stream",
     "text": [
      "220\n"
     ]
    },
    {
     "data": {
      "text/plain": [
       "'F://Environmental Baseline Data//Version 3//Data//Images as PDFs//A6F4Q7_page_312.pdf'"
      ]
     },
     "execution_count": 16,
     "metadata": {},
     "output_type": "execute_result"
    },
    {
     "name": "stdout",
     "output_type": "stream",
     "text": [
      "221\n"
     ]
    },
    {
     "data": {
      "text/plain": [
       "'F://Environmental Baseline Data//Version 3//Data//Images as PDFs//A6F4Q7_page_313.pdf'"
      ]
     },
     "execution_count": 16,
     "metadata": {},
     "output_type": "execute_result"
    },
    {
     "name": "stdout",
     "output_type": "stream",
     "text": [
      "222\n"
     ]
    },
    {
     "data": {
      "text/plain": [
       "'F://Environmental Baseline Data//Version 3//Data//Images as PDFs//A6F4Q7_page_314.pdf'"
      ]
     },
     "execution_count": 16,
     "metadata": {},
     "output_type": "execute_result"
    },
    {
     "name": "stdout",
     "output_type": "stream",
     "text": [
      "223\n"
     ]
    },
    {
     "data": {
      "text/plain": [
       "'F://Environmental Baseline Data//Version 3//Data//Images as PDFs//A6F4Q7_page_315.pdf'"
      ]
     },
     "execution_count": 16,
     "metadata": {},
     "output_type": "execute_result"
    },
    {
     "name": "stdout",
     "output_type": "stream",
     "text": [
      "224\n"
     ]
    },
    {
     "data": {
      "text/plain": [
       "'F://Environmental Baseline Data//Version 3//Data//Images as PDFs//A6F4Q7_page_318.pdf'"
      ]
     },
     "execution_count": 16,
     "metadata": {},
     "output_type": "execute_result"
    },
    {
     "name": "stdout",
     "output_type": "stream",
     "text": [
      "225\n"
     ]
    },
    {
     "data": {
      "text/plain": [
       "'F://Environmental Baseline Data//Version 3//Data//Images as PDFs//A6F4Q7_page_319.pdf'"
      ]
     },
     "execution_count": 16,
     "metadata": {},
     "output_type": "execute_result"
    },
    {
     "name": "stdout",
     "output_type": "stream",
     "text": [
      "226\n"
     ]
    },
    {
     "data": {
      "text/plain": [
       "'F://Environmental Baseline Data//Version 3//Data//Images as PDFs//A6F4Q8_page_5.pdf'"
      ]
     },
     "execution_count": 16,
     "metadata": {},
     "output_type": "execute_result"
    },
    {
     "name": "stdout",
     "output_type": "stream",
     "text": [
      "227\n"
     ]
    },
    {
     "data": {
      "text/plain": [
       "'F://Environmental Baseline Data//Version 3//Data//Images as PDFs//A6F4Q8_page_18.pdf'"
      ]
     },
     "execution_count": 16,
     "metadata": {},
     "output_type": "execute_result"
    },
    {
     "name": "stdout",
     "output_type": "stream",
     "text": [
      "228\n"
     ]
    },
    {
     "data": {
      "text/plain": [
       "'F://Environmental Baseline Data//Version 3//Data//Images as PDFs//A6F4Q8_page_19.pdf'"
      ]
     },
     "execution_count": 16,
     "metadata": {},
     "output_type": "execute_result"
    },
    {
     "name": "stdout",
     "output_type": "stream",
     "text": [
      "229\n"
     ]
    },
    {
     "data": {
      "text/plain": [
       "'F://Environmental Baseline Data//Version 3//Data//Images as PDFs//A6F4Q8_page_20.pdf'"
      ]
     },
     "execution_count": 16,
     "metadata": {},
     "output_type": "execute_result"
    },
    {
     "name": "stdout",
     "output_type": "stream",
     "text": [
      "230\n"
     ]
    },
    {
     "data": {
      "text/plain": [
       "'F://Environmental Baseline Data//Version 3//Data//Images as PDFs//A6F4Q8_page_21.pdf'"
      ]
     },
     "execution_count": 16,
     "metadata": {},
     "output_type": "execute_result"
    },
    {
     "name": "stdout",
     "output_type": "stream",
     "text": [
      "231\n"
     ]
    },
    {
     "data": {
      "text/plain": [
       "'F://Environmental Baseline Data//Version 3//Data//Images as PDFs//A6F4Q8_page_23.pdf'"
      ]
     },
     "execution_count": 16,
     "metadata": {},
     "output_type": "execute_result"
    },
    {
     "name": "stdout",
     "output_type": "stream",
     "text": [
      "232\n"
     ]
    },
    {
     "data": {
      "text/plain": [
       "'F://Environmental Baseline Data//Version 3//Data//Images as PDFs//A6F4Q8_page_24.pdf'"
      ]
     },
     "execution_count": 16,
     "metadata": {},
     "output_type": "execute_result"
    },
    {
     "name": "stdout",
     "output_type": "stream",
     "text": [
      "233\n"
     ]
    },
    {
     "data": {
      "text/plain": [
       "'F://Environmental Baseline Data//Version 3//Data//Images as PDFs//A6F4Q8_page_25.pdf'"
      ]
     },
     "execution_count": 16,
     "metadata": {},
     "output_type": "execute_result"
    },
    {
     "name": "stdout",
     "output_type": "stream",
     "text": [
      "234\n"
     ]
    },
    {
     "data": {
      "text/plain": [
       "'F://Environmental Baseline Data//Version 3//Data//Images as PDFs//A6F4Q8_page_27.pdf'"
      ]
     },
     "execution_count": 16,
     "metadata": {},
     "output_type": "execute_result"
    },
    {
     "name": "stdout",
     "output_type": "stream",
     "text": [
      "235\n"
     ]
    },
    {
     "data": {
      "text/plain": [
       "'F://Environmental Baseline Data//Version 3//Data//Images as PDFs//A6F4Q8_page_28.pdf'"
      ]
     },
     "execution_count": 16,
     "metadata": {},
     "output_type": "execute_result"
    },
    {
     "name": "stdout",
     "output_type": "stream",
     "text": [
      "236\n"
     ]
    },
    {
     "data": {
      "text/plain": [
       "'F://Environmental Baseline Data//Version 3//Data//Images as PDFs//A6F4Q8_page_29.pdf'"
      ]
     },
     "execution_count": 16,
     "metadata": {},
     "output_type": "execute_result"
    },
    {
     "name": "stdout",
     "output_type": "stream",
     "text": [
      "237\n"
     ]
    },
    {
     "data": {
      "text/plain": [
       "'F://Environmental Baseline Data//Version 3//Data//Images as PDFs//A6F4Q8_page_35.pdf'"
      ]
     },
     "execution_count": 16,
     "metadata": {},
     "output_type": "execute_result"
    },
    {
     "name": "stdout",
     "output_type": "stream",
     "text": [
      "238\n"
     ]
    },
    {
     "data": {
      "text/plain": [
       "'F://Environmental Baseline Data//Version 3//Data//Images as PDFs//A6F4Q8_page_36.pdf'"
      ]
     },
     "execution_count": 16,
     "metadata": {},
     "output_type": "execute_result"
    },
    {
     "name": "stdout",
     "output_type": "stream",
     "text": [
      "239\n"
     ]
    },
    {
     "data": {
      "text/plain": [
       "'F://Environmental Baseline Data//Version 3//Data//Images as PDFs//A6F4Q8_page_37.pdf'"
      ]
     },
     "execution_count": 16,
     "metadata": {},
     "output_type": "execute_result"
    },
    {
     "name": "stdout",
     "output_type": "stream",
     "text": [
      "240\n"
     ]
    },
    {
     "data": {
      "text/plain": [
       "'F://Environmental Baseline Data//Version 3//Data//Images as PDFs//A6F4Q8_page_66.pdf'"
      ]
     },
     "execution_count": 16,
     "metadata": {},
     "output_type": "execute_result"
    },
    {
     "name": "stdout",
     "output_type": "stream",
     "text": [
      "241\n"
     ]
    },
    {
     "data": {
      "text/plain": [
       "'F://Environmental Baseline Data//Version 3//Data//Images as PDFs//A6F4Q8_page_67.pdf'"
      ]
     },
     "execution_count": 16,
     "metadata": {},
     "output_type": "execute_result"
    },
    {
     "name": "stdout",
     "output_type": "stream",
     "text": [
      "242\n"
     ]
    },
    {
     "data": {
      "text/plain": [
       "'F://Environmental Baseline Data//Version 3//Data//Images as PDFs//A6F4Q8_page_68.pdf'"
      ]
     },
     "execution_count": 16,
     "metadata": {},
     "output_type": "execute_result"
    },
    {
     "name": "stdout",
     "output_type": "stream",
     "text": [
      "243\n"
     ]
    },
    {
     "data": {
      "text/plain": [
       "'F://Environmental Baseline Data//Version 3//Data//Images as PDFs//A6F4Q8_page_69.pdf'"
      ]
     },
     "execution_count": 16,
     "metadata": {},
     "output_type": "execute_result"
    },
    {
     "name": "stdout",
     "output_type": "stream",
     "text": [
      "244\n"
     ]
    },
    {
     "data": {
      "text/plain": [
       "'F://Environmental Baseline Data//Version 3//Data//Images as PDFs//A6F4Q8_page_70.pdf'"
      ]
     },
     "execution_count": 16,
     "metadata": {},
     "output_type": "execute_result"
    },
    {
     "name": "stdout",
     "output_type": "stream",
     "text": [
      "245\n"
     ]
    },
    {
     "data": {
      "text/plain": [
       "'F://Environmental Baseline Data//Version 3//Data//Images as PDFs//A6F4Q8_page_71.pdf'"
      ]
     },
     "execution_count": 16,
     "metadata": {},
     "output_type": "execute_result"
    },
    {
     "name": "stdout",
     "output_type": "stream",
     "text": [
      "246\n"
     ]
    },
    {
     "data": {
      "text/plain": [
       "'F://Environmental Baseline Data//Version 3//Data//Images as PDFs//A6F4Q8_page_113.pdf'"
      ]
     },
     "execution_count": 16,
     "metadata": {},
     "output_type": "execute_result"
    },
    {
     "name": "stdout",
     "output_type": "stream",
     "text": [
      "247\n"
     ]
    },
    {
     "data": {
      "text/plain": [
       "'F://Environmental Baseline Data//Version 3//Data//Images as PDFs//A6F4Q8_page_116.pdf'"
      ]
     },
     "execution_count": 16,
     "metadata": {},
     "output_type": "execute_result"
    },
    {
     "name": "stdout",
     "output_type": "stream",
     "text": [
      "248\n"
     ]
    },
    {
     "data": {
      "text/plain": [
       "'F://Environmental Baseline Data//Version 3//Data//Images as PDFs//A6F4Q9_page_11.pdf'"
      ]
     },
     "execution_count": 16,
     "metadata": {},
     "output_type": "execute_result"
    },
    {
     "name": "stdout",
     "output_type": "stream",
     "text": [
      "249\n"
     ]
    },
    {
     "data": {
      "text/plain": [
       "'F://Environmental Baseline Data//Version 3//Data//Images as PDFs//A6F4Q9_page_230.pdf'"
      ]
     },
     "execution_count": 16,
     "metadata": {},
     "output_type": "execute_result"
    },
    {
     "name": "stdout",
     "output_type": "stream",
     "text": [
      "250\n"
     ]
    },
    {
     "data": {
      "text/plain": [
       "'F://Environmental Baseline Data//Version 3//Data//Images as PDFs//A6F4Q9_page_233.pdf'"
      ]
     },
     "execution_count": 16,
     "metadata": {},
     "output_type": "execute_result"
    },
    {
     "name": "stdout",
     "output_type": "stream",
     "text": [
      "251\n"
     ]
    },
    {
     "data": {
      "text/plain": [
       "'F://Environmental Baseline Data//Version 3//Data//Images as PDFs//A6F4Q9_page_241.pdf'"
      ]
     },
     "execution_count": 16,
     "metadata": {},
     "output_type": "execute_result"
    },
    {
     "name": "stdout",
     "output_type": "stream",
     "text": [
      "252\n"
     ]
    },
    {
     "data": {
      "text/plain": [
       "'F://Environmental Baseline Data//Version 3//Data//Images as PDFs//A6F4Q9_page_242.pdf'"
      ]
     },
     "execution_count": 16,
     "metadata": {},
     "output_type": "execute_result"
    },
    {
     "name": "stdout",
     "output_type": "stream",
     "text": [
      "253\n"
     ]
    },
    {
     "data": {
      "text/plain": [
       "'F://Environmental Baseline Data//Version 3//Data//Images as PDFs//A6F4Q9_page_243.pdf'"
      ]
     },
     "execution_count": 16,
     "metadata": {},
     "output_type": "execute_result"
    },
    {
     "name": "stdout",
     "output_type": "stream",
     "text": [
      "254\n"
     ]
    },
    {
     "data": {
      "text/plain": [
       "'F://Environmental Baseline Data//Version 3//Data//Images as PDFs//A6F4R2_page_97.pdf'"
      ]
     },
     "execution_count": 16,
     "metadata": {},
     "output_type": "execute_result"
    },
    {
     "name": "stdout",
     "output_type": "stream",
     "text": [
      "255\n"
     ]
    },
    {
     "data": {
      "text/plain": [
       "'F://Environmental Baseline Data//Version 3//Data//Images as PDFs//A6F4R2_page_98.pdf'"
      ]
     },
     "execution_count": 16,
     "metadata": {},
     "output_type": "execute_result"
    },
    {
     "name": "stdout",
     "output_type": "stream",
     "text": [
      "256\n"
     ]
    },
    {
     "data": {
      "text/plain": [
       "'F://Environmental Baseline Data//Version 3//Data//Images as PDFs//A6F4R2_page_99.pdf'"
      ]
     },
     "execution_count": 16,
     "metadata": {},
     "output_type": "execute_result"
    },
    {
     "name": "stdout",
     "output_type": "stream",
     "text": [
      "257\n"
     ]
    },
    {
     "data": {
      "text/plain": [
       "'F://Environmental Baseline Data//Version 3//Data//Images as PDFs//A6F4R2_page_100.pdf'"
      ]
     },
     "execution_count": 16,
     "metadata": {},
     "output_type": "execute_result"
    },
    {
     "name": "stdout",
     "output_type": "stream",
     "text": [
      "258\n"
     ]
    },
    {
     "data": {
      "text/plain": [
       "'F://Environmental Baseline Data//Version 3//Data//Images as PDFs//A6F4R2_page_101.pdf'"
      ]
     },
     "execution_count": 16,
     "metadata": {},
     "output_type": "execute_result"
    },
    {
     "name": "stdout",
     "output_type": "stream",
     "text": [
      "259\n"
     ]
    },
    {
     "data": {
      "text/plain": [
       "'F://Environmental Baseline Data//Version 3//Data//Images as PDFs//A6F4R2_page_102.pdf'"
      ]
     },
     "execution_count": 16,
     "metadata": {},
     "output_type": "execute_result"
    },
    {
     "name": "stdout",
     "output_type": "stream",
     "text": [
      "260\n"
     ]
    },
    {
     "data": {
      "text/plain": [
       "'F://Environmental Baseline Data//Version 3//Data//Images as PDFs//A6F4R2_page_103.pdf'"
      ]
     },
     "execution_count": 16,
     "metadata": {},
     "output_type": "execute_result"
    },
    {
     "name": "stdout",
     "output_type": "stream",
     "text": [
      "261\n"
     ]
    },
    {
     "data": {
      "text/plain": [
       "'F://Environmental Baseline Data//Version 3//Data//Images as PDFs//A6F4R2_page_104.pdf'"
      ]
     },
     "execution_count": 16,
     "metadata": {},
     "output_type": "execute_result"
    },
    {
     "name": "stdout",
     "output_type": "stream",
     "text": [
      "262\n"
     ]
    },
    {
     "data": {
      "text/plain": [
       "'F://Environmental Baseline Data//Version 3//Data//Images as PDFs//A6F4R2_page_128.pdf'"
      ]
     },
     "execution_count": 16,
     "metadata": {},
     "output_type": "execute_result"
    },
    {
     "name": "stdout",
     "output_type": "stream",
     "text": [
      "263\n"
     ]
    },
    {
     "data": {
      "text/plain": [
       "'F://Environmental Baseline Data//Version 3//Data//Images as PDFs//A6F4R2_page_128.pdf'"
      ]
     },
     "execution_count": 16,
     "metadata": {},
     "output_type": "execute_result"
    },
    {
     "name": "stdout",
     "output_type": "stream",
     "text": [
      "264\n"
     ]
    },
    {
     "data": {
      "text/plain": [
       "'F://Environmental Baseline Data//Version 3//Data//Images as PDFs//A6F4R2_page_129.pdf'"
      ]
     },
     "execution_count": 16,
     "metadata": {},
     "output_type": "execute_result"
    },
    {
     "name": "stdout",
     "output_type": "stream",
     "text": [
      "265\n"
     ]
    },
    {
     "data": {
      "text/plain": [
       "'F://Environmental Baseline Data//Version 3//Data//Images as PDFs//A6F4R2_page_130.pdf'"
      ]
     },
     "execution_count": 16,
     "metadata": {},
     "output_type": "execute_result"
    },
    {
     "name": "stdout",
     "output_type": "stream",
     "text": [
      "266\n"
     ]
    },
    {
     "data": {
      "text/plain": [
       "'F://Environmental Baseline Data//Version 3//Data//Images as PDFs//A6F4R2_page_131.pdf'"
      ]
     },
     "execution_count": 16,
     "metadata": {},
     "output_type": "execute_result"
    },
    {
     "name": "stdout",
     "output_type": "stream",
     "text": [
      "267\n"
     ]
    },
    {
     "data": {
      "text/plain": [
       "'F://Environmental Baseline Data//Version 3//Data//Images as PDFs//A6F4R2_page_131.pdf'"
      ]
     },
     "execution_count": 16,
     "metadata": {},
     "output_type": "execute_result"
    },
    {
     "name": "stdout",
     "output_type": "stream",
     "text": [
      "268\n"
     ]
    },
    {
     "data": {
      "text/plain": [
       "'F://Environmental Baseline Data//Version 3//Data//Images as PDFs//A6F4R2_page_132.pdf'"
      ]
     },
     "execution_count": 16,
     "metadata": {},
     "output_type": "execute_result"
    },
    {
     "name": "stdout",
     "output_type": "stream",
     "text": [
      "269\n"
     ]
    },
    {
     "data": {
      "text/plain": [
       "'F://Environmental Baseline Data//Version 3//Data//Images as PDFs//A6F4R2_page_133.pdf'"
      ]
     },
     "execution_count": 16,
     "metadata": {},
     "output_type": "execute_result"
    },
    {
     "name": "stdout",
     "output_type": "stream",
     "text": [
      "270\n"
     ]
    },
    {
     "data": {
      "text/plain": [
       "'F://Environmental Baseline Data//Version 3//Data//Images as PDFs//A6F4R2_page_135.pdf'"
      ]
     },
     "execution_count": 16,
     "metadata": {},
     "output_type": "execute_result"
    },
    {
     "name": "stdout",
     "output_type": "stream",
     "text": [
      "271\n"
     ]
    },
    {
     "data": {
      "text/plain": [
       "'F://Environmental Baseline Data//Version 3//Data//Images as PDFs//A6F4R2_page_136.pdf'"
      ]
     },
     "execution_count": 16,
     "metadata": {},
     "output_type": "execute_result"
    },
    {
     "name": "stdout",
     "output_type": "stream",
     "text": [
      "272\n"
     ]
    },
    {
     "data": {
      "text/plain": [
       "'F://Environmental Baseline Data//Version 3//Data//Images as PDFs//A6F4R2_page_137.pdf'"
      ]
     },
     "execution_count": 16,
     "metadata": {},
     "output_type": "execute_result"
    },
    {
     "name": "stdout",
     "output_type": "stream",
     "text": [
      "273\n"
     ]
    },
    {
     "data": {
      "text/plain": [
       "'F://Environmental Baseline Data//Version 3//Data//Images as PDFs//A6F4R2_page_138.pdf'"
      ]
     },
     "execution_count": 16,
     "metadata": {},
     "output_type": "execute_result"
    },
    {
     "name": "stdout",
     "output_type": "stream",
     "text": [
      "274\n"
     ]
    },
    {
     "data": {
      "text/plain": [
       "'F://Environmental Baseline Data//Version 3//Data//Images as PDFs//A6F4R2_page_139.pdf'"
      ]
     },
     "execution_count": 16,
     "metadata": {},
     "output_type": "execute_result"
    },
    {
     "name": "stdout",
     "output_type": "stream",
     "text": [
      "275\n"
     ]
    },
    {
     "data": {
      "text/plain": [
       "'F://Environmental Baseline Data//Version 3//Data//Images as PDFs//A6F4R2_page_139.pdf'"
      ]
     },
     "execution_count": 16,
     "metadata": {},
     "output_type": "execute_result"
    },
    {
     "name": "stdout",
     "output_type": "stream",
     "text": [
      "276\n"
     ]
    },
    {
     "data": {
      "text/plain": [
       "'F://Environmental Baseline Data//Version 3//Data//Images as PDFs//A6F4R2_page_142.pdf'"
      ]
     },
     "execution_count": 16,
     "metadata": {},
     "output_type": "execute_result"
    },
    {
     "name": "stdout",
     "output_type": "stream",
     "text": [
      "277\n"
     ]
    },
    {
     "data": {
      "text/plain": [
       "'F://Environmental Baseline Data//Version 3//Data//Images as PDFs//A6F4R2_page_143.pdf'"
      ]
     },
     "execution_count": 16,
     "metadata": {},
     "output_type": "execute_result"
    },
    {
     "name": "stdout",
     "output_type": "stream",
     "text": [
      "278\n"
     ]
    },
    {
     "data": {
      "text/plain": [
       "'F://Environmental Baseline Data//Version 3//Data//Images as PDFs//A6F4R2_page_143.pdf'"
      ]
     },
     "execution_count": 16,
     "metadata": {},
     "output_type": "execute_result"
    },
    {
     "name": "stdout",
     "output_type": "stream",
     "text": [
      "279\n"
     ]
    },
    {
     "data": {
      "text/plain": [
       "'F://Environmental Baseline Data//Version 3//Data//Images as PDFs//A6F4R2_page_145.pdf'"
      ]
     },
     "execution_count": 16,
     "metadata": {},
     "output_type": "execute_result"
    },
    {
     "name": "stdout",
     "output_type": "stream",
     "text": [
      "280\n"
     ]
    },
    {
     "data": {
      "text/plain": [
       "'F://Environmental Baseline Data//Version 3//Data//Images as PDFs//A6F4R2_page_146.pdf'"
      ]
     },
     "execution_count": 16,
     "metadata": {},
     "output_type": "execute_result"
    },
    {
     "name": "stdout",
     "output_type": "stream",
     "text": [
      "281\n"
     ]
    },
    {
     "data": {
      "text/plain": [
       "'F://Environmental Baseline Data//Version 3//Data//Images as PDFs//A6F4R2_page_147.pdf'"
      ]
     },
     "execution_count": 16,
     "metadata": {},
     "output_type": "execute_result"
    },
    {
     "name": "stdout",
     "output_type": "stream",
     "text": [
      "282\n"
     ]
    },
    {
     "data": {
      "text/plain": [
       "'F://Environmental Baseline Data//Version 3//Data//Images as PDFs//A6F4R2_page_148.pdf'"
      ]
     },
     "execution_count": 16,
     "metadata": {},
     "output_type": "execute_result"
    },
    {
     "name": "stdout",
     "output_type": "stream",
     "text": [
      "283\n"
     ]
    },
    {
     "data": {
      "text/plain": [
       "'F://Environmental Baseline Data//Version 3//Data//Images as PDFs//A6F4R2_page_149.pdf'"
      ]
     },
     "execution_count": 16,
     "metadata": {},
     "output_type": "execute_result"
    },
    {
     "name": "stdout",
     "output_type": "stream",
     "text": [
      "284\n"
     ]
    },
    {
     "data": {
      "text/plain": [
       "'F://Environmental Baseline Data//Version 3//Data//Images as PDFs//A6F4R2_page_150.pdf'"
      ]
     },
     "execution_count": 16,
     "metadata": {},
     "output_type": "execute_result"
    },
    {
     "name": "stdout",
     "output_type": "stream",
     "text": [
      "285\n"
     ]
    },
    {
     "data": {
      "text/plain": [
       "'F://Environmental Baseline Data//Version 3//Data//Images as PDFs//A6F4R2_page_151.pdf'"
      ]
     },
     "execution_count": 16,
     "metadata": {},
     "output_type": "execute_result"
    },
    {
     "name": "stdout",
     "output_type": "stream",
     "text": [
      "286\n"
     ]
    },
    {
     "data": {
      "text/plain": [
       "'F://Environmental Baseline Data//Version 3//Data//Images as PDFs//A6F4R2_page_153.pdf'"
      ]
     },
     "execution_count": 16,
     "metadata": {},
     "output_type": "execute_result"
    },
    {
     "name": "stdout",
     "output_type": "stream",
     "text": [
      "287\n"
     ]
    },
    {
     "data": {
      "text/plain": [
       "'F://Environmental Baseline Data//Version 3//Data//Images as PDFs//A6F4R2_page_154.pdf'"
      ]
     },
     "execution_count": 16,
     "metadata": {},
     "output_type": "execute_result"
    },
    {
     "name": "stdout",
     "output_type": "stream",
     "text": [
      "288\n"
     ]
    },
    {
     "data": {
      "text/plain": [
       "'F://Environmental Baseline Data//Version 3//Data//Images as PDFs//A6F4R2_page_155.pdf'"
      ]
     },
     "execution_count": 16,
     "metadata": {},
     "output_type": "execute_result"
    },
    {
     "name": "stdout",
     "output_type": "stream",
     "text": [
      "289\n"
     ]
    },
    {
     "data": {
      "text/plain": [
       "'F://Environmental Baseline Data//Version 3//Data//Images as PDFs//A6F4R2_page_156.pdf'"
      ]
     },
     "execution_count": 16,
     "metadata": {},
     "output_type": "execute_result"
    },
    {
     "name": "stdout",
     "output_type": "stream",
     "text": [
      "290\n"
     ]
    },
    {
     "data": {
      "text/plain": [
       "'F://Environmental Baseline Data//Version 3//Data//Images as PDFs//A6F4R2_page_157.pdf'"
      ]
     },
     "execution_count": 16,
     "metadata": {},
     "output_type": "execute_result"
    },
    {
     "name": "stdout",
     "output_type": "stream",
     "text": [
      "291\n"
     ]
    },
    {
     "data": {
      "text/plain": [
       "'F://Environmental Baseline Data//Version 3//Data//Images as PDFs//A6F4R2_page_158.pdf'"
      ]
     },
     "execution_count": 16,
     "metadata": {},
     "output_type": "execute_result"
    },
    {
     "name": "stdout",
     "output_type": "stream",
     "text": [
      "292\n"
     ]
    },
    {
     "data": {
      "text/plain": [
       "'F://Environmental Baseline Data//Version 3//Data//Images as PDFs//A6F4R2_page_159.pdf'"
      ]
     },
     "execution_count": 16,
     "metadata": {},
     "output_type": "execute_result"
    },
    {
     "name": "stdout",
     "output_type": "stream",
     "text": [
      "293\n"
     ]
    },
    {
     "data": {
      "text/plain": [
       "'F://Environmental Baseline Data//Version 3//Data//Images as PDFs//A6F4R2_page_160.pdf'"
      ]
     },
     "execution_count": 16,
     "metadata": {},
     "output_type": "execute_result"
    },
    {
     "name": "stdout",
     "output_type": "stream",
     "text": [
      "294\n"
     ]
    },
    {
     "data": {
      "text/plain": [
       "'F://Environmental Baseline Data//Version 3//Data//Images as PDFs//A6F4R2_page_161.pdf'"
      ]
     },
     "execution_count": 16,
     "metadata": {},
     "output_type": "execute_result"
    },
    {
     "name": "stdout",
     "output_type": "stream",
     "text": [
      "295\n"
     ]
    },
    {
     "data": {
      "text/plain": [
       "'F://Environmental Baseline Data//Version 3//Data//Images as PDFs//A6F4R2_page_162.pdf'"
      ]
     },
     "execution_count": 16,
     "metadata": {},
     "output_type": "execute_result"
    },
    {
     "name": "stdout",
     "output_type": "stream",
     "text": [
      "296\n"
     ]
    },
    {
     "data": {
      "text/plain": [
       "'F://Environmental Baseline Data//Version 3//Data//Images as PDFs//A6F4R2_page_163.pdf'"
      ]
     },
     "execution_count": 16,
     "metadata": {},
     "output_type": "execute_result"
    },
    {
     "name": "stdout",
     "output_type": "stream",
     "text": [
      "297\n"
     ]
    },
    {
     "data": {
      "text/plain": [
       "'F://Environmental Baseline Data//Version 3//Data//Images as PDFs//A6F4R2_page_164.pdf'"
      ]
     },
     "execution_count": 16,
     "metadata": {},
     "output_type": "execute_result"
    },
    {
     "name": "stdout",
     "output_type": "stream",
     "text": [
      "298\n"
     ]
    },
    {
     "data": {
      "text/plain": [
       "'F://Environmental Baseline Data//Version 3//Data//Images as PDFs//A6F4R2_page_165.pdf'"
      ]
     },
     "execution_count": 16,
     "metadata": {},
     "output_type": "execute_result"
    },
    {
     "name": "stdout",
     "output_type": "stream",
     "text": [
      "299\n"
     ]
    },
    {
     "data": {
      "text/plain": [
       "'F://Environmental Baseline Data//Version 3//Data//Images as PDFs//A6F4R2_page_166.pdf'"
      ]
     },
     "execution_count": 16,
     "metadata": {},
     "output_type": "execute_result"
    },
    {
     "name": "stdout",
     "output_type": "stream",
     "text": [
      "300\n"
     ]
    },
    {
     "data": {
      "text/plain": [
       "'F://Environmental Baseline Data//Version 3//Data//Images as PDFs//A6F4R2_page_168.pdf'"
      ]
     },
     "execution_count": 16,
     "metadata": {},
     "output_type": "execute_result"
    },
    {
     "name": "stdout",
     "output_type": "stream",
     "text": [
      "301\n"
     ]
    },
    {
     "data": {
      "text/plain": [
       "'F://Environmental Baseline Data//Version 3//Data//Images as PDFs//A6F4R2_page_169.pdf'"
      ]
     },
     "execution_count": 16,
     "metadata": {},
     "output_type": "execute_result"
    },
    {
     "name": "stdout",
     "output_type": "stream",
     "text": [
      "302\n"
     ]
    },
    {
     "data": {
      "text/plain": [
       "'F://Environmental Baseline Data//Version 3//Data//Images as PDFs//A6F4R2_page_170.pdf'"
      ]
     },
     "execution_count": 16,
     "metadata": {},
     "output_type": "execute_result"
    },
    {
     "name": "stdout",
     "output_type": "stream",
     "text": [
      "303\n"
     ]
    },
    {
     "data": {
      "text/plain": [
       "'F://Environmental Baseline Data//Version 3//Data//Images as PDFs//A6F4R2_page_171.pdf'"
      ]
     },
     "execution_count": 16,
     "metadata": {},
     "output_type": "execute_result"
    },
    {
     "name": "stdout",
     "output_type": "stream",
     "text": [
      "304\n"
     ]
    },
    {
     "data": {
      "text/plain": [
       "'F://Environmental Baseline Data//Version 3//Data//Images as PDFs//A6F4R2_page_172.pdf'"
      ]
     },
     "execution_count": 16,
     "metadata": {},
     "output_type": "execute_result"
    },
    {
     "name": "stdout",
     "output_type": "stream",
     "text": [
      "305\n"
     ]
    },
    {
     "data": {
      "text/plain": [
       "'F://Environmental Baseline Data//Version 3//Data//Images as PDFs//A6F4R2_page_173.pdf'"
      ]
     },
     "execution_count": 16,
     "metadata": {},
     "output_type": "execute_result"
    },
    {
     "name": "stdout",
     "output_type": "stream",
     "text": [
      "306\n"
     ]
    },
    {
     "data": {
      "text/plain": [
       "'F://Environmental Baseline Data//Version 3//Data//Images as PDFs//A6F4R2_page_174.pdf'"
      ]
     },
     "execution_count": 16,
     "metadata": {},
     "output_type": "execute_result"
    },
    {
     "name": "stdout",
     "output_type": "stream",
     "text": [
      "307\n"
     ]
    },
    {
     "data": {
      "text/plain": [
       "'F://Environmental Baseline Data//Version 3//Data//Images as PDFs//A6F4R2_page_176.pdf'"
      ]
     },
     "execution_count": 16,
     "metadata": {},
     "output_type": "execute_result"
    },
    {
     "name": "stdout",
     "output_type": "stream",
     "text": [
      "308\n"
     ]
    },
    {
     "data": {
      "text/plain": [
       "'F://Environmental Baseline Data//Version 3//Data//Images as PDFs//A6F4R2_page_177.pdf'"
      ]
     },
     "execution_count": 16,
     "metadata": {},
     "output_type": "execute_result"
    },
    {
     "name": "stdout",
     "output_type": "stream",
     "text": [
      "309\n"
     ]
    },
    {
     "data": {
      "text/plain": [
       "'F://Environmental Baseline Data//Version 3//Data//Images as PDFs//A6F4R2_page_178.pdf'"
      ]
     },
     "execution_count": 16,
     "metadata": {},
     "output_type": "execute_result"
    },
    {
     "name": "stdout",
     "output_type": "stream",
     "text": [
      "310\n"
     ]
    },
    {
     "data": {
      "text/plain": [
       "'F://Environmental Baseline Data//Version 3//Data//Images as PDFs//A6F4R2_page_179.pdf'"
      ]
     },
     "execution_count": 16,
     "metadata": {},
     "output_type": "execute_result"
    },
    {
     "name": "stdout",
     "output_type": "stream",
     "text": [
      "311\n"
     ]
    },
    {
     "data": {
      "text/plain": [
       "'F://Environmental Baseline Data//Version 3//Data//Images as PDFs//A6F4R2_page_180.pdf'"
      ]
     },
     "execution_count": 16,
     "metadata": {},
     "output_type": "execute_result"
    },
    {
     "name": "stdout",
     "output_type": "stream",
     "text": [
      "312\n"
     ]
    },
    {
     "data": {
      "text/plain": [
       "'F://Environmental Baseline Data//Version 3//Data//Images as PDFs//A6F4R2_page_181.pdf'"
      ]
     },
     "execution_count": 16,
     "metadata": {},
     "output_type": "execute_result"
    },
    {
     "name": "stdout",
     "output_type": "stream",
     "text": [
      "313\n"
     ]
    },
    {
     "data": {
      "text/plain": [
       "'F://Environmental Baseline Data//Version 3//Data//Images as PDFs//A6F4R2_page_182.pdf'"
      ]
     },
     "execution_count": 16,
     "metadata": {},
     "output_type": "execute_result"
    },
    {
     "name": "stdout",
     "output_type": "stream",
     "text": [
      "314\n"
     ]
    },
    {
     "data": {
      "text/plain": [
       "'F://Environmental Baseline Data//Version 3//Data//Images as PDFs//A6F4R2_page_184.pdf'"
      ]
     },
     "execution_count": 16,
     "metadata": {},
     "output_type": "execute_result"
    },
    {
     "name": "stdout",
     "output_type": "stream",
     "text": [
      "315\n"
     ]
    },
    {
     "data": {
      "text/plain": [
       "'F://Environmental Baseline Data//Version 3//Data//Images as PDFs//A6F4R2_page_185.pdf'"
      ]
     },
     "execution_count": 16,
     "metadata": {},
     "output_type": "execute_result"
    },
    {
     "name": "stdout",
     "output_type": "stream",
     "text": [
      "316\n"
     ]
    },
    {
     "data": {
      "text/plain": [
       "'F://Environmental Baseline Data//Version 3//Data//Images as PDFs//A6F4R2_page_186.pdf'"
      ]
     },
     "execution_count": 16,
     "metadata": {},
     "output_type": "execute_result"
    },
    {
     "name": "stdout",
     "output_type": "stream",
     "text": [
      "317\n"
     ]
    },
    {
     "data": {
      "text/plain": [
       "'F://Environmental Baseline Data//Version 3//Data//Images as PDFs//A6F4R2_page_187.pdf'"
      ]
     },
     "execution_count": 16,
     "metadata": {},
     "output_type": "execute_result"
    },
    {
     "name": "stdout",
     "output_type": "stream",
     "text": [
      "318\n"
     ]
    },
    {
     "data": {
      "text/plain": [
       "'F://Environmental Baseline Data//Version 3//Data//Images as PDFs//A6F4R2_page_188.pdf'"
      ]
     },
     "execution_count": 16,
     "metadata": {},
     "output_type": "execute_result"
    },
    {
     "name": "stdout",
     "output_type": "stream",
     "text": [
      "319\n"
     ]
    },
    {
     "data": {
      "text/plain": [
       "'F://Environmental Baseline Data//Version 3//Data//Images as PDFs//A6F4R2_page_189.pdf'"
      ]
     },
     "execution_count": 16,
     "metadata": {},
     "output_type": "execute_result"
    },
    {
     "name": "stdout",
     "output_type": "stream",
     "text": [
      "320\n"
     ]
    },
    {
     "data": {
      "text/plain": [
       "'F://Environmental Baseline Data//Version 3//Data//Images as PDFs//A6F4R2_page_190.pdf'"
      ]
     },
     "execution_count": 16,
     "metadata": {},
     "output_type": "execute_result"
    },
    {
     "name": "stdout",
     "output_type": "stream",
     "text": [
      "321\n"
     ]
    },
    {
     "data": {
      "text/plain": [
       "'F://Environmental Baseline Data//Version 3//Data//Images as PDFs//A6F4R2_page_193.pdf'"
      ]
     },
     "execution_count": 16,
     "metadata": {},
     "output_type": "execute_result"
    },
    {
     "name": "stdout",
     "output_type": "stream",
     "text": [
      "322\n"
     ]
    },
    {
     "data": {
      "text/plain": [
       "'F://Environmental Baseline Data//Version 3//Data//Images as PDFs//A6F4R2_page_194.pdf'"
      ]
     },
     "execution_count": 16,
     "metadata": {},
     "output_type": "execute_result"
    },
    {
     "name": "stdout",
     "output_type": "stream",
     "text": [
      "323\n"
     ]
    },
    {
     "data": {
      "text/plain": [
       "'F://Environmental Baseline Data//Version 3//Data//Images as PDFs//A6F4R2_page_195.pdf'"
      ]
     },
     "execution_count": 16,
     "metadata": {},
     "output_type": "execute_result"
    },
    {
     "name": "stdout",
     "output_type": "stream",
     "text": [
      "324\n"
     ]
    },
    {
     "data": {
      "text/plain": [
       "'F://Environmental Baseline Data//Version 3//Data//Images as PDFs//A6F4R2_page_196.pdf'"
      ]
     },
     "execution_count": 16,
     "metadata": {},
     "output_type": "execute_result"
    },
    {
     "name": "stdout",
     "output_type": "stream",
     "text": [
      "325\n"
     ]
    },
    {
     "data": {
      "text/plain": [
       "'F://Environmental Baseline Data//Version 3//Data//Images as PDFs//A6F4R2_page_197.pdf'"
      ]
     },
     "execution_count": 16,
     "metadata": {},
     "output_type": "execute_result"
    },
    {
     "name": "stdout",
     "output_type": "stream",
     "text": [
      "326\n"
     ]
    },
    {
     "data": {
      "text/plain": [
       "'F://Environmental Baseline Data//Version 3//Data//Images as PDFs//A6F4R2_page_198.pdf'"
      ]
     },
     "execution_count": 16,
     "metadata": {},
     "output_type": "execute_result"
    },
    {
     "name": "stdout",
     "output_type": "stream",
     "text": [
      "327\n"
     ]
    },
    {
     "data": {
      "text/plain": [
       "'F://Environmental Baseline Data//Version 3//Data//Images as PDFs//A6F4R2_page_199.pdf'"
      ]
     },
     "execution_count": 16,
     "metadata": {},
     "output_type": "execute_result"
    },
    {
     "name": "stdout",
     "output_type": "stream",
     "text": [
      "328\n"
     ]
    },
    {
     "data": {
      "text/plain": [
       "'F://Environmental Baseline Data//Version 3//Data//Images as PDFs//A6F4R2_page_200.pdf'"
      ]
     },
     "execution_count": 16,
     "metadata": {},
     "output_type": "execute_result"
    },
    {
     "name": "stdout",
     "output_type": "stream",
     "text": [
      "329\n"
     ]
    },
    {
     "data": {
      "text/plain": [
       "'F://Environmental Baseline Data//Version 3//Data//Images as PDFs//A6F4R2_page_201.pdf'"
      ]
     },
     "execution_count": 16,
     "metadata": {},
     "output_type": "execute_result"
    },
    {
     "name": "stdout",
     "output_type": "stream",
     "text": [
      "330\n"
     ]
    },
    {
     "data": {
      "text/plain": [
       "'F://Environmental Baseline Data//Version 3//Data//Images as PDFs//A6F4R2_page_202.pdf'"
      ]
     },
     "execution_count": 16,
     "metadata": {},
     "output_type": "execute_result"
    },
    {
     "name": "stdout",
     "output_type": "stream",
     "text": [
      "331\n"
     ]
    },
    {
     "data": {
      "text/plain": [
       "'F://Environmental Baseline Data//Version 3//Data//Images as PDFs//A6F4R2_page_203.pdf'"
      ]
     },
     "execution_count": 16,
     "metadata": {},
     "output_type": "execute_result"
    },
    {
     "name": "stdout",
     "output_type": "stream",
     "text": [
      "332\n"
     ]
    },
    {
     "data": {
      "text/plain": [
       "'F://Environmental Baseline Data//Version 3//Data//Images as PDFs//A6F4R2_page_204.pdf'"
      ]
     },
     "execution_count": 16,
     "metadata": {},
     "output_type": "execute_result"
    },
    {
     "name": "stdout",
     "output_type": "stream",
     "text": [
      "333\n"
     ]
    },
    {
     "data": {
      "text/plain": [
       "'F://Environmental Baseline Data//Version 3//Data//Images as PDFs//A6F4R2_page_205.pdf'"
      ]
     },
     "execution_count": 16,
     "metadata": {},
     "output_type": "execute_result"
    },
    {
     "name": "stdout",
     "output_type": "stream",
     "text": [
      "334\n"
     ]
    },
    {
     "data": {
      "text/plain": [
       "'F://Environmental Baseline Data//Version 3//Data//Images as PDFs//A6F4R2_page_206.pdf'"
      ]
     },
     "execution_count": 16,
     "metadata": {},
     "output_type": "execute_result"
    },
    {
     "name": "stdout",
     "output_type": "stream",
     "text": [
      "335\n"
     ]
    },
    {
     "data": {
      "text/plain": [
       "'F://Environmental Baseline Data//Version 3//Data//Images as PDFs//A6F4R2_page_207.pdf'"
      ]
     },
     "execution_count": 16,
     "metadata": {},
     "output_type": "execute_result"
    },
    {
     "name": "stdout",
     "output_type": "stream",
     "text": [
      "336\n"
     ]
    },
    {
     "data": {
      "text/plain": [
       "'F://Environmental Baseline Data//Version 3//Data//Images as PDFs//A6F4R2_page_208.pdf'"
      ]
     },
     "execution_count": 16,
     "metadata": {},
     "output_type": "execute_result"
    },
    {
     "name": "stdout",
     "output_type": "stream",
     "text": [
      "337\n"
     ]
    },
    {
     "data": {
      "text/plain": [
       "'F://Environmental Baseline Data//Version 3//Data//Images as PDFs//A6F4R2_page_209.pdf'"
      ]
     },
     "execution_count": 16,
     "metadata": {},
     "output_type": "execute_result"
    },
    {
     "name": "stdout",
     "output_type": "stream",
     "text": [
      "338\n"
     ]
    },
    {
     "data": {
      "text/plain": [
       "'F://Environmental Baseline Data//Version 3//Data//Images as PDFs//A6F4R2_page_210.pdf'"
      ]
     },
     "execution_count": 16,
     "metadata": {},
     "output_type": "execute_result"
    },
    {
     "name": "stdout",
     "output_type": "stream",
     "text": [
      "339\n"
     ]
    },
    {
     "data": {
      "text/plain": [
       "'F://Environmental Baseline Data//Version 3//Data//Images as PDFs//A6F4R2_page_211.pdf'"
      ]
     },
     "execution_count": 16,
     "metadata": {},
     "output_type": "execute_result"
    },
    {
     "name": "stdout",
     "output_type": "stream",
     "text": [
      "340\n"
     ]
    },
    {
     "data": {
      "text/plain": [
       "'F://Environmental Baseline Data//Version 3//Data//Images as PDFs//A6F4R2_page_212.pdf'"
      ]
     },
     "execution_count": 16,
     "metadata": {},
     "output_type": "execute_result"
    },
    {
     "name": "stdout",
     "output_type": "stream",
     "text": [
      "341\n"
     ]
    },
    {
     "data": {
      "text/plain": [
       "'F://Environmental Baseline Data//Version 3//Data//Images as PDFs//A6F4R2_page_213.pdf'"
      ]
     },
     "execution_count": 16,
     "metadata": {},
     "output_type": "execute_result"
    },
    {
     "name": "stdout",
     "output_type": "stream",
     "text": [
      "342\n"
     ]
    },
    {
     "data": {
      "text/plain": [
       "'F://Environmental Baseline Data//Version 3//Data//Images as PDFs//A6F4R2_page_225.pdf'"
      ]
     },
     "execution_count": 16,
     "metadata": {},
     "output_type": "execute_result"
    },
    {
     "name": "stdout",
     "output_type": "stream",
     "text": [
      "343\n"
     ]
    },
    {
     "data": {
      "text/plain": [
       "'F://Environmental Baseline Data//Version 3//Data//Images as PDFs//A6F4R2_page_227.pdf'"
      ]
     },
     "execution_count": 16,
     "metadata": {},
     "output_type": "execute_result"
    },
    {
     "name": "stdout",
     "output_type": "stream",
     "text": [
      "344\n"
     ]
    },
    {
     "data": {
      "text/plain": [
       "'F://Environmental Baseline Data//Version 3//Data//Images as PDFs//A6F4R2_page_228.pdf'"
      ]
     },
     "execution_count": 16,
     "metadata": {},
     "output_type": "execute_result"
    },
    {
     "name": "stdout",
     "output_type": "stream",
     "text": [
      "345\n"
     ]
    },
    {
     "data": {
      "text/plain": [
       "'F://Environmental Baseline Data//Version 3//Data//Images as PDFs//A6F4R2_page_230.pdf'"
      ]
     },
     "execution_count": 16,
     "metadata": {},
     "output_type": "execute_result"
    },
    {
     "name": "stdout",
     "output_type": "stream",
     "text": [
      "346\n"
     ]
    },
    {
     "data": {
      "text/plain": [
       "'F://Environmental Baseline Data//Version 3//Data//Images as PDFs//A6F4R2_page_233.pdf'"
      ]
     },
     "execution_count": 16,
     "metadata": {},
     "output_type": "execute_result"
    },
    {
     "name": "stdout",
     "output_type": "stream",
     "text": [
      "347\n"
     ]
    },
    {
     "data": {
      "text/plain": [
       "'F://Environmental Baseline Data//Version 3//Data//Images as PDFs//A6F4R2_page_235.pdf'"
      ]
     },
     "execution_count": 16,
     "metadata": {},
     "output_type": "execute_result"
    },
    {
     "name": "stdout",
     "output_type": "stream",
     "text": [
      "348\n"
     ]
    },
    {
     "data": {
      "text/plain": [
       "'F://Environmental Baseline Data//Version 3//Data//Images as PDFs//A6F4R2_page_236.pdf'"
      ]
     },
     "execution_count": 16,
     "metadata": {},
     "output_type": "execute_result"
    },
    {
     "name": "stdout",
     "output_type": "stream",
     "text": [
      "349\n"
     ]
    },
    {
     "data": {
      "text/plain": [
       "'F://Environmental Baseline Data//Version 3//Data//Images as PDFs//A6F4R2_page_243.pdf'"
      ]
     },
     "execution_count": 16,
     "metadata": {},
     "output_type": "execute_result"
    },
    {
     "name": "stdout",
     "output_type": "stream",
     "text": [
      "350\n"
     ]
    },
    {
     "data": {
      "text/plain": [
       "'F://Environmental Baseline Data//Version 3//Data//Images as PDFs//A6F4R2_page_244.pdf'"
      ]
     },
     "execution_count": 16,
     "metadata": {},
     "output_type": "execute_result"
    },
    {
     "name": "stdout",
     "output_type": "stream",
     "text": [
      "351\n"
     ]
    },
    {
     "data": {
      "text/plain": [
       "'F://Environmental Baseline Data//Version 3//Data//Images as PDFs//A6F4R2_page_247.pdf'"
      ]
     },
     "execution_count": 16,
     "metadata": {},
     "output_type": "execute_result"
    },
    {
     "name": "stdout",
     "output_type": "stream",
     "text": [
      "352\n"
     ]
    },
    {
     "data": {
      "text/plain": [
       "'F://Environmental Baseline Data//Version 3//Data//Images as PDFs//A6F4R2_page_252.pdf'"
      ]
     },
     "execution_count": 16,
     "metadata": {},
     "output_type": "execute_result"
    },
    {
     "name": "stdout",
     "output_type": "stream",
     "text": [
      "353\n"
     ]
    },
    {
     "data": {
      "text/plain": [
       "'F://Environmental Baseline Data//Version 3//Data//Images as PDFs//A6F4R2_page_253.pdf'"
      ]
     },
     "execution_count": 16,
     "metadata": {},
     "output_type": "execute_result"
    },
    {
     "name": "stdout",
     "output_type": "stream",
     "text": [
      "354\n"
     ]
    },
    {
     "data": {
      "text/plain": [
       "'F://Environmental Baseline Data//Version 3//Data//Images as PDFs//A6F4R2_page_286.pdf'"
      ]
     },
     "execution_count": 16,
     "metadata": {},
     "output_type": "execute_result"
    },
    {
     "name": "stdout",
     "output_type": "stream",
     "text": [
      "355\n"
     ]
    },
    {
     "data": {
      "text/plain": [
       "'F://Environmental Baseline Data//Version 3//Data//Images as PDFs//A6F4R2_page_306.pdf'"
      ]
     },
     "execution_count": 16,
     "metadata": {},
     "output_type": "execute_result"
    },
    {
     "name": "stdout",
     "output_type": "stream",
     "text": [
      "356\n"
     ]
    },
    {
     "data": {
      "text/plain": [
       "'F://Environmental Baseline Data//Version 3//Data//Images as PDFs//A6F4R2_page_307.pdf'"
      ]
     },
     "execution_count": 16,
     "metadata": {},
     "output_type": "execute_result"
    },
    {
     "name": "stdout",
     "output_type": "stream",
     "text": [
      "357\n"
     ]
    },
    {
     "data": {
      "text/plain": [
       "'F://Environmental Baseline Data//Version 3//Data//Images as PDFs//A6F4R2_page_309.pdf'"
      ]
     },
     "execution_count": 16,
     "metadata": {},
     "output_type": "execute_result"
    },
    {
     "name": "stdout",
     "output_type": "stream",
     "text": [
      "358\n"
     ]
    },
    {
     "data": {
      "text/plain": [
       "'F://Environmental Baseline Data//Version 3//Data//Images as PDFs//A6F4R2_page_310.pdf'"
      ]
     },
     "execution_count": 16,
     "metadata": {},
     "output_type": "execute_result"
    },
    {
     "name": "stdout",
     "output_type": "stream",
     "text": [
      "359\n"
     ]
    },
    {
     "data": {
      "text/plain": [
       "'F://Environmental Baseline Data//Version 3//Data//Images as PDFs//A6F4R2_page_312.pdf'"
      ]
     },
     "execution_count": 16,
     "metadata": {},
     "output_type": "execute_result"
    },
    {
     "name": "stdout",
     "output_type": "stream",
     "text": [
      "360\n"
     ]
    },
    {
     "data": {
      "text/plain": [
       "'F://Environmental Baseline Data//Version 3//Data//Images as PDFs//A6F4R2_page_313.pdf'"
      ]
     },
     "execution_count": 16,
     "metadata": {},
     "output_type": "execute_result"
    },
    {
     "name": "stdout",
     "output_type": "stream",
     "text": [
      "361\n"
     ]
    },
    {
     "data": {
      "text/plain": [
       "'F://Environmental Baseline Data//Version 3//Data//Images as PDFs//A6F4R2_page_326.pdf'"
      ]
     },
     "execution_count": 16,
     "metadata": {},
     "output_type": "execute_result"
    },
    {
     "name": "stdout",
     "output_type": "stream",
     "text": [
      "362\n"
     ]
    },
    {
     "data": {
      "text/plain": [
       "'F://Environmental Baseline Data//Version 3//Data//Images as PDFs//A6F4R2_page_392.pdf'"
      ]
     },
     "execution_count": 16,
     "metadata": {},
     "output_type": "execute_result"
    },
    {
     "name": "stdout",
     "output_type": "stream",
     "text": [
      "363\n"
     ]
    },
    {
     "data": {
      "text/plain": [
       "'F://Environmental Baseline Data//Version 3//Data//Images as PDFs//A6F4R2_page_393.pdf'"
      ]
     },
     "execution_count": 16,
     "metadata": {},
     "output_type": "execute_result"
    },
    {
     "name": "stdout",
     "output_type": "stream",
     "text": [
      "364\n"
     ]
    },
    {
     "data": {
      "text/plain": [
       "'F://Environmental Baseline Data//Version 3//Data//Images as PDFs//A6F4R2_page_393.pdf'"
      ]
     },
     "execution_count": 16,
     "metadata": {},
     "output_type": "execute_result"
    },
    {
     "name": "stdout",
     "output_type": "stream",
     "text": [
      "365\n"
     ]
    },
    {
     "data": {
      "text/plain": [
       "'F://Environmental Baseline Data//Version 3//Data//Images as PDFs//A6F4R2_page_394.pdf'"
      ]
     },
     "execution_count": 16,
     "metadata": {},
     "output_type": "execute_result"
    },
    {
     "name": "stdout",
     "output_type": "stream",
     "text": [
      "366\n"
     ]
    },
    {
     "data": {
      "text/plain": [
       "'F://Environmental Baseline Data//Version 3//Data//Images as PDFs//A6F4R2_page_394.pdf'"
      ]
     },
     "execution_count": 16,
     "metadata": {},
     "output_type": "execute_result"
    },
    {
     "name": "stdout",
     "output_type": "stream",
     "text": [
      "367\n"
     ]
    },
    {
     "data": {
      "text/plain": [
       "'F://Environmental Baseline Data//Version 3//Data//Images as PDFs//A6F4R2_page_395.pdf'"
      ]
     },
     "execution_count": 16,
     "metadata": {},
     "output_type": "execute_result"
    },
    {
     "name": "stdout",
     "output_type": "stream",
     "text": [
      "368\n"
     ]
    },
    {
     "data": {
      "text/plain": [
       "'F://Environmental Baseline Data//Version 3//Data//Images as PDFs//A6F4R2_page_395.pdf'"
      ]
     },
     "execution_count": 16,
     "metadata": {},
     "output_type": "execute_result"
    },
    {
     "name": "stdout",
     "output_type": "stream",
     "text": [
      "369\n"
     ]
    },
    {
     "data": {
      "text/plain": [
       "'F://Environmental Baseline Data//Version 3//Data//Images as PDFs//A6F4R2_page_396.pdf'"
      ]
     },
     "execution_count": 16,
     "metadata": {},
     "output_type": "execute_result"
    },
    {
     "name": "stdout",
     "output_type": "stream",
     "text": [
      "370\n"
     ]
    },
    {
     "data": {
      "text/plain": [
       "'F://Environmental Baseline Data//Version 3//Data//Images as PDFs//A6F4R2_page_396.pdf'"
      ]
     },
     "execution_count": 16,
     "metadata": {},
     "output_type": "execute_result"
    },
    {
     "name": "stdout",
     "output_type": "stream",
     "text": [
      "371\n"
     ]
    },
    {
     "data": {
      "text/plain": [
       "'F://Environmental Baseline Data//Version 3//Data//Images as PDFs//A6F4R2_page_397.pdf'"
      ]
     },
     "execution_count": 16,
     "metadata": {},
     "output_type": "execute_result"
    },
    {
     "name": "stdout",
     "output_type": "stream",
     "text": [
      "372\n"
     ]
    },
    {
     "data": {
      "text/plain": [
       "'F://Environmental Baseline Data//Version 3//Data//Images as PDFs//A6F4R2_page_397.pdf'"
      ]
     },
     "execution_count": 16,
     "metadata": {},
     "output_type": "execute_result"
    },
    {
     "name": "stdout",
     "output_type": "stream",
     "text": [
      "373\n"
     ]
    },
    {
     "data": {
      "text/plain": [
       "'F://Environmental Baseline Data//Version 3//Data//Images as PDFs//A6F4R2_page_398.pdf'"
      ]
     },
     "execution_count": 16,
     "metadata": {},
     "output_type": "execute_result"
    },
    {
     "name": "stdout",
     "output_type": "stream",
     "text": [
      "374\n"
     ]
    },
    {
     "data": {
      "text/plain": [
       "'F://Environmental Baseline Data//Version 3//Data//Images as PDFs//A6F4R2_page_398.pdf'"
      ]
     },
     "execution_count": 16,
     "metadata": {},
     "output_type": "execute_result"
    },
    {
     "name": "stdout",
     "output_type": "stream",
     "text": [
      "375\n"
     ]
    },
    {
     "data": {
      "text/plain": [
       "'F://Environmental Baseline Data//Version 3//Data//Images as PDFs//A6F4R2_page_399.pdf'"
      ]
     },
     "execution_count": 16,
     "metadata": {},
     "output_type": "execute_result"
    },
    {
     "name": "stdout",
     "output_type": "stream",
     "text": [
      "376\n"
     ]
    },
    {
     "data": {
      "text/plain": [
       "'F://Environmental Baseline Data//Version 3//Data//Images as PDFs//A6F4R2_page_440.pdf'"
      ]
     },
     "execution_count": 16,
     "metadata": {},
     "output_type": "execute_result"
    },
    {
     "name": "stdout",
     "output_type": "stream",
     "text": [
      "377\n"
     ]
    },
    {
     "data": {
      "text/plain": [
       "'F://Environmental Baseline Data//Version 3//Data//Images as PDFs//A6F4R2_page_441.pdf'"
      ]
     },
     "execution_count": 16,
     "metadata": {},
     "output_type": "execute_result"
    },
    {
     "name": "stdout",
     "output_type": "stream",
     "text": [
      "378\n"
     ]
    },
    {
     "data": {
      "text/plain": [
       "'F://Environmental Baseline Data//Version 3//Data//Images as PDFs//A6F4R2_page_442.pdf'"
      ]
     },
     "execution_count": 16,
     "metadata": {},
     "output_type": "execute_result"
    },
    {
     "name": "stdout",
     "output_type": "stream",
     "text": [
      "379\n"
     ]
    },
    {
     "data": {
      "text/plain": [
       "'F://Environmental Baseline Data//Version 3//Data//Images as PDFs//A6F4R2_page_455.pdf'"
      ]
     },
     "execution_count": 16,
     "metadata": {},
     "output_type": "execute_result"
    },
    {
     "name": "stdout",
     "output_type": "stream",
     "text": [
      "380\n"
     ]
    },
    {
     "data": {
      "text/plain": [
       "'F://Environmental Baseline Data//Version 3//Data//Images as PDFs//A6F4R2_page_457.pdf'"
      ]
     },
     "execution_count": 16,
     "metadata": {},
     "output_type": "execute_result"
    },
    {
     "name": "stdout",
     "output_type": "stream",
     "text": [
      "381\n"
     ]
    },
    {
     "data": {
      "text/plain": [
       "'F://Environmental Baseline Data//Version 3//Data//Images as PDFs//A6F4R2_page_459.pdf'"
      ]
     },
     "execution_count": 16,
     "metadata": {},
     "output_type": "execute_result"
    },
    {
     "name": "stdout",
     "output_type": "stream",
     "text": [
      "382\n"
     ]
    },
    {
     "data": {
      "text/plain": [
       "'F://Environmental Baseline Data//Version 3//Data//Images as PDFs//A6F4R2_page_461.pdf'"
      ]
     },
     "execution_count": 16,
     "metadata": {},
     "output_type": "execute_result"
    },
    {
     "name": "stdout",
     "output_type": "stream",
     "text": [
      "383\n"
     ]
    },
    {
     "data": {
      "text/plain": [
       "'F://Environmental Baseline Data//Version 3//Data//Images as PDFs//A6F4R2_page_462.pdf'"
      ]
     },
     "execution_count": 16,
     "metadata": {},
     "output_type": "execute_result"
    },
    {
     "name": "stdout",
     "output_type": "stream",
     "text": [
      "384\n"
     ]
    },
    {
     "data": {
      "text/plain": [
       "'F://Environmental Baseline Data//Version 3//Data//Images as PDFs//A6F4R2_page_466.pdf'"
      ]
     },
     "execution_count": 16,
     "metadata": {},
     "output_type": "execute_result"
    },
    {
     "name": "stdout",
     "output_type": "stream",
     "text": [
      "385\n"
     ]
    },
    {
     "data": {
      "text/plain": [
       "'F://Environmental Baseline Data//Version 3//Data//Images as PDFs//A6F4R2_page_468.pdf'"
      ]
     },
     "execution_count": 16,
     "metadata": {},
     "output_type": "execute_result"
    },
    {
     "name": "stdout",
     "output_type": "stream",
     "text": [
      "386\n"
     ]
    },
    {
     "data": {
      "text/plain": [
       "'F://Environmental Baseline Data//Version 3//Data//Images as PDFs//A6F4R2_page_509.pdf'"
      ]
     },
     "execution_count": 16,
     "metadata": {},
     "output_type": "execute_result"
    },
    {
     "name": "stdout",
     "output_type": "stream",
     "text": [
      "387\n"
     ]
    },
    {
     "data": {
      "text/plain": [
       "'F://Environmental Baseline Data//Version 3//Data//Images as PDFs//A6F4R2_page_525.pdf'"
      ]
     },
     "execution_count": 16,
     "metadata": {},
     "output_type": "execute_result"
    },
    {
     "data": {
      "text/plain": [
       "'\\nclean_text\\nReplaces all non-latin characters with a space, replaces non-breaking\\nhyphens with a normal hyphen, and removes surrounding whitespace.\\n'"
      ]
     },
     "execution_count": 16,
     "metadata": {},
     "output_type": "execute_result"
    }
   ],
   "source": [
    "image_path = []\n",
    "image_file_name = []\n",
    "page_text = []\n",
    "clean_page_text = []\n",
    "\n",
    "output_file_path = \"F://Environmental Baseline Data//Version 3//Data//Images as PDFs\"\n",
    "\n",
    "for i in range(len(df_outlines_figures)):\n",
    "    print(i)\n",
    "    get_image_pdf(df_outlines_figures.iloc[i]['pdf_path'], df_outlines_figures.iloc[i]['page_number'])\n",
    "    text_extracted = get_page_text(df_outlines_figures.iloc[i]['pdf_path'], df_outlines_figures.iloc[i]['page_number'])\n",
    "    page_text.append(text_extracted)\n",
    "    \n",
    "    clean_page_text.append(location_extractor.clean_text(text_extracted)) \n",
    "\"\"\"\n",
    "clean_text\n",
    "Replaces all non-latin characters with a space, replaces non-breaking\n",
    "hyphens with a normal hyphen, and removes surrounding whitespace.\n",
    "\"\"\"\n",
    "    \n"
   ]
  },
  {
   "cell_type": "code",
   "execution_count": 17,
   "metadata": {},
   "outputs": [
    {
     "data": {
      "text/plain": [
       "388"
      ]
     },
     "execution_count": 17,
     "metadata": {},
     "output_type": "execute_result"
    },
    {
     "data": {
      "text/plain": [
       "388"
      ]
     },
     "execution_count": 17,
     "metadata": {},
     "output_type": "execute_result"
    },
    {
     "data": {
      "text/plain": [
       "388"
      ]
     },
     "execution_count": 17,
     "metadata": {},
     "output_type": "execute_result"
    },
    {
     "data": {
      "text/plain": [
       "388"
      ]
     },
     "execution_count": 17,
     "metadata": {},
     "output_type": "execute_result"
    }
   ],
   "source": [
    "len(df_outlines_figures)\n",
    "len(image_file_name)\n",
    "len(image_path)\n",
    "len(page_text)"
   ]
  },
  {
   "cell_type": "code",
   "execution_count": 18,
   "metadata": {},
   "outputs": [
    {
     "name": "stderr",
     "output_type": "stream",
     "text": [
      "SettingWithCopyWarning: \n",
      "A value is trying to be set on a copy of a slice from a DataFrame.\n",
      "Try using .loc[row_indexer,col_indexer] = value instead\n",
      "\n",
      "See the caveats in the documentation: http://pandas.pydata.org/pandas-docs/stable/user_guide/indexing.html#returning-a-view-versus-a-copy [ipykernel_launcher.py:1]\n",
      "SettingWithCopyWarning: \n",
      "A value is trying to be set on a copy of a slice from a DataFrame.\n",
      "Try using .loc[row_indexer,col_indexer] = value instead\n",
      "\n",
      "See the caveats in the documentation: http://pandas.pydata.org/pandas-docs/stable/user_guide/indexing.html#returning-a-view-versus-a-copy [ipykernel_launcher.py:2]\n",
      "SettingWithCopyWarning: \n",
      "A value is trying to be set on a copy of a slice from a DataFrame.\n",
      "Try using .loc[row_indexer,col_indexer] = value instead\n",
      "\n",
      "See the caveats in the documentation: http://pandas.pydata.org/pandas-docs/stable/user_guide/indexing.html#returning-a-view-versus-a-copy [ipykernel_launcher.py:3]\n"
     ]
    }
   ],
   "source": [
    "df_outlines_figures['image_file_name'] = image_file_name\n",
    "df_outlines_figures['image_path'] = image_path\n",
    "df_outlines_figures['page_text'] = page_text\n",
    "\n",
    "df_outlines_figures.to_csv(\"F:/Environmental Baseline Data/Version 3/Indices/Index - Images Exatracted for NGTL 2021.csv\")"
   ]
  },
  {
   "cell_type": "code",
   "execution_count": null,
   "metadata": {},
   "outputs": [],
   "source": []
  },
  {
   "cell_type": "code",
   "execution_count": null,
   "metadata": {},
   "outputs": [],
   "source": [
    "Next Steps:\n",
    "    then use location extractor to get the locations \n",
    "    \n",
    "    \n",
    "image_path = []\n",
    "image_file_name = []\n",
    "page_text = []\n",
    "clean_page_text = []"
   ]
  },
  {
   "cell_type": "code",
   "execution_count": null,
   "metadata": {},
   "outputs": [],
   "source": [
    "\n",
    "\n",
    "output_file_path = \"F://Environmental Baseline Data//Version 3//Data//Images as PDFs\"\n",
    "\n",
    "for i in range(50):\n",
    "    print(i)\n",
    "    get_image_pdf(df_outlines_figures.iloc[i]['pdf_path'], df_outlines_figures.iloc[i]['page_number'])\n",
    "    text_extracted = get_page_text(df_outlines_figures.iloc[i]['pdf_path'], df_outlines_figures.iloc[i]['page_number'])\n",
    "    page_text.append(text_extracted)\n",
    "    \n",
    "    clean_page_text.append(location_extractor.clean_text(text_extracted)) \n",
    "\"\"\"\n",
    "clean_text\n",
    "Replaces all non-latin characters with a space, replaces non-breaking\n",
    "hyphens with a normal hyphen, and removes surrounding whitespace.\n",
    "\"\"\"\n",
    "    \n"
   ]
  },
  {
   "cell_type": "code",
   "execution_count": null,
   "metadata": {},
   "outputs": [],
   "source": [
    "        lat_long_tags = {}\n",
    "        dls_tags = {}\n",
    "        nts_tags = {}\n",
    "        mlv_tags = {}\n",
    "\n",
    "for i in range(len(df_outlines_figures)):\n",
    "    FILENAME = df_outlines_figures.iloc[i]['pdf_name']\n",
    "    text_extracted = get_page_text(df_outlines_figures.iloc[i]['pdf_path'], df_outlines_figures.iloc[i]['page_number'])\n",
    "    try:\n",
    "        # dictionaries containing data about the locations identified\n",
    "            # in the document\n",
    "\n",
    "           \"\"\"\n",
    "            def _add_to_hist(locations_container, locations, page):\n",
    "                \"\"\"\n",
    "                    Adds all locations in a list of locations to a dictionary \n",
    "                    in a histogram-like fashion (if the location already exists, \n",
    "                    just increment the count and add the page number, don't \n",
    "                    introduce another location in the dictionary.)\n",
    "                \"\"\"\n",
    "                for location in locations:\n",
    "                    if location.text in locations_container:\n",
    "                        locations_container[location.text]['count'] += 1\n",
    "                        locations_container[location.text]['pages'].append(page)\n",
    "                    else:\n",
    "                        locations_container[location.text] = {\n",
    "                            'count': 1,\n",
    "                            'pages': [page],\n",
    "                            'tuple': location\n",
    "                        }\n",
    "                        try:\n",
    "                            locations_container[location.text]['latitude-longitude'] = location.lat_long\n",
    "                        except AttributeError:\n",
    "                            pass\n",
    "            \"\"\" \n",
    "         \n",
    "        text_extracted = get_page_text(df_outlines_figures.iloc[i]['pdf_path'], df_outlines_figures.iloc[i]['page_number'])\n",
    "        # initialize document\n",
    "        lat_long, dls, nts, mlv = html_analyzer.find_location_tags(page)\n",
    "                    \n",
    "        _add_to_hist(lat_long_tags, lat_long, page_number)\n",
    "        _add_to_hist(dls_tags, dls, page_number)\n",
    "        _add_to_hist(nts_tags, nts, page_number)\n",
    "        _add_to_hist(mlv_tags, mlv, page_number)\n",
    "                \n",
    "            \n",
    "            \"\"\"\n",
    "                Refactor the histogram-like dictionaries to lists so they can\n",
    "                be converted effectively to json\n",
    "            \"\"\"\n",
    "        lat_long_tags = [\n",
    "                    {\n",
    "                        'text': tag_text,\n",
    "                        'count': tag['count'],\n",
    "                        'pages': tag['pages'],\n",
    "                        \n",
    "                        # format-specific fields\n",
    "                        'degrees-north': tag['tuple'].N,\n",
    "                        'degrees-west': tag['tuple'].W\n",
    "                    }\n",
    "        \n",
    "            for tag_text, tag in lat_long_tags.items()]\n",
    "            \n",
    "            dls_tags = [\n",
    "                    {\n",
    "                        'text': tag_text,\n",
    "                        'count': tag['count'],\n",
    "                        'pages': tag['pages'],\n",
    "                        \n",
    "                        # format-specific fields\n",
    "                        'legal_subdivision': tag['tuple'].legal_subdivision,\n",
    "                        'section': tag['tuple'].section,\n",
    "                        'township': tag['tuple'].township,\n",
    "                        'range': tag['tuple'].range,\n",
    "                        'meridian': tag['tuple'].meridian,\n",
    "                        \n",
    "                        'latitude-longitude': {\n",
    "                            'text': tag['latitude-longitude'].text,\n",
    "                            'degrees-north': tag['latitude-longitude'].N,\n",
    "                            'degrees-west': tag['latitude-longitude'].W\n",
    "                        }\n",
    "                    }\n",
    "                for tag_text, tag in dls_tags.items()]\n",
    "            \n",
    "            nts_tags = [\n",
    "                    {\n",
    "                        'text': tag_text,\n",
    "                        'count': tag['count'],\n",
    "                        'pages': tag['pages'],\n",
    "                        \n",
    "                        # format-specific fields\n",
    "                        'quarter_unit': tag['tuple'].quarter_unit,\n",
    "                        'unit': tag['tuple'].unit,\n",
    "                        'block': tag['tuple'].block,\n",
    "                        'series_number': tag['tuple'].series_number,\n",
    "                        'map_area': tag['tuple'].map_area,\n",
    "                        'map_sheet': tag['tuple'].map_sheet,\n",
    "                        \n",
    "                        'latitude-longitude': {\n",
    "                            'text': tag['latitude-longitude'].text,\n",
    "                            'degrees-north': tag['latitude-longitude'].N,\n",
    "                            'degrees-west': tag['latitude-longitude'].W\n",
    "                        }\n",
    "                    }\n",
    "                for tag_text, tag in nts_tags.items()]\n",
    "            \n",
    "            mlv_tags = [\n",
    "                    {\n",
    "                        'text': tag_text,\n",
    "                        'count': tag['count'],\n",
    "                        'pages': tag['pages'],\n",
    "                        \n",
    "                        # format-specific fields\n",
    "                        'valve': tag['tuple'].valve,\n",
    "                        'offset': tag['tuple'].offset\n",
    "                    }\n",
    "                for tag_text, tag in mlv_tags.items()]\n",
    "            \n",
    "            # store the result of location extraction on this document in the\n",
    "            # main result dictionary\n",
    "            result[''.join(FILENAME.split('.html')[:-1])] = {\n",
    "                    'latitude-longitude': lat_long_tags,\n",
    "                    'dominion-land-survey': dls_tags,\n",
    "                    'national-topographic-system': nts_tags,\n",
    "                    'mainline-valve': mlv_tags\n",
    "                    }\n",
    "            \n",
    "            # add to the counter for the of documents with a certain location format\n",
    "            num_lat_long += len(lat_long_tags) > 0\n",
    "            num_dls += len(dls_tags) > 0\n",
    "            num_nts += len(nts_tags) > 0\n",
    "            num_mlv += len(mlv_tags) > 0\n",
    "            \n",
    "            if len(lat_long_tags) > 0 or len(dls_tags) > 0 or len(nts_tags) > 0 or len(mlv_tags) > 0:\n",
    "                num_files_tagged += 1\n",
    "            \n",
    "            num_files += 1\n",
    "    except:\n",
    "        bad_files.append(FILENAME)\n",
    "        print('Error in ' + FILENAME)\n",
    "\n",
    "# store the raw locations extracted in a text file in JSON format\n",
    "with open(OUTPUT_FOLDER + 'locations-raw.txt', 'w+', encoding='utf-8') as output:\n",
    "    output.write(json.dumps(result, indent=2))\n",
    "\n",
    "# save names of files that failed to open or errored when running this code\n",
    "# into a text log in the output folder\n",
    "with open(OUTPUT_FOLDER + 'bad-files.txt', 'w+', encoding='utf-8') as output:\n",
    "    output.write('\\n'.join(bad_files))\n",
    "\n",
    "# save the summary of how many files were identified with each location\n",
    "# format into a summary text file\n",
    "with open(OUTPUT_FOLDER + 'summary-raw.txt', 'w+', encoding='utf-8') as output:\n",
    "    output.write('{} out of {} files were tagged ({}%)\\n'.format(num_files_tagged, num_files, 100 * float(num_files_tagged) / num_files))\n",
    "    output.write('{} out of {} files contained latitude-longitude coordinates ({}%)\\n'.format(num_lat_long, num_files, 100 * float(num_lat_long) / num_files))\n",
    "    output.write('{} out of {} files contained Dominion Land Survey coordinates ({}%)\\n'.format(num_dls, num_files, 100 * float(num_dls) / num_files))\n",
    "    output.write('{} out of {} files contained National Topographic System coordinates ({}%)\\n'.format(num_nts, num_files, 100 * float(num_nts) / num_files))\n",
    "    output.write('{} out of {} files contained Mainline Valve locations ({}%)\\n'.format(num_mlv, num_files, 100 * float(num_mlv) / num_files))\n"
   ]
  },
  {
   "cell_type": "code",
   "execution_count": null,
   "metadata": {},
   "outputs": [],
   "source": []
  },
  {
   "cell_type": "code",
   "execution_count": null,
   "metadata": {},
   "outputs": [],
   "source": []
  },
  {
   "cell_type": "code",
   "execution_count": null,
   "metadata": {},
   "outputs": [],
   "source": []
  },
  {
   "cell_type": "code",
   "execution_count": null,
   "metadata": {},
   "outputs": [],
   "source": []
  },
  {
   "cell_type": "code",
   "execution_count": null,
   "metadata": {},
   "outputs": [],
   "source": []
  },
  {
   "cell_type": "code",
   "execution_count": null,
   "metadata": {},
   "outputs": [],
   "source": []
  },
  {
   "cell_type": "code",
   "execution_count": null,
   "metadata": {},
   "outputs": [],
   "source": []
  },
  {
   "cell_type": "code",
   "execution_count": null,
   "metadata": {},
   "outputs": [],
   "source": []
  },
  {
   "cell_type": "code",
   "execution_count": null,
   "metadata": {},
   "outputs": [],
   "source": []
  },
  {
   "cell_type": "code",
   "execution_count": null,
   "metadata": {},
   "outputs": [],
   "source": []
  },
  {
   "cell_type": "code",
   "execution_count": null,
   "metadata": {},
   "outputs": [],
   "source": []
  },
  {
   "cell_type": "code",
   "execution_count": null,
   "metadata": {},
   "outputs": [],
   "source": []
  },
  {
   "cell_type": "code",
   "execution_count": null,
   "metadata": {},
   "outputs": [],
   "source": []
  },
  {
   "cell_type": "code",
   "execution_count": null,
   "metadata": {},
   "outputs": [],
   "source": []
  },
  {
   "cell_type": "code",
   "execution_count": null,
   "metadata": {},
   "outputs": [],
   "source": []
  },
  {
   "cell_type": "code",
   "execution_count": null,
   "metadata": {},
   "outputs": [],
   "source": []
  },
  {
   "cell_type": "code",
   "execution_count": null,
   "metadata": {},
   "outputs": [],
   "source": []
  },
  {
   "cell_type": "code",
   "execution_count": null,
   "metadata": {},
   "outputs": [],
   "source": []
  }
 ],
 "metadata": {
  "kernelspec": {
   "display_name": "Python 3",
   "language": "python",
   "name": "python3"
  },
  "language_info": {
   "codemirror_mode": {
    "name": "ipython",
    "version": 3
   },
   "file_extension": ".py",
   "mimetype": "text/x-python",
   "name": "python",
   "nbconvert_exporter": "python",
   "pygments_lexer": "ipython3",
   "version": "3.7.4"
  }
 },
 "nbformat": 4,
 "nbformat_minor": 2
}
