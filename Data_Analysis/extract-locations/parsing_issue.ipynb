{
 "metadata": {
  "language_info": {
   "codemirror_mode": {
    "name": "ipython",
    "version": 3
   },
   "file_extension": ".py",
   "mimetype": "text/x-python",
   "name": "python",
   "nbconvert_exporter": "python",
   "pygments_lexer": "ipython3",
   "version": "3.7.4-final"
  },
  "orig_nbformat": 2,
  "kernelspec": {
   "name": "python3",
   "display_name": "Python 3.7.4 64-bit ('Continuum': virtualenv)",
   "metadata": {
    "interpreter": {
     "hash": "6b87f323ca800d278b48e0721103cb96eb21240e7dd54a4151517f2bf8fe4b0d"
    }
   }
  }
 },
 "nbformat": 4,
 "nbformat_minor": 2,
 "cells": [
  {
   "cell_type": "code",
   "execution_count": 6,
   "metadata": {},
   "outputs": [],
   "source": [
    "from sqlalchemy import create_engine\n",
    "import pandas as pd\n",
    "import numpy as np \n",
    "import os\n",
    "import re\n",
    "from dateparser.search import search_dates"
   ]
  },
  {
   "cell_type": "code",
   "execution_count": 7,
   "metadata": {},
   "outputs": [],
   "source": [
    "# Importing environmental variables library that reads from the .env file\n",
    "from dotenv import load_dotenv\n",
    "\n",
    "# Loading key-value pairs from the .env file into the OS environment\n",
    "load_dotenv()\n",
    "\n",
    "# Reading the key-value pairs from the OS environment\n",
    "user = os.getenv(\"DB_USER\")\n",
    "password = os.getenv(\"DB_PASS\")\n",
    "db_hostname = os.getenv(\"DB_HOST\")\n",
    "db_name = os.getenv(\"DB_DATABASE\")\n",
    "\n",
    "# Using those variables in the connection string using \"F\" strings\n",
    "conn_string = f\"mysql+mysqldb://{user}:{password}@{db_hostname}/{db_name}?charset=utf8mb4\"\n",
    "engine = create_engine(conn_string)"
   ]
  },
  {
   "cell_type": "code",
   "execution_count": 8,
   "metadata": {},
   "outputs": [
    {
     "output_type": "execute_result",
     "data": {
      "text/plain": [
       "                                 tableId  rowIndex  \\\n",
       "0   3e9e6cdb-f812-4832-b69c-b8ec0396d585         1   \n",
       "1   3e9e6cdb-f812-4832-b69c-b8ec0396d585         2   \n",
       "2   3e9e6cdb-f812-4832-b69c-b8ec0396d585         3   \n",
       "3   3e9e6cdb-f812-4832-b69c-b8ec0396d585         4   \n",
       "4   3e9e6cdb-f812-4832-b69c-b8ec0396d585         5   \n",
       "..                                   ...       ...   \n",
       "90  3e9e6cdb-f812-4832-b69c-b8ec0396d585        91   \n",
       "91  3e9e6cdb-f812-4832-b69c-b8ec0396d585        92   \n",
       "92  3e9e6cdb-f812-4832-b69c-b8ec0396d585        93   \n",
       "93  3e9e6cdb-f812-4832-b69c-b8ec0396d585        94   \n",
       "94  3e9e6cdb-f812-4832-b69c-b8ec0396d585        95   \n",
       "\n",
       "                                           status_txt  \n",
       "0   • <s>June 8, 2016:  </s><s>• </s>Good establis...  \n",
       "1   • <s>June 8, 2016: </s><s>• </s>Good establish...  \n",
       "2   • <s>June 8, 2016: </s><s>• </s>Good establish...  \n",
       "3   • <s>June 8, 2016: </s><s>• </s>Good establish...  \n",
       "4   • <s>June 8, 2016: </s><s>• </s>Good establish...  \n",
       "..                                                ...  \n",
       "90                                                     \n",
       "91                                                     \n",
       "92  • <s>June 24, 2016: </s><s>• </s>Tributary sta...  \n",
       "93  • <s>June 24, 2016: </s><s>• </s>Tributary sta...  \n",
       "94  • <s>June 24, 2016: </s><s>• </s>Vegetation is...  \n",
       "\n",
       "[95 rows x 3 columns]"
      ],
      "text/html": "<div>\n<style scoped>\n    .dataframe tbody tr th:only-of-type {\n        vertical-align: middle;\n    }\n\n    .dataframe tbody tr th {\n        vertical-align: top;\n    }\n\n    .dataframe thead th {\n        text-align: right;\n    }\n</style>\n<table border=\"1\" class=\"dataframe\">\n  <thead>\n    <tr style=\"text-align: right;\">\n      <th></th>\n      <th>tableId</th>\n      <th>rowIndex</th>\n      <th>status_txt</th>\n    </tr>\n  </thead>\n  <tbody>\n    <tr>\n      <td>0</td>\n      <td>3e9e6cdb-f812-4832-b69c-b8ec0396d585</td>\n      <td>1</td>\n      <td>• &lt;s&gt;June 8, 2016:  &lt;/s&gt;&lt;s&gt;• &lt;/s&gt;Good establis...</td>\n    </tr>\n    <tr>\n      <td>1</td>\n      <td>3e9e6cdb-f812-4832-b69c-b8ec0396d585</td>\n      <td>2</td>\n      <td>• &lt;s&gt;June 8, 2016: &lt;/s&gt;&lt;s&gt;• &lt;/s&gt;Good establish...</td>\n    </tr>\n    <tr>\n      <td>2</td>\n      <td>3e9e6cdb-f812-4832-b69c-b8ec0396d585</td>\n      <td>3</td>\n      <td>• &lt;s&gt;June 8, 2016: &lt;/s&gt;&lt;s&gt;• &lt;/s&gt;Good establish...</td>\n    </tr>\n    <tr>\n      <td>3</td>\n      <td>3e9e6cdb-f812-4832-b69c-b8ec0396d585</td>\n      <td>4</td>\n      <td>• &lt;s&gt;June 8, 2016: &lt;/s&gt;&lt;s&gt;• &lt;/s&gt;Good establish...</td>\n    </tr>\n    <tr>\n      <td>4</td>\n      <td>3e9e6cdb-f812-4832-b69c-b8ec0396d585</td>\n      <td>5</td>\n      <td>• &lt;s&gt;June 8, 2016: &lt;/s&gt;&lt;s&gt;• &lt;/s&gt;Good establish...</td>\n    </tr>\n    <tr>\n      <td>...</td>\n      <td>...</td>\n      <td>...</td>\n      <td>...</td>\n    </tr>\n    <tr>\n      <td>90</td>\n      <td>3e9e6cdb-f812-4832-b69c-b8ec0396d585</td>\n      <td>91</td>\n      <td></td>\n    </tr>\n    <tr>\n      <td>91</td>\n      <td>3e9e6cdb-f812-4832-b69c-b8ec0396d585</td>\n      <td>92</td>\n      <td></td>\n    </tr>\n    <tr>\n      <td>92</td>\n      <td>3e9e6cdb-f812-4832-b69c-b8ec0396d585</td>\n      <td>93</td>\n      <td>• &lt;s&gt;June 24, 2016: &lt;/s&gt;&lt;s&gt;• &lt;/s&gt;Tributary sta...</td>\n    </tr>\n    <tr>\n      <td>93</td>\n      <td>3e9e6cdb-f812-4832-b69c-b8ec0396d585</td>\n      <td>94</td>\n      <td>• &lt;s&gt;June 24, 2016: &lt;/s&gt;&lt;s&gt;• &lt;/s&gt;Tributary sta...</td>\n    </tr>\n    <tr>\n      <td>94</td>\n      <td>3e9e6cdb-f812-4832-b69c-b8ec0396d585</td>\n      <td>95</td>\n      <td>• &lt;s&gt;June 24, 2016: &lt;/s&gt;&lt;s&gt;• &lt;/s&gt;Vegetation is...</td>\n    </tr>\n  </tbody>\n</table>\n<p>95 rows × 3 columns</p>\n</div>"
     },
     "metadata": {},
     "execution_count": 8
    }
   ],
   "source": [
    "query = \"SELECT tableId, rowIndex, status_txt FROM issues WHERE tableId = '3e9e6cdb-f812-4832-b69c-b8ec0396d585';\"\n",
    "with engine.connect() as conn:\n",
    "    df = pd.read_sql(query, conn)\n",
    "df"
   ]
  },
  {
   "cell_type": "code",
   "execution_count": null,
   "metadata": {},
   "outputs": [],
   "source": [
    "def date_parser_date_count(string):\n",
    "    ''' Date Finding Function\n",
    "        Input:  Takes any string as input \n",
    "        Output1: Returns the first date identified \n",
    "        Output2: Returns the number of dates identified in the string'''\n",
    "    \n",
    "    para = search_dates(string, \n",
    "                        settings={'STRICT_PARSING': True, \n",
    "                                  'DATE_ORDER': 'DMY'})\n",
    "    date_string = \"\"\n",
    "    count = 0\n",
    "    try:\n",
    "        for x in para:\n",
    "            count = count+1\n",
    "            if date_string == \"\":\n",
    "                date_string = x[0]\n",
    "    except:\n",
    "        # No date identified or error in finding a date\n",
    "        \"Hello\"\n",
    "        \n",
    "    return(date_string, count)\n",
    "\n",
    "line = \"July 13, 2016 -- Vegetation is filling in well with desirable species throughout tract.\"\n",
    "date_string, date_count  = date_parser_date_count(line)\n",
    "print(date_string)\n",
    "print(date_count)"
   ]
  }
 ]
}