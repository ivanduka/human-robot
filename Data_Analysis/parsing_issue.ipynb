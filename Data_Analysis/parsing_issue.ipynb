{
 "metadata": {
  "language_info": {
   "codemirror_mode": {
    "name": "ipython",
    "version": 3
   },
   "file_extension": ".py",
   "mimetype": "text/x-python",
   "name": "python",
   "nbconvert_exporter": "python",
   "pygments_lexer": "ipython3",
   "version": "3.7.4"
  },
  "orig_nbformat": 2,
  "kernelspec": {
   "name": "python3",
   "display_name": "Python 3",
   "language": "python"
  }
 },
 "nbformat": 4,
 "nbformat_minor": 2,
 "cells": [
  {
   "cell_type": "code",
   "execution_count": 2,
   "metadata": {},
   "outputs": [],
   "source": [
    "import pandas as pd\n",
    "import numpy as np\n",
    "from sqlalchemy import create_engine \n",
    "import os\n",
    "import re"
   ]
  },
  {
   "cell_type": "code",
   "execution_count": null,
   "metadata": {},
   "outputs": [],
   "source": [
    "df = pd.read_csv('parsed_issues.csv', encoding = 'cp1252', na_filter = False)\n",
    "df.insert(2, 'tableId_rowIndex', '')\n",
    "df.insert(3, 'rowCounter', '')"
   ]
  },
  {
   "cell_type": "code",
   "execution_count": null,
   "metadata": {},
   "outputs": [],
   "source": [
    "df['tableId_rowIndex'] = df['tableId'] + df['rowIndex'].astype(str)"
   ]
  },
  {
   "cell_type": "code",
   "execution_count": null,
   "metadata": {},
   "outputs": [],
   "source": [
    "df['rowCounter'] = df.groupby('tableId_rowIndex').cumcount()+1 ## to generate row count when issues is broken down into sub-issues"
   ]
  },
  {
   "cell_type": "code",
   "execution_count": null,
   "metadata": {},
   "outputs": [],
   "source": [
    "df = df.drop(['tableId_rowIndex'], axis = 1)\n",
    "print(len(df))"
   ]
  },
  {
   "cell_type": "code",
   "execution_count": null,
   "metadata": {},
   "outputs": [],
   "source": [
    "df = df.replace(np.nan, '', regex=True)"
   ]
  },
  {
   "cell_type": "code",
   "execution_count": null,
   "metadata": {},
   "outputs": [],
   "source": [
    "df.to_csv('issue_parsed_clean.csv', index = False,encoding = 'utf-8-sig')"
   ]
  },
  {
   "source": [
    "Preparing Test Data for Running BERT Model"
   ],
   "cell_type": "markdown",
   "metadata": {}
  },
  {
   "cell_type": "code",
   "execution_count": 3,
   "metadata": {},
   "outputs": [],
   "source": [
    "# Importing environmental variables library that reads from the .env file\n",
    "from dotenv import load_dotenv\n",
    "\n",
    "# Loading key-value pairs from the .env file into the OS environment\n",
    "load_dotenv()\n",
    "\n",
    "# Reading the key-value pairs from the OS environment\n",
    "user = os.getenv(\"DB_USER\")\n",
    "password = os.getenv(\"DB_PASS\")\n",
    "db_hostname = os.getenv(\"DB_HOST\")\n",
    "db_name = os.getenv(\"DB_DATABASE\")\n",
    "\n",
    "# Using those variables in the connection string using \"F\" strings\n",
    "conn_string = f\"mysql+mysqldb://{user}:{password}@{db_hostname}/{db_name}?charset=utf8mb4\"\n",
    "engine = create_engine(conn_string)"
   ]
  },
  {
   "cell_type": "code",
   "execution_count": 5,
   "metadata": {},
   "outputs": [
    {
     "output_type": "execute_result",
     "data": {
      "text/plain": [
       "                                   tableId  rowIndex  rowCounter  \\\n",
       "0     02db9f91-572a-44af-9858-4add101353c1         1           1   \n",
       "1     02db9f91-572a-44af-9858-4add101353c1         1           2   \n",
       "2     02db9f91-572a-44af-9858-4add101353c1         1           3   \n",
       "3     02db9f91-572a-44af-9858-4add101353c1         1           4   \n",
       "4     02db9f91-572a-44af-9858-4add101353c1         1           5   \n",
       "...                                    ...       ...         ...   \n",
       "9719  fdb3d057-943a-4fab-99ac-1f4eed471512        55           2   \n",
       "9720  fdb3d057-943a-4fab-99ac-1f4eed471512        55           3   \n",
       "9721  fdb3d057-943a-4fab-99ac-1f4eed471512        55           4   \n",
       "9722  fdb3d057-943a-4fab-99ac-1f4eed471512        56           1   \n",
       "9723  fdb3d057-943a-4fab-99ac-1f4eed471512        57           1   \n",
       "\n",
       "                                           issue_parsed  \n",
       "0     June 22, 2016 – Intermittent weeds observed, r...  \n",
       "1     July 13, 2016 - Vegetation continues to establ...  \n",
       "2     July 13, 2016  - Cross drains are vegetated an...  \n",
       "3     July 13, 2016   - Wetlands stable and consiste...  \n",
       "4     July 13, 2016  - No erosion or subsidence issues.  \n",
       "...                                                 ...  \n",
       "9719  Aug 18, 2017 - Vegetation established at 65-80...  \n",
       "9720  Aug 18, 2017  – Intermittent perennial sow thi...  \n",
       "9721  Aug 23, 2017 – Intermittent herbicide applicat...  \n",
       "9722                                                  .  \n",
       "9723  Aug 18, 2017 - Rollback Access Control is pres...  \n",
       "\n",
       "[9724 rows x 4 columns]"
      ],
      "text/html": "<div>\n<style scoped>\n    .dataframe tbody tr th:only-of-type {\n        vertical-align: middle;\n    }\n\n    .dataframe tbody tr th {\n        vertical-align: top;\n    }\n\n    .dataframe thead th {\n        text-align: right;\n    }\n</style>\n<table border=\"1\" class=\"dataframe\">\n  <thead>\n    <tr style=\"text-align: right;\">\n      <th></th>\n      <th>tableId</th>\n      <th>rowIndex</th>\n      <th>rowCounter</th>\n      <th>issue_parsed</th>\n    </tr>\n  </thead>\n  <tbody>\n    <tr>\n      <td>0</td>\n      <td>02db9f91-572a-44af-9858-4add101353c1</td>\n      <td>1</td>\n      <td>1</td>\n      <td>June 22, 2016 – Intermittent weeds observed, r...</td>\n    </tr>\n    <tr>\n      <td>1</td>\n      <td>02db9f91-572a-44af-9858-4add101353c1</td>\n      <td>1</td>\n      <td>2</td>\n      <td>July 13, 2016 - Vegetation continues to establ...</td>\n    </tr>\n    <tr>\n      <td>2</td>\n      <td>02db9f91-572a-44af-9858-4add101353c1</td>\n      <td>1</td>\n      <td>3</td>\n      <td>July 13, 2016  - Cross drains are vegetated an...</td>\n    </tr>\n    <tr>\n      <td>3</td>\n      <td>02db9f91-572a-44af-9858-4add101353c1</td>\n      <td>1</td>\n      <td>4</td>\n      <td>July 13, 2016   - Wetlands stable and consiste...</td>\n    </tr>\n    <tr>\n      <td>4</td>\n      <td>02db9f91-572a-44af-9858-4add101353c1</td>\n      <td>1</td>\n      <td>5</td>\n      <td>July 13, 2016  - No erosion or subsidence issues.</td>\n    </tr>\n    <tr>\n      <td>...</td>\n      <td>...</td>\n      <td>...</td>\n      <td>...</td>\n      <td>...</td>\n    </tr>\n    <tr>\n      <td>9719</td>\n      <td>fdb3d057-943a-4fab-99ac-1f4eed471512</td>\n      <td>55</td>\n      <td>2</td>\n      <td>Aug 18, 2017 - Vegetation established at 65-80...</td>\n    </tr>\n    <tr>\n      <td>9720</td>\n      <td>fdb3d057-943a-4fab-99ac-1f4eed471512</td>\n      <td>55</td>\n      <td>3</td>\n      <td>Aug 18, 2017  – Intermittent perennial sow thi...</td>\n    </tr>\n    <tr>\n      <td>9721</td>\n      <td>fdb3d057-943a-4fab-99ac-1f4eed471512</td>\n      <td>55</td>\n      <td>4</td>\n      <td>Aug 23, 2017 – Intermittent herbicide applicat...</td>\n    </tr>\n    <tr>\n      <td>9722</td>\n      <td>fdb3d057-943a-4fab-99ac-1f4eed471512</td>\n      <td>56</td>\n      <td>1</td>\n      <td>.</td>\n    </tr>\n    <tr>\n      <td>9723</td>\n      <td>fdb3d057-943a-4fab-99ac-1f4eed471512</td>\n      <td>57</td>\n      <td>1</td>\n      <td>Aug 18, 2017 - Rollback Access Control is pres...</td>\n    </tr>\n  </tbody>\n</table>\n<p>9724 rows × 4 columns</p>\n</div>"
     },
     "metadata": {},
     "execution_count": 5
    }
   ],
   "source": [
    "query = \"SELECT tableId, rowIndex, rowCounter, issue_parsed FROM pcmr.issues_parsed;\"\n",
    "with engine.connect() as conn:\n",
    "    df = pd.read_sql(query, conn)\n",
    "df"
   ]
  },
  {
   "cell_type": "code",
   "execution_count": 6,
   "metadata": {},
   "outputs": [
    {
     "output_type": "execute_result",
     "data": {
      "text/plain": [
       "                                tableId  rowIndex  rowCounter  \\\n",
       "0  02db9f91-572a-44af-9858-4add101353c1         1           1   \n",
       "1  02db9f91-572a-44af-9858-4add101353c1         1           2   \n",
       "2  02db9f91-572a-44af-9858-4add101353c1         1           3   \n",
       "3  02db9f91-572a-44af-9858-4add101353c1         1           4   \n",
       "4  02db9f91-572a-44af-9858-4add101353c1         1           5   \n",
       "\n",
       "                                          status_txt  \n",
       "0  June 22, 2016 – Intermittent weeds observed, r...  \n",
       "1  July 13, 2016 - Vegetation continues to establ...  \n",
       "2  July 13, 2016  - Cross drains are vegetated an...  \n",
       "3  July 13, 2016   - Wetlands stable and consiste...  \n",
       "4  July 13, 2016  - No erosion or subsidence issues.  "
      ],
      "text/html": "<div>\n<style scoped>\n    .dataframe tbody tr th:only-of-type {\n        vertical-align: middle;\n    }\n\n    .dataframe tbody tr th {\n        vertical-align: top;\n    }\n\n    .dataframe thead th {\n        text-align: right;\n    }\n</style>\n<table border=\"1\" class=\"dataframe\">\n  <thead>\n    <tr style=\"text-align: right;\">\n      <th></th>\n      <th>tableId</th>\n      <th>rowIndex</th>\n      <th>rowCounter</th>\n      <th>status_txt</th>\n    </tr>\n  </thead>\n  <tbody>\n    <tr>\n      <td>0</td>\n      <td>02db9f91-572a-44af-9858-4add101353c1</td>\n      <td>1</td>\n      <td>1</td>\n      <td>June 22, 2016 – Intermittent weeds observed, r...</td>\n    </tr>\n    <tr>\n      <td>1</td>\n      <td>02db9f91-572a-44af-9858-4add101353c1</td>\n      <td>1</td>\n      <td>2</td>\n      <td>July 13, 2016 - Vegetation continues to establ...</td>\n    </tr>\n    <tr>\n      <td>2</td>\n      <td>02db9f91-572a-44af-9858-4add101353c1</td>\n      <td>1</td>\n      <td>3</td>\n      <td>July 13, 2016  - Cross drains are vegetated an...</td>\n    </tr>\n    <tr>\n      <td>3</td>\n      <td>02db9f91-572a-44af-9858-4add101353c1</td>\n      <td>1</td>\n      <td>4</td>\n      <td>July 13, 2016   - Wetlands stable and consiste...</td>\n    </tr>\n    <tr>\n      <td>4</td>\n      <td>02db9f91-572a-44af-9858-4add101353c1</td>\n      <td>1</td>\n      <td>5</td>\n      <td>July 13, 2016  - No erosion or subsidence issues.</td>\n    </tr>\n  </tbody>\n</table>\n</div>"
     },
     "metadata": {},
     "execution_count": 6
    }
   ],
   "source": [
    "df.rename(columns={'issue_parsed':'status_txt'}, inplace=True)\n",
    "df.head(5)"
   ]
  },
  {
   "cell_type": "code",
   "execution_count": 7,
   "metadata": {},
   "outputs": [],
   "source": [
    "df.to_csv(r'G:\\Post Construction\\BERT_workshop_full\\BERT_workshop\\demonstrate\\data\\testv1.csv', index = False,encoding = 'utf-8-sig')"
   ]
  },
  {
   "cell_type": "code",
   "execution_count": null,
   "metadata": {},
   "outputs": [],
   "source": [
    "test_df = pd.read_csv(r'C:\\Users\\t1nipun\\Desktop\\BERT_workshop_full\\BERT_workshop\\demonstrate\\data\\test.csv', encoding ='utf-8-sig')"
   ]
  },
  {
   "cell_type": "code",
   "execution_count": null,
   "metadata": {},
   "outputs": [],
   "source": [
    "test_data = pd.concat([test_df, df], sort=False)"
   ]
  },
  {
   "cell_type": "code",
   "execution_count": null,
   "metadata": {},
   "outputs": [],
   "source": [
    "test_data.to_csv(r'C:\\Users\\t1nipun\\Desktop\\BERT_workshop_full\\BERT_workshop\\demonstrate\\data\\test.csv', index = False,encoding = 'utf-8-sig')"
   ]
  },
  {
   "source": [
    "Prepaing Data to populate to SQL Database"
   ],
   "cell_type": "markdown",
   "metadata": {}
  },
  {
   "cell_type": "code",
   "execution_count": 2,
   "metadata": {},
   "outputs": [
    {
     "output_type": "execute_result",
     "data": {
      "text/plain": [
       "                                               sentence  \\\n",
       "0                           Repair and monitor in 2018.   \n",
       "1                           Repair and monitor in 2018.   \n",
       "2                           Repair and monitor in 2018.   \n",
       "3                    Monitor in 2018 and repair erosion   \n",
       "4     <s>None </s>–<s> pipeline was </s>directionall...   \n",
       "...                                                 ...   \n",
       "9713                                   No issues noted.   \n",
       "9714  June 28, 2017 – Intermittent perennial sow thi...   \n",
       "9715  Aug 18, 2017 - Vegetation established at 65-80...   \n",
       "9716                                                  .   \n",
       "9717  Aug 18, 2017 - Rollback Access Control is pres...   \n",
       "\n",
       "                    pred_prob  pred_status_code pred_status_label  \\\n",
       "0     [0.9929403  0.00705972]                 0        Unresolved   \n",
       "1     [0.98791146 0.01208852]                 0        Unresolved   \n",
       "2     [0.99382186 0.00617815]                 0        Unresolved   \n",
       "3     [0.99010336 0.00989671]                 0        Unresolved   \n",
       "4     [0.00375306 0.9962469 ]                 1          Resolved   \n",
       "...                       ...               ...               ...   \n",
       "9713  [0.00101157 0.99898845]                 1          Resolved   \n",
       "9714  [0.25778517 0.74221486]                 1          Resolved   \n",
       "9715  [0.04734606 0.952654  ]                 1          Resolved   \n",
       "9716  [0.01824657 0.98175347]                 1          Resolved   \n",
       "9717  [0.8831224  0.11687762]                 0        Unresolved   \n",
       "\n",
       "      unresolved_prob  resolved_prob  \n",
       "0            0.992940       0.007060  \n",
       "1            0.987911       0.012089  \n",
       "2            0.993822       0.006178  \n",
       "3            0.990103       0.009897  \n",
       "4            0.003753       0.996247  \n",
       "...               ...            ...  \n",
       "9713         0.001012       0.998988  \n",
       "9714         0.257785       0.742215  \n",
       "9715         0.047346       0.952654  \n",
       "9716         0.018247       0.981753  \n",
       "9717         0.883122       0.116878  \n",
       "\n",
       "[9718 rows x 6 columns]"
      ],
      "text/html": "<div>\n<style scoped>\n    .dataframe tbody tr th:only-of-type {\n        vertical-align: middle;\n    }\n\n    .dataframe tbody tr th {\n        vertical-align: top;\n    }\n\n    .dataframe thead th {\n        text-align: right;\n    }\n</style>\n<table border=\"1\" class=\"dataframe\">\n  <thead>\n    <tr style=\"text-align: right;\">\n      <th></th>\n      <th>sentence</th>\n      <th>pred_prob</th>\n      <th>pred_status_code</th>\n      <th>pred_status_label</th>\n      <th>unresolved_prob</th>\n      <th>resolved_prob</th>\n    </tr>\n  </thead>\n  <tbody>\n    <tr>\n      <td>0</td>\n      <td>Repair and monitor in 2018.</td>\n      <td>[0.9929403  0.00705972]</td>\n      <td>0</td>\n      <td>Unresolved</td>\n      <td>0.992940</td>\n      <td>0.007060</td>\n    </tr>\n    <tr>\n      <td>1</td>\n      <td>Repair and monitor in 2018.</td>\n      <td>[0.98791146 0.01208852]</td>\n      <td>0</td>\n      <td>Unresolved</td>\n      <td>0.987911</td>\n      <td>0.012089</td>\n    </tr>\n    <tr>\n      <td>2</td>\n      <td>Repair and monitor in 2018.</td>\n      <td>[0.99382186 0.00617815]</td>\n      <td>0</td>\n      <td>Unresolved</td>\n      <td>0.993822</td>\n      <td>0.006178</td>\n    </tr>\n    <tr>\n      <td>3</td>\n      <td>Monitor in 2018 and repair erosion</td>\n      <td>[0.99010336 0.00989671]</td>\n      <td>0</td>\n      <td>Unresolved</td>\n      <td>0.990103</td>\n      <td>0.009897</td>\n    </tr>\n    <tr>\n      <td>4</td>\n      <td>&lt;s&gt;None &lt;/s&gt;–&lt;s&gt; pipeline was &lt;/s&gt;directionall...</td>\n      <td>[0.00375306 0.9962469 ]</td>\n      <td>1</td>\n      <td>Resolved</td>\n      <td>0.003753</td>\n      <td>0.996247</td>\n    </tr>\n    <tr>\n      <td>...</td>\n      <td>...</td>\n      <td>...</td>\n      <td>...</td>\n      <td>...</td>\n      <td>...</td>\n      <td>...</td>\n    </tr>\n    <tr>\n      <td>9713</td>\n      <td>No issues noted.</td>\n      <td>[0.00101157 0.99898845]</td>\n      <td>1</td>\n      <td>Resolved</td>\n      <td>0.001012</td>\n      <td>0.998988</td>\n    </tr>\n    <tr>\n      <td>9714</td>\n      <td>June 28, 2017 – Intermittent perennial sow thi...</td>\n      <td>[0.25778517 0.74221486]</td>\n      <td>1</td>\n      <td>Resolved</td>\n      <td>0.257785</td>\n      <td>0.742215</td>\n    </tr>\n    <tr>\n      <td>9715</td>\n      <td>Aug 18, 2017 - Vegetation established at 65-80...</td>\n      <td>[0.04734606 0.952654  ]</td>\n      <td>1</td>\n      <td>Resolved</td>\n      <td>0.047346</td>\n      <td>0.952654</td>\n    </tr>\n    <tr>\n      <td>9716</td>\n      <td>.</td>\n      <td>[0.01824657 0.98175347]</td>\n      <td>1</td>\n      <td>Resolved</td>\n      <td>0.018247</td>\n      <td>0.981753</td>\n    </tr>\n    <tr>\n      <td>9717</td>\n      <td>Aug 18, 2017 - Rollback Access Control is pres...</td>\n      <td>[0.8831224  0.11687762]</td>\n      <td>0</td>\n      <td>Unresolved</td>\n      <td>0.883122</td>\n      <td>0.116878</td>\n    </tr>\n  </tbody>\n</table>\n<p>9718 rows × 6 columns</p>\n</div>"
     },
     "metadata": {},
     "execution_count": 2
    }
   ],
   "source": [
    "test_df_statusLabels = pd.read_csv(r'C:\\Users\\t1nipun\\Desktop\\BERT_workshop_full\\BERT_workshop\\demonstrate\\test_data_BERT_results.csv', encoding ='utf-8-sig')\n",
    "test_df_statusLabels"
   ]
  },
  {
   "cell_type": "code",
   "execution_count": 4,
   "metadata": {},
   "outputs": [],
   "source": [
    "test_data = pd.read_csv(r'C:\\Users\\t1nipun\\Desktop\\BERT_workshop_full\\BERT_workshop\\demonstrate\\data\\test.csv', encoding ='utf-8-sig')"
   ]
  },
  {
   "cell_type": "code",
   "execution_count": 5,
   "metadata": {},
   "outputs": [],
   "source": [
    "test_data['status'] = test_df_statusLabels['pred_status_label']\n",
    "test_data['unresolved_prob'] = test_df_statusLabels['unresolved_prob']\n",
    "test_data['resolved_prob'] = test_df_statusLabels['resolved_prob']"
   ]
  },
  {
   "cell_type": "code",
   "execution_count": 6,
   "metadata": {},
   "outputs": [
    {
     "output_type": "stream",
     "name": "stdout",
     "text": [
      "9718\n"
     ]
    }
   ],
   "source": [
    "print(len(test_data))"
   ]
  },
  {
   "cell_type": "code",
   "execution_count": 10,
   "metadata": {},
   "outputs": [
    {
     "output_type": "stream",
     "name": "stdout",
     "text": [
      "1783\n"
     ]
    }
   ],
   "source": [
    "train_data = pd.read_csv(r'C:\\Users\\t1nipun\\Desktop\\BERT_workshop_full\\BERT_workshop\\demonstrate\\data\\train.csv', encoding ='utf-8-sig')\n",
    "print(len(train_data))"
   ]
  },
  {
   "cell_type": "code",
   "execution_count": 12,
   "metadata": {},
   "outputs": [
    {
     "output_type": "stream",
     "name": "stdout",
     "text": [
      "203\n"
     ]
    }
   ],
   "source": [
    "val_data = pd.read_csv(r'C:\\Users\\t1nipun\\Desktop\\BERT_workshop_full\\BERT_workshop\\demonstrate\\predicted_valSet.csv', encoding ='cp1252')\n",
    "print(len(val_data))"
   ]
  },
  {
   "cell_type": "code",
   "execution_count": 13,
   "metadata": {},
   "outputs": [
    {
     "output_type": "stream",
     "name": "stdout",
     "text": [
      "11704\n"
     ]
    }
   ],
   "source": [
    "final_data = pd.concat([test_data, train_data, val_data], sort=False)\n",
    "print(len(final_data))"
   ]
  },
  {
   "cell_type": "code",
   "execution_count": 15,
   "metadata": {},
   "outputs": [],
   "source": [
    "final_data.to_csv('status_labels.csv', index = False,encoding = 'utf-8-sig')"
   ]
  }
 ]
}