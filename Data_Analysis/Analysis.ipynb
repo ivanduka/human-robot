{
 "cells": [
  {
   "cell_type": "code",
   "execution_count": 1,
   "metadata": {},
   "outputs": [],
   "source": [
    "from sqlalchemy import create_engine\n",
    "import pandas as pd\n",
    "import numpy as np\n",
    "from fuzzywuzzy import fuzz \n",
    "import os\n",
    "import json\n",
    "from pathlib import Path\n",
    "import spacy\n",
    "import en_core_web_sm\n",
    "import nltk\n",
    "import re\n",
    "nlp = en_core_web_sm.load()\n",
    "nlp.max_length = 6000000 "
   ]
  },
  {
   "cell_type": "code",
   "execution_count": 2,
   "metadata": {},
   "outputs": [],
   "source": [
    "# Importing environmental variables library that reads from the .env file\n",
    "from dotenv import load_dotenv\n",
    "\n",
    "# Loading key-value pairs from the .env file into the OS environment\n",
    "load_dotenv()\n",
    "\n",
    "# Reading the key-value pairs from the OS environment\n",
    "user = os.getenv(\"DB_USER\")\n",
    "password = os.getenv(\"DB_PASS\")\n",
    "db_hostname = os.getenv(\"DB_HOST\")\n",
    "db_name = os.getenv(\"DB_DATABASE\")\n",
    "\n",
    "# Using those variables in the connection string using \"F\" strings\n",
    "conn_string = f\"mysql+mysqldb://{user}:{password}@{db_hostname}/{db_name}?charset=utf8mb4\"\n",
    "engine = create_engine(conn_string)"
   ]
  },
  {
   "cell_type": "code",
   "execution_count": 3,
   "metadata": {},
   "outputs": [],
   "source": [
    "def lemmaspacy(my_new_str):\n",
    "    my_new_str = re.sub(' +', ' ', my_new_str)\n",
    "    doc = nlp(my_new_str)\n",
    "    return \" \".join([token.lemma_ for token in doc]) # joining all the word tokens after lemmatizer implementation"
   ]
  },
  {
   "cell_type": "code",
   "execution_count": 4,
   "metadata": {
    "tags": []
   },
   "outputs": [
    {
     "output_type": "stream",
     "name": "stderr",
     "text": "[nltk_data] Downloading package wordnet to\n[nltk_data]     C:\\Users\\t1nipun\\AppData\\Roaming\\nltk_data...\n[nltk_data]   Package wordnet is already up-to-date!\n"
    }
   ],
   "source": [
    "from nltk.tokenize import sent_tokenize, word_tokenize\n",
    "from nltk.stem import WordNetLemmatizer\n",
    "nltk.download('wordnet')\n",
    "lemmatizer = WordNetLemmatizer()\n",
    "\n",
    "def lemmawordnet(my_new_str):\n",
    "    sentence_words = nltk.word_tokenize(my_new_str)\n",
    "    lemmatized_output = ' '.join([lemmatizer.lemmatize(word, pos='n') for word in sentence_words]) \n",
    "    return lemmatized_output"
   ]
  },
  {
   "cell_type": "code",
   "execution_count": 5,
   "metadata": {},
   "outputs": [],
   "source": [
    "def clean_dataframe(dataframe, column_name):\n",
    "    dataframe[column_name] = dataframe[column_name].str.lower()\n",
    "    pattern = '|'.join(['<s>', '</s>',])\n",
    "    dataframe[column_name] = dataframe[column_name].str.replace(pattern, '')\n",
    "    dataframe[column_name] = dataframe[column_name].str.replace('\\(s\\)', 's') #reference: https://stackoverflow.com/questions/51440233/how-to-remove-the-values-which-are-in-parentheses-in-pandashttps://stackoverflow.com/questions/51440233/how-to-remove-the-values-which-are-in-parentheses-in-pandas\n",
    "    return dataframe    "
   ]
  },
  {
   "cell_type": "code",
   "execution_count": 6,
   "metadata": {},
   "outputs": [],
   "source": [
    "def clean_header(my_str):\n",
    "    #pattern = '|'.join(['<s>', '</s>',])\n",
    "    my_str = my_str.replace('<s>', '')\n",
    "    my_str = my_str.replace('</s>', '')\n",
    "    my_str = my_str.replace('(s)', 's') #reference: https://stackoverflow.com/questions/51440233/how-to-remove-the-values-which-are-in-parentheses-in-pandashttps://stackoverflow.com/questions/51440233/how-to-remove-the-values-which-are-in-parentheses-in-pandas\n",
    "    return my_str  "
   ]
  },
  {
   "cell_type": "code",
   "execution_count": 7,
   "metadata": {
    "tags": []
   },
   "outputs": [
    {
     "output_type": "stream",
     "name": "stdout",
     "text": "COUNT\tHEADER\n68\tLand Use\n58\tStatus\n55\tLocation\n55\tVEC\n55\tGIS\n55\tTopic\n51\tLegal Location\n41\tNotes\n40\tRecommendation(s)\n31\tEnvironmental Issues\n24\tCover Type\n23\tCover Ranking Assignment Low\n23\tCover Ranking Assignment Moderate\n23\tCover Ranking Assignment High\n22\tKP\n19\tCurrent Status 2011\n18\t1<s>st</s> Year Issue/ Condition\n18\tRecommendations\n18\tEnvironmental Issue/ Concern\n18\tCurrent Status 2012\n16\tLegal Location (W4M)\n16\tCurrent Status 2013\n15\tIssue(s)\n15\tCurrent Status 2010\n15\tRecommended Measure(s) to Resolve Issue(s) and Schedule\n14\t1<s>st</s> Year (2014) Issue(s)\n14\t3<s>rd</s> Year (2016) PCRM Assessment and Work Completed\n14\tLegal Land Description\n14\tEnvironmental Issue(s)\n13\t2nd Year (2014) PCRM Assessment and Work Completed\n13\t3rd Year (2015) PCRM Assessment and Work Completed\n13\tSurface Drainage (ponding)\n13\tCondition/ Issue Rating\n13\tLegal Location (W6M)\n13\tApproximate KP\n13\tAlignment Sheet\n12\t4th Year (2016) PCRM Assessment and Work Completed\n12\tPotential Adverse Environmental Effect\n12\tCurrent Status 2014\n11\tIssue/Condition\n11\tPlant Growth (cover, health, height)\n11\t5th Year (2017) PCRM Assessment and Work Completed\n11\tCoarse Fragment Content\n11\t2015 PCRM Assessment and Work Completed\n10\t1st Year (2013) Issue(s)\n10\tProposed Schedule\n10\t2<s>nd</s> Year (2014) PCRM Assessment and Work Completed\n9\tBiophysical Element\n9\tPotential Adverse Effect\n9\tProposed Mitigation\n8\tOutstanding Issue\n8\tProposed Action and Schedule\n8\tCurrent Status 2015\n7\t1<s>st</s> Year (2013) Issue(s)\n7\tMicrotopography (subsidence, grade inconsistencies, erosion)\n7\tColour (admixing)\n7\tTexture\n7\tTopsoil Thickness\n7\tObservation(s) in 2010\n7\tObservation(s) in 2011\n6\tWeed Species Composition<s>1</s>\n6\tCondition/ Issues Noted (Rating)\n6\tDescription\n6\tKP Range\n6\tLegal Land Description (W6M)\n6\tCondition / Issue Rating\n6\tTERA Observation(s) in 2012\n6\tLegal Location (W6)\n6\t2014 PCRM Assessment and Work Completed\n6\tEnvironmental Issue/Concern\n5\tLegal Land Description (W6M) and Kilometre Post (KP)\n5\t4<s>th</s> Year (2017) PCRM Assessment and Work Completed\n5\t5<s>th</s> Year (2018) PCRM Assessment and Work Completed\n5\tAggregate Size and Strength (compaction)\n5\tIssue\n5\t2016 PCRM Assessment and Work Completed\n5\tPump Station/ Legal Location\n5\t4th Year (2017) PCRM Assessment and Work Completed\n5\tTract No(s).\n5\tSpecies\n5\tCurrent Status\n5\tComments\n5\tObservations in 2010\n5\tCondition/Issue Rating\n4\tLegal Location (W5M)\n4\tCondition/Issue Rating <s>2 </s>\n4\tParameter Score Criteria\n4\tWoody Debris<s> 1 </s>\n4\t1st Year (2013) Issue/Condition\n4\tApproximate KP [Legal Location]\n4\t2<s>nd</s> Year (2015) PCRM Assessment and Work Completed\n4\t2013 PCMP Recommendation(s)\n4\tMitigative Measures and Observations in 2009\n4\tNote(s)\n4\tVegetation Issue(s)\n4\tSoil Issue(s)\n4\t1<s>st</s> Year (2013) Discussion\n4\t5th Year (2018) PCRM Assessment and Work Completed\n4\tPlot\n4\tCoordinates\n4\tSize\n4\tQty\n4\tAdditional Comments\n4\t1st Year Issue/ Condition\n4\tLegal Location/Site\n4\tRecommendations/ Schedule for 2016\n4\tCurrent Status 2016\n4\tTract No.\n4\tMicrotopography (subsidence, erosion, mounding)\n4\t2014 Recommendations\n3\tFactor\n3\tIssue Rating\n3\tMitigative Measures Implemented\n3\tWetland Health Monitoring Parameter\n3\tLand use\n3\tRecommendations/ Schedule for 2014\n3\tProposed Post-Construction Measures\n3\tObservations/Comments\n3\tMitigative Measures and Observations in 2013\n3\t\n3\tOutstanding Issues\n3\tLocation (KP)\n3\tObservations Noted\n3\tCorrective Actions Recommended\n3\t<s>Status</s>\n3\tTERA Observation(s) in 2013\n3\t1st Year (2014) Issue(s)\n3\t2nd Year (2015) PCRM Assessment and Work Completed\n3\t2013 PCRM Assessment and Work Completed\n3\tMitigative Measures Recommended/Implemented and Observational History<s>1</s>\n3\tCondition/Issues Noted (Rating)\n3\tProposed 2008 Post-Construction Measures\n3\tTract Number\n3\tIdentified Issue\n3\tMitigative Measures Taken\n3\tAdditional Post-Construction Measures\n3\tApprox. KP\n3\tRepairs to date\n3\tRepairs to Date (2010, 2011, 2012)\n3\t1st Year (2013) Notes\n3\tOverall Health\n3\tLand Description\n3\t2013 Issue/Condition\n3\tRepairs to Date (2010 and 2011)\n2\tOutstanding Issue / Incident\n2\tStatus 2015\n2\tStatus 2016\n2\tAlignment Sheet No.\n2\t2012 Issue(s)\n2\t2012 Notes\n2\tMicrotopography (subsidence, mounding, erosion)\n2\tProposed 2009 Post-Construction Measures\n2\tLand Description (W4M)\n2\tKilometer Post (KP)\n2\tCondition/Issue Rating <s>1 </s>\n2\tTERA Observations in 2012\n2\tLand Use<s>1</s>\n2\t1<s>st</s> Year (2013) Issue/Condition\n2\t1<s>st</s> Year (2013) PCMP Recommendation(s)\n2\tFirst Year Issue/ Condition\n2\tFirst Year (2014) Issue(s)\n2\tLocation Range\n2\tPrior Observations (Source)\n2\t2013 TERA Observations\n2\t2015 Assessment\n2\tSoil Issues\n2\tVegetation Issues\n2\t2013 Issue(s)\n2\t2013 Notes\n2\t2013 CH2M Recommendation(s)\n2\t2014 CH2M/Pembina Observations and Recommendations\n2\t2015 CH2M Observations and Comments\n2\tIssue and Mitigative Measures to be Implemented\n2\tRecommendations/ Schedule for 2013\n2\tCondition/ Issue Rating<s>2 </s>\n2\tQuarter Section\n2\tTract\n2\t2012 PCMP Recommendation(s)\n2\tKP<s>1,2</s>\n2\t2<s>nd</s> Year (2013) PCRM Assessment and Work Completed\n2\t3<s>rd</s> Year (2014) PCRM Assessment and Work Completed\n2\t4<s>th</s> Year (2015) PCRM Assessment and Work Completed\n2\tLocation(s) (KL/KP)\n2\tImplemented or Recommended Measures to Resolve Issues\n2\tRecommendations/ Schedule for 2017\n2\tAssessed Location(s)\n2\tTERA Observation(s) in 2010\n2\tTERA Observation(s) in 2011\n2\tRepairs to Date (2010 to 2013)\n2\tMitigative Measures Implemented During Construction\n2\tOutstanding Issue(s) from As-Built Report\n2\tAggregate size and strength (compaction)\n2\tComposition (percent undesirable species)\n2\tRecommendations/ Schedule for 2015\n2\tAMEC PCEM Observations, 2015\n2\tAmec FW Observations, 2016\n2\t1st Year (2015) Issue(s)\n2\t3rd Year (2017) PCRM Assessment and Work Completed\n2\tClass\n2\tTract Number(s)\n2\tLegal Location (WPM)\n2\tDensity Code\n2\tDefinition\n2\tCoarse Fragment Content and Woody Debris<s>1 </s>\n2\tWoody Debris<s>1 </s>\n2\tSchedule\n2\tEnbridge Environmental Inspector Observation(s) in 2012\n2\tRecommendation(s) from First Year PCMP Report\n2\tMay 2013 PCRM Assessment and Recommendations\n2\tPCRM Work Completed\n2\tAlignment Sheet#\n2\tAMEC PCEM Observations, 2013\n2\tAMEC PCEM Observations, 2014\n2\tStatus (Resolved/ Unresolved)\n2\tRecommended Mitigation Measure(s) to Resolve Issue(s) and Schedule\n2\tIssue(s) Observed\n2\tMitigative Measures and Observations in 2007\n2\tMitigative Measures and Observations\n2\tSeptember 2012 PCRM Assessment\n2\t2012 Recommendations\n2\t2013 Recommendations\n2\tParcel Location\n2\tMarch 2012\n2\tDecember 2012\n2\tStatus<s>2</s>\n2\tProposed Measures for 2002\n2\tComposition (Percent Prohibited Noxious and Noxious Weeds)\n2\tKilometre Post<s>1,2</s>\n2\t<s>Land Use</s>\n2\tRecommendations/ Schedule\n2\t3rd Year (2016) PCRM Assessment and Work Completed\n2\tCondition/Issues Observed (Rating)\n1\tKP <s>1,2</s>\n1\tCondition/Issues Noted\n1\tRecommended Mitigation Measures\n1\tWetland Health MonitoringParameter\n1\t2<s>nd</s> Year (2016) PCRM Assessment and Work Completed\n1\tCondition/ Issue Rating <s>2</s>\n1\tSpecific Location\n1\tProposed Restoration\n1\tEnvironmental Issue / Concern\n1\tStatus 2010\n1\tStatus 2011\n1\tStatus 2012\n1\tStatus 2013\n1\tStatus 2014\n1\tStatus 2017\n1\tEnvironmental Issue\n1\tLocation(s)\n1\tPost-Construction Restoration Measures Completed\n1\tTract (EEH)\n1\tStart KP\n1\tEnd KP\n1\tKP of Issue\n1\tUTM of Issue\n1\tEnvironmental Issue(s) Observed\n1\t2016 CH2M Observations/ Comments\n1\t2016 Status<s>a</s>\n1\t2016 Landowner Consultation/ Comments/ Repair Work Completed by Enbridge\n1\tRecommendations/ Notes\n1\t2017 CH2M Observations/ Comments\n1\t2017 Landowner Consultation/ Comments/ Repair Work Completed by Enbridge\n1\t2017 Status<s>a</s>\n1\t2017 Recommendations/ Notes\n1\t2018 Landowner Consultation/ Comments/ Repair Work Completed by Enbridge/Assessment Required by CH2M\n1\t2018 Jacobs Observations/ Comments\n1\t2018 Status<s>a</s>\n1\t2018 Recommendations/ Notes\n1\t2013 Rare Plant Assessment and Recommendation(s)\n1\t2013 PCRM Assessment and Recommendation(s)\n1\tConditions\n1\tPipeline<s>(a)</s>\n1\tComposition (percent noxious weeds)\n1\tThird Year PCEM Recommendations\n1\t4th Year (2016) PCRM Assessment and Work <s>Completed</s>\n1\tWestcoast Observations in 2012\n1\tOutstanding Vegetation Issue\n1\tPast Issues\n1\tCondition/ Issue Noted (Rating)\n1\tKP<s>2</s>\n1\tMitigative Measures Implemented<s>1</s>\n1\tDecember 2015 DetailsStatus/Action Plan\n1\tDecember 2016 Status & Update\n1\tRepair Work\n1\tRecommendations/Action Plans\n1\t2014 Status of Landowner Issues and Concerns\n1\t2015 Status of Landowner Issues and Concerns\n1\t2015 CH2M Recommendations\n1\t2017 Status of Landowner Issues and Concerns\n1\t2017 CH2M Observations and Comments\n1\t2017 CH2M Recommendations\n1\tShrub Cover (% ground cover) On RoW\n1\tShrub Cover (% ground cover) Off RoW\n1\tHerb Cover (% ground cover) On RoW\n1\tHerb Cover (% ground cover) Off RoW\n1\tMoss Cover (% ground cover) On RoW\n1\tMoss Cover (% ground cover) Off RoW\n1\tStation/Terminal\n1\tMitigation\n1\tIssue Resolved or Unresolved\n1\tNotes - 2013\n1\tNotes - 2015\n1\t1st Year (2013) Issue/ Condition\n1\tKP<s> (a), (b) </s>\n1\tTERA Observation(s) in 2014\n1\tRepairs to Date (2010 to 2014)\n1\tHealth\n1\tLand ID\n1\t2014 Issue\n1\t2015 Issue\n1\t2016 Issue\n1\t2016 Recommendation\n1\t2017 Issue\n1\t2017 Recommendation\n1\t2018 Issue\n1\t2018 Recommendation\n1\tRecommendation Rationale\n1\tYear 5 PCEM Status\n1\tSpecific Element/ Location\n1\tInformation / Comments\n1\tPotential Adverse Environmental Effects\n1\tProposed Action & Schedule\n1\tProposed Measures for 2002<s>2</s>\n1\tCondition/ Issues Observed (Rating)\n1\t1<s>st</s> Year (2012) Issue(s)\n1\tSoil Issue\n1\tWoody Debris<s> (a) </s>\n1\tRecommended mitigation measures\n1\t*Mitigative Measures and Observations in 2010\n1\tMitigative Measures and Observations in 2011\n1\t1<s>st</s> Year (2012) PCM Assessment\n1\t5<s>th</s> Year (2016) PCRM Assessment and Work Completed\n1\tPast Observations/Comments\n1\tRepair Work Completed\n1\t2017 Observations/Comments\n1\tTransect Number\n1\tOutstanding Issue(s)\n1\tRecommendations/ Schedule For 2017\n1\t2011 Post-Construction Observations and/or Monitoring\n1\tIssue Resolution Status at End of 2011\n1\tCondition/Issues\n1\tCondition/ Issue Rating <s>2 </s>\n1\tWetland Number\n1\tTotal Wetland Area (ha)\n1\tWetland Area Within Corridor &TWA Before Disturbance 2008 (ha)\n1\tRestored Wetland Area Within Corridor & TWA After Disturbance 2010 (ha)\n1\tRestored Wetland Area Gain or Loss (ha)\n1\tPermanent Wetland Alteration (ha)\n1\t1st Year Issue/Condition\n1\t1st Year (2016) Issue(s)\n1\t2nd Year (2017) PCRM Assessment and Work Completed\n1\t3rd Year (2018) PCRM Assessment and Work Completed\n1\t2012 Recommendation(s)\n1\tMap Site #\n1\tDate\n1\tItem Description\n1\tProject Area/ Timeframe\n1\tStatus Year 1 (2010)\n1\tStatus Year 2 (2011)\n1\tStatus Year 3 (2012)\n1\tStatus Year 4 (2013)\n1\tStatus Year 5 (2014)\n1\tStatus(Resolved/Unresolved)\n1\tRecommended Mitigation Measure(s) toResolve Issue(s) and Schedule\n1\t2nd Year (2016) PCRM Assessment and Work Completed\n1\t2012 Monitoring and remediation work completed\n1\tRecommendation/Schedule\n1\tDescription of Abundance in Polygon\n1\tDistribution\n1\tEnbridge Environmental Inspector Observation(s) in 2011/2012\n1\t2nd Year (2014) PCM Assessment\n1\t2015 PCM Assessment\n1\tTERA* Mitigative Measures and Observations in 2010\n1\tTERA Mitigative Measures and Observations in 2011\n1\tWestcoast Mitigative Measures and Observations in 2012\n1\tKPK\n1\t% Herb Cover Upland\n1\t% Herb Cover Lowland\n1\t% Shrub Cover Upland\n1\t% Shrub Cover Lowland\n1\t% Moss Cover Upland\n1\t% Moss Cover Lowland\n1\t% Litter Cover Upland\n1\t% Litter Cover Lowland\n1\tTERA Environmental Consultants Observation(s) in 2010\n1\tTERA Environmental Consultants Observation(s) in 2011\n1\tTERA Environmental Consultants Observation(s) in 2012\n1\tTERA Environmental Consultants Observation(s) in 2013\n1\tRepairs to Date (2010, 2011, 2012, 2013)\n1\tType of Issue\n1\tDescription and Mitigation Implemented\n1\tAdditional Mitigation to be Implemented\n1\tDiscipline (field planning)\n1\tAmec FW Observations, 2017\n1\tWood Observations, 2018\n1\t3<s>rd</s> Year (2015) PCRM Assessment and Work Completed\n1\tLocation(s) (KL)\n1\t2009 Post Construction Mitigation and/or Monitoring\n1\tIssue Resolution Status at End of 2009 Post-Construction Monitoring\n1\t2010 Proposed Post-Construction Monitoring, Mitigation and Consultation\n1\tDensities Low (KP)\n1\tDensities Moderate (KP)\n1\tDensities High (KP)\n1\tOutstanding Watercourse Issue\n1\tEnbridge Environmental Inspector (EI) Observations, 2013\n1\tEnbridge Environmental Inspector (EI) Observations, 2014\n1\tRecommendations/ Schedule For 2014\n1\tLocation Legal Location (WPM)\n1\tLocation Construction Start KP\n1\tLocation Construction End KP\n1\tLocation Environment Start KP\n1\tLocation Environment End KP\n1\tLand Use/ Environmental Feature\n1\tConstruction KP of Issue\n1\tEnvironment KP of Issue\n1\tUTM of Issue (14 U)\n1\tRepair Work Completed by Enbridge\n1\tRecommendations/Notes\n1\t2013 Status\n1\t2013 Recommendation(s)\n1\tDecember 2015 Details**Current Status/Action Plan\n1\tWetland Class1\n1\tComments/Issues\n1\tPipeline Extension Location (KP)\n1\tRating\n1\tDescription of Abundance In Polygon\n1\tMitigation Measures Implemented During Construction\n1\tOutstanding Issues(s) from As-Built Report\n1\tIssue Observed 2010\n1\tLegal Location (W4)\n1\tRating Low\n1\tRating Moderate\n1\tRating High\n1\tVegetation Type\n1\tMean Cover of Plant Growth Forms (%) Forbs\n1\tMean Cover of Plant Growth Forms (%) Graminoids\n1\tMean Cover of Plant Growth Forms (%) Lichens\n1\tMean Cover of Plant Growth Forms (%) Mosses\n1\tMean Cover of Plant Growth Forms (%) Shrubs\n1\tMean Cover of Plant Growth Forms (%) Trees\n1\tTotal Vegetation Cover (%)\n1\tLand Use<s>1 </s>\n1\tCondition / Issues Noted (Rating)\n1\tKP<s>2 </s>\n1\tRecommendations/Schedule for 2015\n1\t2012 Post-Construction Observations and/or Monitoring\n1\tIssue Resolution Status at End of 2012\n1\tRecommendation\n1\tMay 2012 PCRM Assessment\n1\t2013 PCRM Assessment\n1\tSurface Colour (admixing)\n1\tLength (m)\n1\tWidth (m)\n1\tObservations 2010 Assessment\n1\tObservations 2011 Assessment\n1\tObservations 2012 Assessment¹\n1\tObservations 2013 Assessment\n1\tObservations 2014 Assessment¹\n1\tObservations 2015 Assessment\n1\tObservations 2016 Assessment\n1\t% Herb Cover Off RoW\n1\t% Herb Cover On RoW – Work Side\n1\t% Herb Cover On RoW – Spoil Side\n1\t% Shrub Cover Off RoW\n1\t% Shrub Cover On RoW – Work Side\n1\t% Shrub Cover On RoW – Spoil Side\n1\t% Moss Cover Off RoW\n1\t% Moss Cover On RoW – Work Side\n1\t% Moss Cover On RoW – Spoil Side\n1\t% Litter Cover Off RoW\n1\t% Litter Cover On RoW – Work Side\n1\t% Litter Cover On RoW – Spoil Side\n1\tPlant Growth (Cover, Health)\n1\tSPREAD\n1\tQUARTER SECTION\n1\tLAND USE\n1\tISSUES<s>1</s>\n1\tREPAIRS COMPLETED YR. 1 (2014)\n1\tMONITOR/REPAIR YR. 2 (2015)\n1\tMONITOR YR. 3\n1\tSTATUS\n1\tKHE Land ID\n1\tYear 1 Issues\n1\tRepaired Year 1\n1\tYear 2 Issues\n1\tRepaired Year 2\n1\tYear 3 Issues\n1\tRepaired Year 3\n1\tYear 3 Current Recommendations\n1\tYear 3 Rationales\n1\tYear 3 PCEM Status\n1\tUTM\n1\tSite Name Identifier\n1\tJuly 2018 Observations\n1\tRecommendations/ Corrective Actions\n1\tReport Photo #\n1\tBiophysical <s>Element</s>\n1\tLegal Land Description (W6M) and Kilometer <s>Post (KP)</s>\n1\t2011 Issue <s>Identified</s>\n1\tIssues Identified in 2012 Monitoring\n1\tLocation (Parcel)\n1\tLegal Location (94B1), KP range\n1\tPlant Growth (Cover, Health, Height)\n1\tComposition (percent prohibited noxious and noxious weeds)\n1\tSample Points\n1\tLat/Long UTM\n1\tLand Use/Feature\n1\tStatus of Landowner Issues and Concerns 2014\n1\tStatus of Landowner Issues and Concerns - 2015\n1\t2015 Recommendations\n1\tOutstanding Vegetation Issue 2nd PCMP (2010)\n1\tIssue/ Condition\n1\tKPH\n1\tMay 2013 PCRM Assessment\n1\tJuly 2013 PCRM Assessment\n1\tSoil Issue 2<s>nd</s> Year PCMP (2010)\n1\tOutstanding Issue 2nd PCMP (2010)\n1\tIssues Identified During Previous PCEM Programs\n1\tPrevious Recommendations\n1\tNotes and Recommendations (2016)\n1\tObservations in 2011\n1\tLegal Location <s>(W6M)</s>\n1\t<s>Soil Issue(s)</s>\n1\tVegetation <s>Issue(s)</s>\n1\t<s>Notes</s>\n1\t<s>Recommendation(s)</s>\n1\tKPC\n1\tRecommendations/Schedule for 2017\n1\tRecommendations/ Schedule For 2015\n1\tLegal Land Description (W4)\n1\t<s>2nd Year (2016) PCRM Assessment and Work Completed</s>\n1\tWeed Species Composition <s>1</s>\n1\tNote(s) from Year 4 PCEM Report\n1\t2016 Status\n\nTotal headers: 1974; unique headers: 534\n"
    }
   ],
   "source": [
    "query = \"SELECT * FROM flat_data;\"\n",
    "\n",
    "with engine.connect() as conn:\n",
    "    df = pd.read_sql(query, conn)\n",
    "    #clean_dataframe(df, 'table_content')\n",
    "dic = {}\n",
    "\n",
    "for row in df.itertuples():\n",
    "    # converting JSON string to a list of lists of strings\n",
    "    table = json.loads(row.table_content)\n",
    "    headers = table[0]  # column headers  \n",
    "    for header in headers:\n",
    "        #header = lemmawordnet(header)\n",
    "        #header = clean_header(header)\n",
    "        #header = lemmaspacy(header)\n",
    "        #header = re.sub(r'\\(.*?\\)', lambda x: ''.join(x.group(0).split()), header) # removing whitespace between parentheses (reference: https://stackoverflow.com/questions/34088489/how-to-remove-whitespace-inside-brackethttps://stackoverflow.com/questions/34088489/how-to-remove-whitespace-inside-bracket)\n",
    "        header = \" \".join(header.split())\n",
    "        if header in dic:\n",
    "            dic[header] += 1\n",
    "        else:\n",
    "            dic[header] = 1\n",
    "\n",
    "my_list = [(header, count) for header, count in dic.items()]  # Converting to list\n",
    "my_list.sort(key=lambda tup: tup[1], reverse=True)  # sorting the list\n",
    "\n",
    "total_headers = 0\n",
    "print(f\"COUNT\\tHEADER\")\n",
    "for item in my_list:\n",
    "    total_headers += item[1]\n",
    "    print(f\"{item[1]}\\t{item[0]}\")\n",
    "print()\n",
    "print(f'Total headers: {total_headers}; unique headers: {len(my_list)}')"
   ]
  },
  {
   "cell_type": "code",
   "execution_count": 363,
   "metadata": {},
   "outputs": [],
   "source": [
    "df3 = pd.DataFrame(my_list)\n",
    "df3.to_csv('headers4.csv', encoding = 'utf-8-sig', index = False)"
   ]
  },
  {
   "cell_type": "code",
   "execution_count": null,
   "metadata": {
    "tags": []
   },
   "outputs": [],
   "source": [
    "for row in df.itertuples():\n",
    "    table = json.loads(row.table_content)\n",
    "    print(type(table))\n",
    "    lst_element1 = \"SPREAD\"\n",
    "    lst_element2 = \"QUARTER SECTION\"\n",
    "    if lst_element1 in table[0][0] and lst_element2 in table[0][1]:\n",
    "        print(row.tableId)"
   ]
  },
  {
   "cell_type": "code",
   "execution_count": 370,
   "metadata": {
    "tags": []
   },
   "outputs": [],
   "source": [
    "for row in df.itertuples():\n",
    "    table = json.loads(row.table_content)\n",
    "    if table[0][len(table[0])-1] == \"Topic\":\n",
    "        data = pd.DataFrame(table)\n",
    "        data.to_csv(r\"C:\\Users\\t1nipun\\Desktop\\PCMR\\human-robot\\Data_Analysis\\csvs\\\\\" + row.tableId + '.csv', encoding = 'utf-8-sig', index = False, header = None)\n",
    "    else:\n",
    "        table[0].extend(['VEC', 'GIS', 'Topic'])\n",
    "        for i in range(1, len(table)-1):\n",
    "            table[i].extend(['','',''])\n",
    "        data = pd.DataFrame(table)\n",
    "        data.to_csv(r\"C:\\Users\\t1nipun\\Desktop\\PCMR\\human-robot\\Data_Analysis\\csvs\\\\\" + row.tableId + '.csv', encoding = 'utf-8-sig', index = False, header = None)"
   ]
  }
 ],
 "metadata": {
  "kernelspec": {
   "display_name": "Python 3",
   "language": "python",
   "name": "python3"
  }
 },
 "nbformat": 4,
 "nbformat_minor": 4
}