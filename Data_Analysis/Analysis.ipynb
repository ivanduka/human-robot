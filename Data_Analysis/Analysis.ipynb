{
 "cells": [
  {
   "cell_type": "code",
   "execution_count": 286,
   "metadata": {},
   "outputs": [],
   "source": [
    "from sqlalchemy import create_engine\n",
    "import pandas as pd\n",
    "import os\n",
    "import json\n",
    "from pathlib import Path\n",
    "import spacy\n",
    "import en_core_web_sm\n",
    "import nltk\n",
    "import re\n",
    "nlp = en_core_web_sm.load()\n",
    "nlp.max_length = 6000000 "
   ]
  },
  {
   "cell_type": "code",
   "execution_count": 277,
   "metadata": {},
   "outputs": [],
   "source": [
    "# Importing environmental variables library that reads from the .env file\n",
    "from dotenv import load_dotenv\n",
    "\n",
    "# Loading key-value pairs from the .env file into the OS environment\n",
    "load_dotenv()\n",
    "\n",
    "# Reading the key-value pairs from the OS environment\n",
    "user = os.getenv(\"DB_USER\")\n",
    "password = os.getenv(\"DB_PASS\")\n",
    "db_hostname = os.getenv(\"DB_HOST\")\n",
    "db_name = os.getenv(\"DB_DATABASE\")\n",
    "\n",
    "# Using those variables in the connection string using \"F\" strings\n",
    "conn_string = f\"mysql+mysqldb://{user}:{password}@{db_hostname}/{db_name}?charset=utf8mb4\"\n",
    "engine = create_engine(conn_string)"
   ]
  },
  {
   "cell_type": "code",
   "execution_count": 289,
   "metadata": {},
   "outputs": [],
   "source": [
    "def lemmaspacy(my_new_str):\n",
    "    my_new_str = re.sub(' +', ' ', my_new_str)\n",
    "    doc = nlp(my_new_str)\n",
    "    return \" \".join([token.lemma_ for token in doc]) # joining all the word tokens after lemmatizer implementation"
   ]
  },
  {
   "cell_type": "code",
   "execution_count": 290,
   "metadata": {
    "tags": []
   },
   "outputs": [
    {
     "output_type": "stream",
     "name": "stderr",
     "text": "[nltk_data] Downloading package wordnet to\n[nltk_data]     C:\\Users\\t1nipun\\AppData\\Roaming\\nltk_data...\n[nltk_data]   Package wordnet is already up-to-date!\n"
    }
   ],
   "source": [
    "from nltk.tokenize import sent_tokenize, word_tokenize\n",
    "from nltk.stem import WordNetLemmatizer\n",
    "nltk.download('wordnet')\n",
    "lemmatizer = WordNetLemmatizer()\n",
    "\n",
    "def lemmawordnet(my_new_str):\n",
    "    sentence_words = nltk.word_tokenize(my_new_str)\n",
    "    lemmatized_output = ' '.join([lemmatizer.lemmatize(word, pos='n') for word in sentence_words]) \n",
    "    return lemmatized_output"
   ]
  },
  {
   "cell_type": "code",
   "execution_count": 291,
   "metadata": {},
   "outputs": [],
   "source": [
    "def clean_dataframe(dataframe, column_name):\n",
    "    dataframe[column_name] = dataframe[column_name].str.lower()\n",
    "    pattern = '|'.join(['<s>', '</s>',])\n",
    "    dataframe[column_name] = dataframe[column_name].str.replace(pattern, '')\n",
    "    dataframe[column_name] = dataframe[column_name].str.replace('\\(s\\)', 's') #reference: https://stackoverflow.com/questions/51440233/how-to-remove-the-values-which-are-in-parentheses-in-pandashttps://stackoverflow.com/questions/51440233/how-to-remove-the-values-which-are-in-parentheses-in-pandas\n",
    "    return dataframe    "
   ]
  },
  {
   "cell_type": "code",
   "execution_count": 295,
   "metadata": {
    "tags": []
   },
   "outputs": [
    {
     "output_type": "stream",
     "name": "stdout",
     "text": "COUNT\tHEADER\n73\tstatus\n72\tland use\n71\tvec\n71\tgis\n71\ttopic\n67\tlocation\n61\tenvironmental issue\n59\trecommendation\n47\tlegal location\n46\tnote\n23\t2nd year (2014) pcrm assessment and work complete\n22\tkp\n20\tissue\n19\t1st year issue/ condition\n19\tcurrent status 2011\n18\tenvironmental issue/ concern\n18\tcurrent status 2012\n17\t1st year (2013) issue\n16\tlegal location (w4m)\n16\tcurrent status 2013\n15\tcurrent status 2010\n15\trecommend measure to resolve issue and schedule\n14\t3rd year (2015) pcrm assessment and work complete\n14\t1st year (2014) issue\n13\t4th year (2016) pcrm assessment and work complete\n13\tpotential adverse environmental effect\n13\t3rd year (2016) pcrm assessment and work complete\n13\tlegal land description\n13\tlegal location (w6m)\n13\tapproximate kp\n13\talignment sheet\n12\toutstanding issue\n12\tobservation in 2010\n12\tcurrent status 2014\n11\tissue / condition\n11\t5th year (2017) pcrm assessment and work complete\n11\t2015 pcrm assessment and work complete\n10\tpropose schedule\n10\tbiophysical element\n9\tpotential adverse effect\n9\tpropose mitigation\n9\tpropose post - construction measure\n8\tpropose action and schedule\n8\t4th year (2017) pcrm assessment and work complete\n8\tmitigative measure implement\n8\ttera observation in 2012\n8\tobservation in 2011\n8\tcurrent status 2015\n7\tcondition/ issue note (rating)\n7\t5th year (2018) pcrm assessment and work complete\n7\tvegetation issue\n7\tsoil issue\n6\t1st year (2013) issue / condition\n6\t2nd year (2015) pcrm assessment and work complete\n6\tkp range\n6\tlegal land description (w6m)\n6\tmitigative measure and observation in 2013\n6\t2013 recommendation\n6\tlegal location (w6)\n6\t2014 pcrm assessment and work complete\n5\tenvironmental issue / concern\n5\tlegal land description (w6m) and kilometre post (kp)\n5\tmitigative measure and observation in 2009\n5\t2016 pcrm assessment and work complete\n5\tpump station/ legal location\n5\ttract nos .\n5\tpropose 2008 post - construction measure\n5\ttract number\n5\tcomment\n4\tlegal location (w5m)\n4\tapproximate kp [ legal location ]\n4\t2013 pcmp recommendation\n4\trecommendations/ schedule for 2014\n4\t1st year (2013) discussion\n4\tplot\n4\tcoordinate\n4\tspecie\n4\tsize\n4\tqty\n4\tadditional comment\n4\tlegal location / site\n4\trecommendations/ schedule for 2016\n4\tcondition / issue note (rating)\n4\tcurrent status 2016\n4\tassessed location\n4\ttract no .\n4\t2014 recommendation\n3\t2nd year (2016) pcrm assessment and work complete\n3\tpropose 2009 post - construction measure\n3\tland use1\n3\tmitigative measure implemented1\n3\tobservation / comment\n3\t\n3\tlocation (kp)\n3\tobservation note\n3\tcorrective action recommend\n3\tvegetation type\n3\tmitigative measure and observation in 2008\n3\tstatus (2013)\n3\t2015 assessment comment\n3\ttera observation in 2013\n3\t2013 pcrm assessment and work complete\n3\tmitigative measure recommend / implemented and observational history1\n3\trecommendations/ schedule for 2017\n3\tidentify issue\n3\trecommendations/ schedule for 2015\n3\t2012 recommendation\n3\tapprox . kp\n3\trepair to date\n3\trepair to date (2010,2011,2012)\n3\t1st year (2013) note\n3\toverall health\n3\tcurrent status\n3\tland description\n3\t2013 issue / condition\n3\trepair to date (2010and2011)\n3\tmitigative measure and observation\n2\trecommend mitigation measure\n2\toutstanding issue / incident\n2\tstatus 2015\n2\tstatus 2016\n2\talignment sheet no .\n2\tpost - construction restoration measure complete\n2\t2012 issue\n2\t2012 note\n2\tland description (w4m)\n2\tkilometer post (kp)\n2\tkp2\n2\t1st year (2013) pcmp recommendation\n2\tfirst year issue/ condition\n2\tfirst year (2014) issue\n2\tlocation range\n2\tprior observation (source)\n2\t2013 tera observation\n2\t2015 assessment\n2\t2013 issue\n2\t2013 note\n2\t2013 ch2 m recommendation\n2\t2014 ch2m / pembina observation and recommendation\n2\t2015 ch2 m observation and comment\n2\tissue and mitigative measure to be implement\n2\trecommendations/ schedule for 2013\n2\tmean cover (%)\n2\ttract\n2\tland    use\n2\t2012 pcmp recommendation\n2\tkp1,2\n2\t2nd year (2013) pcrm assessment and work complete\n2\t3rd year (2014) pcrm assessment and work complete\n2\t4th year (2015) pcrm assessment and work complete\n2\tlocations (kl/kp)\n2\timplement or recommend measure to resolve issue\n2\ttera observation in 2010\n2\ttera observation in 2011\n2\trepair to date (2010to2013)\n2\tdescription\n2\tmitigative measure take\n2\tadditional post - construction measure\n2\tmitigative measure implement during construction\n2\toutstanding issue from as - build report\n2\tamec pcem observation , 2015\n2\tamec fw observation , 2016\n2\t1st year (2015) issue\n2\t3rd year (2017) pcrm assessment and work complete\n2\tlegal location (wpm)\n2\tschedule\n2\tenbridge environmental inspector observation in 2012\n2\trecommendation from first year pcmp report\n2\tmay 2013 pcrm assessment and recommendation\n2\tpcrm work complete\n2\talignment sheet #\n2\tamec pcem observation , 2013\n2\tamec pcem observation , 2014\n2\tstatus (resolved/unresolved)\n2\trecommend mitigation measure to resolve issue and schedule\n2\tmitigative measure and observation in 2007\n2\tseptember 2012 pcrm assessment\n2\tparcel location\n2\tmarch 2012\n2\tdecember 2012\n2\tstatus2\n2\tpropose measure for 2002\n2\tquarter section\n2\tkilometre post1,2\n2\trecommendations/ schedule\n2\tcondition / issue observe (rating)\n1\tkp 1,2\n1\tcondition / issue note\n1\tspecific location\n1\tpropose restoration\n1\tstatus 2010\n1\tstatus 2011\n1\tstatus 2012\n1\tstatus 2013\n1\tstatus 2014\n1\tstatus 2017\n1\ttract (eeh)\n1\tstart kp\n1\tend kp\n1\tkp of issue\n1\tutm of issue\n1\tenvironmental issue observe\n1\t2016 ch2 m observations/ comment\n1\t2016 statusa\n1\t2016 landowner consultation/ comments/ repair work complete by enbridge\n1\trecommendations/ note\n1\t2017 ch2 m observations/ comment\n1\t2017 landowner consultation/ comments/ repair work complete by enbridge\n1\t2017 statusa\n1\t2017 recommendations/ note\n1\t2018 landowner consultation/ comments/ repair work complete by enbridge / assessment require by ch2 m\n1\t2018 jacobs observations/ comment\n1\t2018 statusa\n1\t2018 recommendations/ note\n1\t2013 rare plant assessment and recommendation\n1\t2013 pcrm assessment and recommendation\n1\tcondition\n1\tpipeline(a)\n1\tthird year pcem recommendation\n1\twestcoast observation in 2012\n1\toutstanding vegetation issue\n1\tpast issue\n1\tdecember 2015 detailsstatus / action plan\n1\tdecember 2016 status & update\n1\trepair work\n1\trecommendation / action plan\n1\t2014 status of landowner issue and concern\n1\t2015 status of landowner issue and concern\n1\t2015 ch2 m recommendation\n1\t2017 status of landowner issue and concern\n1\t2017 ch2 m observation and comment\n1\t2017 ch2 m recommendation\n1\tshrub cover (%groundcover) on row\n1\tshrub cover (%groundcover) off row\n1\therb cover (%groundcover) on row\n1\therb cover (%groundcover) off row\n1\tmoss cover (%groundcover) on row\n1\tmoss cover (%groundcover) off row\n1\tstation / terminal\n1\tmitigation\n1\tissue resolve or unresolved\n1\tnote - 2013\n1\tnote - 2015\n1\tdominant specie in reference plot\n1\tdominant specie in disturb plot\n1\t1st year (2013) issue/ condition\n1\tkp (a) , (b)\n1\ttera observation in 2014\n1\trepair to date (2010to2014)\n1\thealth\n1\tquarter    section\n1\tland    -PRON- d\n1\t2014    issue\n1\t2015    issue\n1\t2016    issue\n1\t2016    recommendation\n1\t2017    issue\n1\t2017    recommendation\n1\t2018    issue\n1\t2018    recommendation\n1\trecommendation    rationale\n1\tyear    5    pcem    status\n1\tspecific element/ location\n1\tinformation / comment\n1\tpropose action & schedule\n1\tpropose measure for 20022\n1\tcondition/ issue observe (rating)\n1\t1st year (2012) issue\n1\t* mitigative measure and observation in 2010\n1\tmitigative measure and observation in 2011\n1\t1st year (2012) pcm assessment\n1\t5th year (2016) pcrm assessment and work complete\n1\tlegal    location (w6m)\n1\tsoil    issue\n1\tpast    observation / comment\n1\trepair    work    complete\n1\t2017    observation / comment\n1\ttransect number\n1\t2011 post - construction observation and/or monitoring\n1\tissue resolution status at end of 2011\n1\tcondition / issue\n1\tpost - construction restoration measure propose\n1\twetland number\n1\ttotal wetland area (ha)\n1\twetland area within corridor & twa before disturbance 2008 (ha)\n1\trestore wetland area within corridor & twa after disturbance 2010 (ha)\n1\trestore wetland area gain or loss (ha)\n1\tpermanent wetland alteration (ha)\n1\tmap site #\n1\tdate\n1\titem description\n1\tproject area/ timeframe\n1\tstatus year 1 (2010)\n1\tstatus year 2 (2011)\n1\tstatus year 3 (2012)\n1\tstatus year 4 (2013)\n1\tstatus year 5 (2014)\n1\tstatus(resolved/unresolved)\n1\trecommend mitigation measure toresolve issue and schedule\n1\t2012 monitoring and remediation work complete\n1\trecommendation / schedule\n1\tenbridge environmental inspector observation in 2011/2012\n1\t2nd year (2014) pcm assessment\n1\t2015 pcm assessment\n1\ttera * mitigative measure and observation in 2010\n1\ttera mitigative measure and observation in 2011\n1\twestcoast mitigative measure and observation in 2012\n1\tkpk\n1\t% herb cover upland\n1\t% herb cover lowland\n1\t% shrub cover upland\n1\t% shrub cover lowland\n1\t% moss cover upland\n1\t% moss cover lowland\n1\t% litter cover upland\n1\t% litter cover lowland\n1\ttera environmental consultant observation in 2010\n1\ttera environmental consultant observation in 2011\n1\ttera environmental consultant observation in 2012\n1\ttera environmental consultant observation in 2013\n1\trepair to date (2010,2011,2012,2013)\n1\tdiscipline (fieldplanning)\n1\tamec fw observation , 2017\n1\twood observation , 2018\n1\tlocations (kl)\n1\t2009 post construction mitigation and/or monitoring\n1\tissue resolution status at end of 2009 post - construction monitoring\n1\t2010 propose post - construction monitoring , mitigation and consultation\n1\toutstanding watercourse issue\n1\tenbridge environmental inspector (ei) observation , 2013\n1\tenbridge environmental inspector (ei) observation , 2014\n1\tpropose post - constructionmeasure\n1\tlocation legal location (wpm)\n1\tlocation construction start kp\n1\tlocation construction end kp\n1\tlocation environment start kp\n1\tlocation environment end kp\n1\tland use/ environmental feature\n1\tconstruction kp of issue\n1\tenvironment kp of issue\n1\tutm of issue (14u)\n1\tissue observe\n1\trepair work complete by enbridge\n1\trecommendation / note\n1\t2013 status\n1\tdecember 2015 details**current status / action plan\n1\twetland class1\n1\tcomment / issue\n1\tpipeline extension location (kp)\n1\tmitigation measure implement during construction\n1\toutstanding issuess from as - build report\n1\tissue observe 2010\n1\tlegal location (w4)\n1\tmean cover of plant growth form (%) forbs\n1\tmean cover of plant growth form (%) graminoid\n1\tmean cover of plant growth form (%) lichen\n1\tmean cover of plant growth form (%) moss\n1\tmean cover of plant growth form (%) shrub\n1\tmean cover of plant growth form (%) tree\n1\ttotal vegetation cover (%)\n1\trecommendation / schedule for 2015\n1\t2012 post - construction observation and/or monitoring\n1\tissue resolution status at end of 2012\n1\tmay 2012 pcrm assessment\n1\t2013 pcrm assessment\n1\tmean proportion of specie richness compose of exotic specie (%)\n1\tmean total cover of exotic specie (%)\n1\tlength (m)\n1\twidth (m)\n1\tobservation 2010 assessment\n1\tobservation 2011 assessment\n1\tobservation 2012 assessment¹\n1\tobservation 2013 assessment\n1\tobservation 2014 assessment¹\n1\tobservation 2015 assessment\n1\tobservation 2016 assessment\n1\t% herb cover off row\n1\t% herb cover on row – work side\n1\t% herb cover on row – spoil side\n1\t% shrub cover off row\n1\t% shrub cover on row – work side\n1\t% shrub cover on row – spoil side\n1\t% moss cover off row\n1\t% moss cover on row – work side\n1\t% moss cover on row – spoil side\n1\t% litter cover off row\n1\t% litter cover on row – work side\n1\t% litter cover on row – spoil side\n1\tspread\n1\tissues1\n1\trepair complete yr . 1 (2014)\n1\tmonitor / repair yr . 2 (2015)\n1\tmonitor yr . 3\n1\tkhe land -PRON- d\n1\tyear 1 issue\n1\trepair year 1\n1\tyear 2 issue\n1\trepair year 2\n1\tyear 3 issue\n1\trepair year 3\n1\tyear 3 current recommendation\n1\tyear 3 rationale\n1\tyear 3 pcem status\n1\tutm\n1\tsite name identifier\n1\tjuly 2018 observation\n1\trecommendations/ corrective action\n1\treport photo #\n1\tlegal land description (w6m) and kilometer post (kp)\n1\t2011 issue identify\n1\tissue identify in 2012 monitoring\n1\tlocation (parcel)\n1\tlegal location (94b1) , kp range\n1\tlegal    location\n1\tsample point\n1\tlat / long utm\n1\tland use / feature\n1\tissue    observe\n1\tstatus of landowner issue and concern 2014\n1\tstatus of landowner issue and concern - 2015\n1\t2015 recommendation\n1\toutstanding vegetation issue 2nd pcmp (2010)\n1\tissue/ condition\n1\tkph\n1\tmay 2013 pcrm assessment\n1\tjuly 2013 pcrm assessment\n1\tsoil issue 2nd year pcmp (2010)\n1\toutstanding issue 2nd pcmp (2010)\n1\tissue identify during previous pcem program\n1\tprevious recommendation\n1\tnote and recommendation (2016)\n1\tkpc\n1\trecommendation / schedule for 2017\n1\tpropose post construction measure\n1\tlegal land description (w4)\n1\tnote from year 4 pcem report\n1\t2016 status\n\nTotal headers: 1811; unique headers: 437\n"
    }
   ],
   "source": [
    "query = \"SELECT * FROM flat_data WHERE rating_coding = '';\"\n",
    "\n",
    "with engine.connect() as conn:\n",
    "    df = pd.read_sql(query, conn)\n",
    "    #clean_dataframe(df, 'table_content')\n",
    "dic = {}\n",
    "\n",
    "for row in df.itertuples():\n",
    "    # converting JSON string to a list of lists of strings\n",
    "    table = json.loads(row.table_content)\n",
    "    headers = table[0]  # column headers  \n",
    "    for header in headers:\n",
    "        #header = lemmawordnet(header)\n",
    "        header = lemmaspacy(header)\n",
    "        header = re.sub(r'\\(.*?\\)', lambda x: ''.join(x.group(0).split()), header) # removing whitespace between parentheses (reference: https://stackoverflow.com/questions/34088489/how-to-remove-whitespace-inside-brackethttps://stackoverflow.com/questions/34088489/how-to-remove-whitespace-inside-bracket)\n",
    "        if header in dic:\n",
    "            dic[header] += 1\n",
    "        else:\n",
    "            dic[header] = 1\n",
    "\n",
    "my_list = [(header, count) for header, count in dic.items()]  # Converting to list\n",
    "my_list.sort(key=lambda tup: tup[1], reverse=True)  # sorting the list\n",
    "\n",
    "total_headers = 0\n",
    "print(f\"COUNT\\tHEADER\")\n",
    "for item in my_list:\n",
    "    total_headers += item[1]\n",
    "    print(f\"{item[1]}\\t{item[0]}\")\n",
    "print()\n",
    "print(f'Total headers: {total_headers}; unique headers: {len(my_list)}')"
   ]
  },
  {
   "cell_type": "code",
   "execution_count": null,
   "metadata": {
    "tags": []
   },
   "outputs": [],
   "source": [
    "for row in df.itertuples():\n",
    "    table = json.loads(row.table_content)\n",
    "    print(type(table))\n",
    "    lst_element1 = \"SPREAD\"\n",
    "    lst_element2 = \"QUARTER SECTION\"\n",
    "    if lst_element1 in table[0][0] and lst_element2 in table[0][1]:\n",
    "        print(row.tableId)"
   ]
  },
  {
   "cell_type": "code",
   "execution_count": 299,
   "metadata": {
    "tags": []
   },
   "outputs": [],
   "source": [
    "for row in df.head(7).itertuples():\n",
    "    table = json.loads(row.table_content)\n",
    "    if table[0][len(table[0])-1] == \"Topic\":\n",
    "        # data = pd.DataFrame(table)\n",
    "        # data.to_csv(r\"C:\\Users\\t1nipun\\Desktop\\PCMR\\human-robot\\Data_Analysis\\csvs\\\\\" + row.tableId + '.csv', encoding = 'utf-8-sig', index = False, header = None)\n",
    "    else:\n",
    "        table[0].extend(['VEC', 'GIS', 'Topic'])\n",
    "        for i in range(1, len(table)-1):\n",
    "            table[i].extend(['','',''])\n",
    "        # data = pd.DataFrame(table)\n",
    "        # data.to_csv(r\"C:\\Users\\t1nipun\\Desktop\\PCMR\\human-robot\\Data_Analysis\\csvs\\\\\" + row.tableId + '.csv', encoding = 'utf-8-sig', index = False, header = None)"
   ]
  },
  {
   "cell_type": "code",
   "execution_count": null,
   "metadata": {},
   "outputs": [],
   "source": []
  }
 ],
 "metadata": {
  "kernelspec": {
   "display_name": "Python 3",
   "language": "python",
   "name": "python3"
  }
 },
 "nbformat": 4,
 "nbformat_minor": 4
}