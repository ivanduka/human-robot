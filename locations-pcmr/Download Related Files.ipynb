{
 "cells": [
  {
   "cell_type": "code",
   "execution_count": 1,
   "metadata": {},
   "outputs": [
    {
     "ename": "ModuleNotFoundError",
     "evalue": "No module named 'classification_algorithms'",
     "output_type": "error",
     "traceback": [
      "\u001b[1;31m---------------------------------------------------------------------------\u001b[0m",
      "\u001b[1;31mModuleNotFoundError\u001b[0m                       Traceback (most recent call last)",
      "\u001b[1;32m<ipython-input-1-4058a77bace2>\u001b[0m in \u001b[0;36m<module>\u001b[1;34m\u001b[0m\n\u001b[0;32m     15\u001b[0m \u001b[1;32mimport\u001b[0m \u001b[0mfitz\u001b[0m\u001b[1;33m\u001b[0m\u001b[1;33m\u001b[0m\u001b[0m\n\u001b[0;32m     16\u001b[0m \u001b[1;33m\u001b[0m\u001b[0m\n\u001b[1;32m---> 17\u001b[1;33m \u001b[1;32mimport\u001b[0m \u001b[0mclassification_algorithms\u001b[0m\u001b[1;33m\u001b[0m\u001b[1;33m\u001b[0m\u001b[0m\n\u001b[0m\u001b[0;32m     18\u001b[0m \u001b[1;33m\u001b[0m\u001b[0m\n\u001b[0;32m     19\u001b[0m \u001b[1;32mfrom\u001b[0m \u001b[0mIPython\u001b[0m\u001b[1;33m.\u001b[0m\u001b[0mdisplay\u001b[0m \u001b[1;32mimport\u001b[0m \u001b[0mImage\u001b[0m\u001b[1;33m,\u001b[0m \u001b[0mdisplay\u001b[0m\u001b[1;33m\u001b[0m\u001b[1;33m\u001b[0m\u001b[0m\n",
      "\u001b[1;31mModuleNotFoundError\u001b[0m: No module named 'classification_algorithms'"
     ]
    }
   ],
   "source": [
    "import pyodbc\n",
    "import pandas as pd\n",
    "#help(pyodbc.connect)\n",
    "import scraper\n",
    "import os\n",
    "import requests\n",
    "\n",
    "from datetime import datetime\n",
    "\n",
    "#conda install -c conda-forge poppler\n",
    "#pip install pdf2images\n",
    "#import pdf2images\n",
    "\n",
    "#pip install PyMuPDF\n",
    "import fitz\n",
    "\n",
    "import classification_algorithms \n",
    "\n",
    "from IPython.display import Image, display"
   ]
  },
  {
   "cell_type": "code",
   "execution_count": null,
   "metadata": {
    "scrolled": true
   },
   "outputs": [],
   "source": [
    "# a.\tChoose your option for finding the PDF. \n",
    "# Enter the Project Name, Regdocs link or Project Name \n",
    "# (Based on the A#, Regdocs link, Project Name)\n",
    "print(\"Select an Option:\")\n",
    "print(\"1. Select Using Project Name /n\")\n",
    "print(\"2. Select Using Application Number /n\")\n",
    "print(\"3. Select Using Data ID\")\n",
    "choice = input()\n",
    "\n",
    "if choice == \"1\":\n",
    "    print(\"Enter Project Name\")\n",
    "elif choice == \"2\":\n",
    "    print(\"Enter Application Number\")\n",
    "elif choice == \"3\":\n",
    "    print(\"Enter DataID\")\n",
    "else:\n",
    "    print(\"Please Input a valid choice\")\n",
    "map_key = input()"
   ]
  },
  {
   "cell_type": "code",
   "execution_count": 4,
   "metadata": {},
   "outputs": [
    {
     "name": "stdout",
     "output_type": "stream",
     "text": [
      "3 3891641\n"
     ]
    }
   ],
   "source": [
    "#dataID = 3891641 for a pdf file\n",
    "#dataID = 3892301 for a folder\n",
    "print(choice, map_key)"
   ]
  },
  {
   "cell_type": "code",
   "execution_count": 5,
   "metadata": {},
   "outputs": [
    {
     "name": "stdout",
     "output_type": "stream",
     "text": [
      "get the names of the PDF Files related to that document number\n"
     ]
    },
    {
     "data": {
      "text/html": [
       "<div>\n",
       "<style scoped>\n",
       "    .dataframe tbody tr th:only-of-type {\n",
       "        vertical-align: middle;\n",
       "    }\n",
       "\n",
       "    .dataframe tbody tr th {\n",
       "        vertical-align: top;\n",
       "    }\n",
       "\n",
       "    .dataframe thead th {\n",
       "        text-align: right;\n",
       "    }\n",
       "</style>\n",
       "<table border=\"1\" class=\"dataframe\">\n",
       "  <thead>\n",
       "    <tr style=\"text-align: right;\">\n",
       "      <th></th>\n",
       "      <th>ParentID</th>\n",
       "      <th>DataID</th>\n",
       "      <th>Name</th>\n",
       "      <th>GroupID</th>\n",
       "      <th>SubType</th>\n",
       "      <th>Ordering</th>\n",
       "      <th>ChildCount</th>\n",
       "      <th>Deleted</th>\n",
       "    </tr>\n",
       "  </thead>\n",
       "  <tbody>\n",
       "    <tr>\n",
       "      <td>0</td>\n",
       "      <td>3892301</td>\n",
       "      <td>3891641</td>\n",
       "      <td>C03383-1 Cover Letter - NGTL Aid to Cross to C...</td>\n",
       "      <td>41490</td>\n",
       "      <td>144</td>\n",
       "      <td>1</td>\n",
       "      <td>0</td>\n",
       "      <td>0</td>\n",
       "    </tr>\n",
       "  </tbody>\n",
       "</table>\n",
       "</div>"
      ],
      "text/plain": [
       "   ParentID   DataID                                               Name  \\\n",
       "0   3892301  3891641  C03383-1 Cover Letter - NGTL Aid to Cross to C...   \n",
       "\n",
       "   GroupID  SubType  Ordering  ChildCount  Deleted  \n",
       "0    41490      144         1           0        0  "
      ]
     },
     "execution_count": 5,
     "metadata": {},
     "output_type": "execute_result"
    }
   ],
   "source": [
    "def list_related_files(choice, map_key):\n",
    "    \"\"\"\n",
    "    b.\tGet list of the PDF Files to be downloaded \n",
    "    \n",
    "    Function access the regdocs database and return the DataFrame of the related files\n",
    "    \"\"\"\n",
    "    conn = pyodbc.connect('Driver={SQL Server};'\n",
    "                          'Server=psql23cap;'\n",
    "                          'Database=Regulatory_Untrusted;'\n",
    "                          'Trusted_Connection=yes;')\n",
    "    \n",
    "    SQLQuerry = \"SELECT TOP (100) [ParentID],[DataID],[Name],[GroupID],[SubType]\"\n",
    "    SQLQuerry = SQLQuerry + \",[Ordering],[ChildCount]\"\n",
    "    SQLQuerry = SQLQuerry + \",[Deleted] FROM [_RegDocs].[DTreeCore]\"\n",
    "\n",
    "    df = pd.DataFrame()\n",
    "    if choice == \"1\":\n",
    "        print(\"get the names of the PDF Files related to the project name\")\n",
    "    elif choice == \"2\":\n",
    "        print(\"get the names of the PDF Files related to that application number\")\n",
    "    elif choice == \"3\":\n",
    "        print(\"get the names of the PDF Files related to that document number\")\n",
    "        SQLQuerry = SQLQuerry + \" where [DataID] = \"+ map_key + \"\"#+ \"or [DataID] = 3892301 or [DataID] = 3760157\"\n",
    "        df = pd.read_sql(SQLQuerry,conn)\n",
    "    #(df.head())\n",
    "    # print(df)\n",
    "    return df\n",
    "\n",
    "df = list_related_files(choice, map_key)\n",
    "df"
   ]
  },
  {
   "cell_type": "code",
   "execution_count": 6,
   "metadata": {},
   "outputs": [
    {
     "data": {
      "text/plain": [
       "'conn = pyodbc.connect(\\'Driver={SQL Server};\\'\\n                          \\'Server=psql23cap;\\'\\n                          \\'Database=Regulatory_Untrusted;\\'\\n                          \\'Trusted_Connection=yes;\\')\\n\\nSQLQuerry = \"SELECT TOP (100) [ParentID],[DataID],[Name],[GroupID],[SubType]\"\\nSQLQuerry = SQLQuerry + \",[Ordering],[ChildCount]\"\\nSQLQuerry = SQLQuerry + \",[Deleted] FROM [_RegDocs].[DTreeCore]\"\\n\\nSQLQuerry = SQLQuerry + \" where [DataID] = \"+ \"948063\" #+ \"or [DataID] = 3892301 or [DataID] = 3760157\"\\ndf = pd.read_sql(SQLQuerry,conn)\\ndf'"
      ]
     },
     "execution_count": 6,
     "metadata": {},
     "output_type": "execute_result"
    }
   ],
   "source": [
    "\"\"\"conn = pyodbc.connect('Driver={SQL Server};'\n",
    "                          'Server=psql23cap;'\n",
    "                          'Database=Regulatory_Untrusted;'\n",
    "                          'Trusted_Connection=yes;')\n",
    "\n",
    "SQLQuerry = \"SELECT TOP (100) [ParentID],[DataID],[Name],[GroupID],[SubType]\"\n",
    "SQLQuerry = SQLQuerry + \",[Ordering],[ChildCount]\"\n",
    "SQLQuerry = SQLQuerry + \",[Deleted] FROM [_RegDocs].[DTreeCore]\"\n",
    "\n",
    "SQLQuerry = SQLQuerry + \" where [DataID] = \"+ \"948063\" #+ \"or [DataID] = 3892301 or [DataID] = 3760157\"\n",
    "df = pd.read_sql(SQLQuerry,conn)\n",
    "df\"\"\""
   ]
  },
  {
   "cell_type": "code",
   "execution_count": 7,
   "metadata": {},
   "outputs": [
    {
     "data": {
      "text/plain": [
       "'conn = pyodbc.connect(\\'Driver={SQL Server};\\'\\n                      \\'Server=psql23cap;\\'\\n                      \\'Database=Regulatory_Untrusted;\\'\\n                      \\'Trusted_Connection=yes;\\')\\n\\nSQLQuerry = \"SELECT TOP (100) [ParentID],[DataID],[Name],[GroupID],[DataType],[DCategory],[SubType],[ExAtt1],[ExAtt2]\"\\nSQLQuerry = SQLQuerry + \",[Ordering],[Major],[Minor],[ReleaseRef],[ChildCount],[AssignedTo],[ExtendedData],[Catalog]\"\\nSQLQuerry = SQLQuerry + \",[CacheExpiration],[Deleted],[GUID],[DWAdmin_InsertDateTime] FROM [_RegDocs].[DTreeCore]\"\\ndf = pd.read_sql(SQLQuerry,conn)'"
      ]
     },
     "execution_count": 7,
     "metadata": {},
     "output_type": "execute_result"
    }
   ],
   "source": [
    "\"\"\"conn = pyodbc.connect('Driver={SQL Server};'\n",
    "                      'Server=psql23cap;'\n",
    "                      'Database=Regulatory_Untrusted;'\n",
    "                      'Trusted_Connection=yes;')\n",
    "\n",
    "SQLQuerry = \"SELECT TOP (100) [ParentID],[DataID],[Name],[GroupID],[DataType],[DCategory],[SubType],[ExAtt1],[ExAtt2]\"\n",
    "SQLQuerry = SQLQuerry + \",[Ordering],[Major],[Minor],[ReleaseRef],[ChildCount],[AssignedTo],[ExtendedData],[Catalog]\"\n",
    "SQLQuerry = SQLQuerry + \",[CacheExpiration],[Deleted],[GUID],[DWAdmin_InsertDateTime] FROM [_RegDocs].[DTreeCore]\"\n",
    "df = pd.read_sql(SQLQuerry,conn)\"\"\""
   ]
  },
  {
   "cell_type": "code",
   "execution_count": null,
   "metadata": {},
   "outputs": [],
   "source": []
  },
  {
   "cell_type": "code",
   "execution_count": null,
   "metadata": {},
   "outputs": [],
   "source": []
  },
  {
   "cell_type": "code",
   "execution_count": 5,
   "metadata": {},
   "outputs": [
    {
     "data": {
      "text/html": [
       "<div>\n",
       "<style scoped>\n",
       "    .dataframe tbody tr th:only-of-type {\n",
       "        vertical-align: middle;\n",
       "    }\n",
       "\n",
       "    .dataframe tbody tr th {\n",
       "        vertical-align: top;\n",
       "    }\n",
       "\n",
       "    .dataframe thead th {\n",
       "        text-align: right;\n",
       "    }\n",
       "</style>\n",
       "<table border=\"1\" class=\"dataframe\">\n",
       "  <thead>\n",
       "    <tr style=\"text-align: right;\">\n",
       "      <th></th>\n",
       "      <th>ParentID</th>\n",
       "      <th>DataID</th>\n",
       "      <th>Name</th>\n",
       "      <th>GroupID</th>\n",
       "      <th>SubType</th>\n",
       "      <th>Ordering</th>\n",
       "      <th>ChildCount</th>\n",
       "      <th>Deleted</th>\n",
       "    </tr>\n",
       "  </thead>\n",
       "  <tbody>\n",
       "    <tr>\n",
       "      <td>0</td>\n",
       "      <td>3892301</td>\n",
       "      <td>3891641</td>\n",
       "      <td>C03383-1 Cover Letter - NGTL Aid to Cross to C...</td>\n",
       "      <td>41490</td>\n",
       "      <td>144</td>\n",
       "      <td>1</td>\n",
       "      <td>0</td>\n",
       "      <td>0</td>\n",
       "    </tr>\n",
       "  </tbody>\n",
       "</table>\n",
       "</div>"
      ],
      "text/plain": [
       "   ParentID   DataID                                               Name  \\\n",
       "0   3892301  3891641  C03383-1 Cover Letter - NGTL Aid to Cross to C...   \n",
       "\n",
       "   GroupID  SubType  Ordering  ChildCount  Deleted  \n",
       "0    41490      144         1           0        0  "
      ]
     },
     "execution_count": 5,
     "metadata": {},
     "output_type": "execute_result"
    }
   ],
   "source": [
    "df"
   ]
  },
  {
   "cell_type": "code",
   "execution_count": 8,
   "metadata": {},
   "outputs": [
    {
     "name": "stdout",
     "output_type": "stream",
     "text": [
      "The list of successfully downloaded files are: \n",
      "C03383-1 Cover Letter - NGTL Aid to Cross to Centra Gas Manitoba - A7A5G4\n"
     ]
    }
   ],
   "source": [
    "def scrape_PDF_Files(df):\n",
    "    \"\"\"\n",
    "    c.\tDownload the PDF Files and save the PDF files in a time stamped folder\n",
    "    \n",
    "    \"\"\"\n",
    "    Index0 = df\n",
    "       \n",
    "    count = 0\n",
    "    error_urls = []\n",
    "    error_dataIDs = []\n",
    "    dataID = \"\"\n",
    "    \n",
    "    ##Create New forder for the PDFs downloaded\n",
    "    now = datetime.now() # current date and time\n",
    "    timestamp = datetime.timestamp(now)\n",
    "    new_folder = str(now.strftime(\"%Y\"))+ \".\" + str(now.strftime(\"%m\"))+ \".\" + str(now.strftime(\"%d\"))+ \".\" + str(timestamp)\n",
    "    path = os.path.realpath('.\\\\')+ '\\\\Downloads\\\\'+new_folder \n",
    "    try:\n",
    "        os.mkdir(path)\n",
    "    except OSError:\n",
    "        print (\"Creation of the directory %s failed\" % path)\n",
    "    \n",
    "    # Itterating each row in the Index0 dataframe \n",
    "    download_error = 0\n",
    "    print(\"The list of successfully downloaded files are: \")\n",
    "    for index, row in Index0.iterrows():\n",
    "        #print(index)\n",
    "        #print(row)\n",
    "        \n",
    "        try:\n",
    "            dataID = row['DataID']\n",
    "            download_url = 'http://docs2.cer-rec.gc.ca/ll-eng/llisapi.dll?func=ll&objId=' + str(dataID) + '&objaction=download&viewType=1'\n",
    "            r = requests.get(download_url) #scraping the PDF file from the URL\n",
    "            full_name = os.path.join(path + '\\\\', (str(dataID) +'.pdf')) \n",
    "            with open(full_name, 'wb') as file:\n",
    "                file.write(r.content) \n",
    "            count = count + 1\n",
    "            print(row['Name'])\n",
    "        except:\n",
    "            # storing the error logs \n",
    "            error_urls.append(download_url)\n",
    "            error_dataIDs.append(dataID)\n",
    "            print(\"error with file {}\".format(row['Name']))\n",
    "            download_error = 1\n",
    "            \n",
    "            \n",
    "    if download_error == 1:\n",
    "        # creating and and saving the error logs dataframe\n",
    "        df_scraping_errorlog = pd.DataFrame({'error_dataIDs' : error_dataIDs,\n",
    "                                             'error_urls' : error_urls\n",
    "                                              })\n",
    "        df_scraping_errorlog.to_csv(path + '\\\\ScrapingErrorLogs.csv', \n",
    "                                    index = False, encoding='utf-8-sig')\n",
    "    return(count, path + \"\\\\\")    \n",
    "\n",
    "count, path = scrape_PDF_Files(df)"
   ]
  },
  {
   "cell_type": "code",
   "execution_count": null,
   "metadata": {},
   "outputs": [],
   "source": [
    "def find_maps(df):\n",
    "    "
   ]
  },
  {
   "cell_type": "code",
   "execution_count": null,
   "metadata": {},
   "outputs": [],
   "source": []
  },
  {
   "cell_type": "code",
   "execution_count": null,
   "metadata": {},
   "outputs": [],
   "source": []
  },
  {
   "cell_type": "code",
   "execution_count": null,
   "metadata": {},
   "outputs": [],
   "source": []
  },
  {
   "cell_type": "code",
   "execution_count": 9,
   "metadata": {},
   "outputs": [
    {
     "data": {
      "text/plain": [
       "'C:\\\\Users\\\\singvibu\\\\Desktop\\\\GitHub\\\\GIS Location Extraction\\\\Downloads\\\\2020.09.04.1599247884.498431\\\\'"
      ]
     },
     "execution_count": 9,
     "metadata": {},
     "output_type": "execute_result"
    }
   ],
   "source": [
    "path"
   ]
  },
  {
   "cell_type": "code",
   "execution_count": 38,
   "metadata": {},
   "outputs": [
    {
     "data": {
      "text/plain": [
       "'pdffile = \"15-11-30 - Volume 1 - A4W0E2.pdf\"\\ndoc = fitz.open(pdffile)\\npage = doc.loadPage(0)  # number of page\\npix = page.getPixmap()\\noutput = \"outfile.png\"\\npix.writePNG(output)'"
      ]
     },
     "execution_count": 38,
     "metadata": {},
     "output_type": "execute_result"
    }
   ],
   "source": [
    "\"\"\"pdffile = \"15-11-30 - Volume 1 - A4W0E2.pdf\"\n",
    "doc = fitz.open(pdffile)\n",
    "page = doc.loadPage(0)  # number of page\n",
    "pix = page.getPixmap()\n",
    "output = \"outfile.png\"\n",
    "pix.writePNG(output)\"\"\""
   ]
  },
  {
   "cell_type": "code",
   "execution_count": 46,
   "metadata": {},
   "outputs": [
    {
     "data": {
      "text/plain": [
       "page 0 of C:\\Users\\singvibu\\Desktop\\GitHub\\GIS Location Extraction\\Downloads\\2020.09.03.1599150966.90701\\1234.pdf"
      ]
     },
     "execution_count": 46,
     "metadata": {},
     "output_type": "execute_result"
    }
   ],
   "source": [
    "doc = fitz.open(path + str(1234) + \".pdf\")\n",
    "page = doc.loadPage(0)\n",
    "page\n",
    "pix.writePNG(path + output)\n",
    "                display(Image(filename = path + output))"
   ]
  },
  {
   "cell_type": "code",
   "execution_count": 48,
   "metadata": {},
   "outputs": [
    {
     "ename": "SyntaxError",
     "evalue": "invalid syntax (<ipython-input-48-b60ca42466f2>, line 6)",
     "output_type": "error",
     "traceback": [
      "\u001b[1;36m  File \u001b[1;32m\"<ipython-input-48-b60ca42466f2>\"\u001b[1;36m, line \u001b[1;32m6\u001b[0m\n\u001b[1;33m    pix.writePNG(path + output)\u001b[0m\n\u001b[1;37m      ^\u001b[0m\n\u001b[1;31mSyntaxError\u001b[0m\u001b[1;31m:\u001b[0m invalid syntax\n"
     ]
    }
   ],
   "source": [
    "for page_no in range(len(doc)):\n",
    "    page = doc.loadPage(page_no)\n",
    "    pix = page.getPixmap()\n",
    "    output = str(\"1234_\" + str(page_no)+ \".png\"\n",
    "                \n",
    "    pix.writePNG(path + output)\n",
    "    display(Image(filename = path + output))\n",
    "    print(page.getDisplayList())\n",
    "    print(page)\n",
    "    display(Image(filename = path + output))"
   ]
  },
  {
   "cell_type": "markdown",
   "metadata": {},
   "source": [
    "\"C:\\Users\\singvibu\\Desktop\\GitHub\\GIS Location Extraction\\Downloads\\2020.09.02.1599099952.311381\\3891641.pdf\""
   ]
  },
  {
   "cell_type": "code",
   "execution_count": 7,
   "metadata": {},
   "outputs": [
    {
     "data": {
      "image/png": "[encoded data removed]",
      "text/plain": [
       "<IPython.core.display.Image object>"
      ]
     },
     "metadata": {},
     "output_type": "display_data"
    },
    {
     "data": {
      "text/plain": [
       "0"
      ]
     },
     "execution_count": 7,
     "metadata": {},
     "output_type": "execute_result"
    },
    {
     "name": "stdout",
     "output_type": "stream",
     "text": [
      "3891641_0.png\n"
     ]
    }
   ],
   "source": [
    "def convert_pdf_to_images(Index0, path):\n",
    "    \n",
    "    download_error = 0\n",
    "    error_urls = []\n",
    "    for index, row in Index0.iterrows():\n",
    "        #print(index)\n",
    "        #print(row)\n",
    "        \n",
    "        try:\n",
    "            file = path + str(row['DataID']) + \".pdf\"\n",
    "            doc = fitz.open(file)\n",
    "            \n",
    "            for page_no in range(len(doc)):\n",
    "                #i = i+1\n",
    "                #try:\n",
    "                page = doc.loadPage(page_no)  # number of page\n",
    "                pix = page.getPixmap()\n",
    "                #pix.display()\n",
    "                output = str(row['DataID']) + \"_\" + str(page_no)+ \".png\"\n",
    "                pix.writePNG(path + output)\n",
    "                display(Image(filename = path + output))\n",
    "                print(output)\n",
    "                #display(file = path + output)\n",
    "                #except:\n",
    "                #    print(\"Error with page {}\".format(i)) \n",
    "        except:\n",
    "            # storing the error logs \n",
    "            error_urls.append(row['DataID'])\n",
    "            print(\"Could con convert the PDF {} to image\".format(row['DataID']))\n",
    "            download_error = 1\n",
    "            \n",
    "            \n",
    "    if download_error == 1:\n",
    "        # creating and and saving the error logs dataframe\n",
    "        df_scraping_errorlog = pd.DataFrame({'error_dataIDs' : error_urls\n",
    "                                              })\n",
    "        df_scraping_errorlog.to_csv(path + 'ScrapingErrorLogs.csv', \n",
    "                                    index = False, encoding='utf-8-sig')\n",
    "    return(0)    \n",
    "\n",
    "convert_pdf_to_images(df, path)\n",
    "    "
   ]
  },
  {
   "cell_type": "code",
   "execution_count": 43,
   "metadata": {},
   "outputs": [
    {
     "data": {
      "text/plain": [
       "'C:\\\\Users\\\\singvibu\\\\Desktop\\\\GitHub\\\\GIS Location Extraction\\\\Downloads\\\\2020.09.03.1599150966.90701\\\\3891641_0.png'"
      ]
     },
     "execution_count": 43,
     "metadata": {},
     "output_type": "execute_result"
    }
   ],
   "source": [
    "path + \"3891641_0.png\""
   ]
  },
  {
   "cell_type": "code",
   "execution_count": null,
   "metadata": {},
   "outputs": [],
   "source": []
  }
 ],
 "metadata": {
  "kernelspec": {
   "display_name": "Python 3",
   "language": "python",
   "name": "python3"
  },
  "language_info": {
   "codemirror_mode": {
    "name": "ipython",
    "version": 3
   },
   "file_extension": ".py",
   "mimetype": "text/x-python",
   "name": "python",
   "nbconvert_exporter": "python",
   "pygments_lexer": "ipython3",
   "version": "3.7.4"
  }
 },
 "nbformat": 4,
 "nbformat_minor": 2
}
