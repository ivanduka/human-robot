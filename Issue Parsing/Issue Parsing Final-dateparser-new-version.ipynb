{
 "cells": [
  {
   "cell_type": "code",
   "execution_count": 5,
   "metadata": {},
   "outputs": [],
   "source": [
    "import pandas as pd\n",
    "from sqlalchemy import create_engine\n",
    "import re\n",
    "from dateparser.search import search_dates"
   ]
  },
  {
   "cell_type": "code",
   "execution_count": 6,
   "metadata": {},
   "outputs": [
    {
     "output_type": "stream",
     "name": "stdout",
     "text": [
      "03bfc26a-c6d0-4761-b8f5-47acf2290d02\n24\n"
     ]
    }
   ],
   "source": [
    "df = pd.read_csv('pattern.csv', encoding = 'cp1252')\n",
    "df.head()\n",
    "\n",
    "tables = []\n",
    "for index, row in df.iterrows():\n",
    "    tables.append(row['tableId'])\n",
    "\n",
    "print(tables[1])\n",
    "print(len(tables))"
   ]
  },
  {
   "cell_type": "code",
   "execution_count": 7,
   "metadata": {},
   "outputs": [],
   "source": [
    "# Importing environmental variables library that reads from the .env file\n",
    "from dotenv import load_dotenv\n",
    "\n",
    "# Loading key-value pairs from the .env file into the OS environment\n",
    "load_dotenv()\n",
    "\n",
    "# Reading the key-value pairs from the OS environment\n",
    "user = os.getenv(\"DB_USER\")\n",
    "password = os.getenv(\"DB_PASS\")\n",
    "db_hostname = os.getenv(\"DB_HOST\")\n",
    "db_name = os.getenv(\"DB_DATABASE\")\n",
    "\n",
    "# Using those variables in the connection string using \"F\" strings\n",
    "conn_string = f\"mysql+mysqldb://{user}:{password}@{db_hostname}/{db_name}?charset=utf8mb4\"\n",
    "engine = create_engine(conn_string)"
   ]
  },
  {
   "cell_type": "code",
   "execution_count": 9,
   "metadata": {},
   "outputs": [
    {
     "output_type": "stream",
     "name": "stdout",
     "text": [
      "5190\n"
     ]
    },
    {
     "output_type": "execute_result",
     "data": {
      "text/plain": [
       "                                tableId  rowIndex  status_bin  \\\n",
       "0  0114daa6-c048-4081-b4cf-7a9d7461fa44         1  Unresolved   \n",
       "1  0114daa6-c048-4081-b4cf-7a9d7461fa44         2  Unresolved   \n",
       "2  0114daa6-c048-4081-b4cf-7a9d7461fa44         3  Unresolved   \n",
       "3  0114daa6-c048-4081-b4cf-7a9d7461fa44         4  Unresolved   \n",
       "4  0114daa6-c048-4081-b4cf-7a9d7461fa44         5  Unresolved   \n",
       "\n",
       "                                          status_txt  \n",
       "0                                   Monitor in 2018.  \n",
       "1  Monitor in 2018 and implement weed control as ...  \n",
       "2                                Remove erosion log.  \n",
       "3  Monitor in 2018 and implement weed control as ...  \n",
       "4                             Remove sediment fence.  "
      ],
      "text/html": "<div>\n<style scoped>\n    .dataframe tbody tr th:only-of-type {\n        vertical-align: middle;\n    }\n\n    .dataframe tbody tr th {\n        vertical-align: top;\n    }\n\n    .dataframe thead th {\n        text-align: right;\n    }\n</style>\n<table border=\"1\" class=\"dataframe\">\n  <thead>\n    <tr style=\"text-align: right;\">\n      <th></th>\n      <th>tableId</th>\n      <th>rowIndex</th>\n      <th>status_bin</th>\n      <th>status_txt</th>\n    </tr>\n  </thead>\n  <tbody>\n    <tr>\n      <td>0</td>\n      <td>0114daa6-c048-4081-b4cf-7a9d7461fa44</td>\n      <td>1</td>\n      <td>Unresolved</td>\n      <td>Monitor in 2018.</td>\n    </tr>\n    <tr>\n      <td>1</td>\n      <td>0114daa6-c048-4081-b4cf-7a9d7461fa44</td>\n      <td>2</td>\n      <td>Unresolved</td>\n      <td>Monitor in 2018 and implement weed control as ...</td>\n    </tr>\n    <tr>\n      <td>2</td>\n      <td>0114daa6-c048-4081-b4cf-7a9d7461fa44</td>\n      <td>3</td>\n      <td>Unresolved</td>\n      <td>Remove erosion log.</td>\n    </tr>\n    <tr>\n      <td>3</td>\n      <td>0114daa6-c048-4081-b4cf-7a9d7461fa44</td>\n      <td>4</td>\n      <td>Unresolved</td>\n      <td>Monitor in 2018 and implement weed control as ...</td>\n    </tr>\n    <tr>\n      <td>4</td>\n      <td>0114daa6-c048-4081-b4cf-7a9d7461fa44</td>\n      <td>5</td>\n      <td>Unresolved</td>\n      <td>Remove sediment fence.</td>\n    </tr>\n  </tbody>\n</table>\n</div>"
     },
     "metadata": {},
     "execution_count": 9
    }
   ],
   "source": [
    "query = \"SELECT * FROM issues;\"\n",
    "with engine.connect() as conn:\n",
    "    df = pd.read_sql(query, conn)\n",
    "df_issue = df[['tableId', 'rowIndex', 'status_bin', 'status_txt']]\n",
    "print(len(df_issue))\n",
    "df_issue.head()"
   ]
  },
  {
   "cell_type": "code",
   "execution_count": 10,
   "metadata": {},
   "outputs": [],
   "source": [
    "#Checking for the rows which might have string length 0\n",
    "for index, row in df_issue.iterrows():\n",
    "    if row['tableId'] in tables:\n",
    "        #print(\"---------------------\", \"---------------------\", \"---------------------\", \"---------------------\", \"---------------------\")\n",
    "        #print(row['status_txt'].replace(\"<s>\", \"\"))\n",
    "        if len(str(row['status_txt'])) <1:\n",
    "            \"hello\"\n",
    "#             print(row['status_txt'])\n",
    "#             print(row['rowIndex'])\n",
    "#             print(row['tableId'])"
   ]
  },
  {
   "cell_type": "code",
   "execution_count": 11,
   "metadata": {},
   "outputs": [
    {
     "output_type": "stream",
     "name": "stdout",
     "text": [
      "1820\n"
     ]
    }
   ],
   "source": [
    "#Counting relevant rows. Rows which belong in the list of tables provided\n",
    "count = 0\n",
    "for index, row in df_issue.iterrows():\n",
    "    try:\n",
    "        if row['tableId'] in tables:\n",
    "            count = count +1\n",
    "    except:\n",
    "        continue\n",
    "print(count)"
   ]
  },
  {
   "cell_type": "code",
   "execution_count": 12,
   "metadata": {},
   "outputs": [],
   "source": [
    "def split_issues(status_txt):\n",
    "    parsed_issues = []\n",
    "    issue_str = \"\"\n",
    "    \n",
    "    date_string = \"\"\n",
    "    date_count = 0\n",
    "    \n",
    "    status_txt_multiple = status_txt.split(\".\")\n",
    "    \n",
    "    i = 0\n",
    "    new_issue_flag = 0\n",
    "    new_issue_with_date_flag = 0 \n",
    "    \n",
    "    for line in status_txt_multiple:\n",
    "#         print(\"line\", line)\n",
    "#         print(\"issue_str\", issue_str)\n",
    "        i = i+1\n",
    "        new_issue_flag = 0\n",
    "        new_issue_with_date_flag = 0\n",
    "        if i == 1:\n",
    "            issue_str = line\n",
    "            date_string, date_count  = date_parser_date_count(line)\n",
    "            #dates.append(dates_a[0])\n",
    "            continue\n",
    "            \n",
    "        # usuallu a new issue starts with \". -\", \n",
    "        # so afer splitting with \".\" if the first four characters contains - then we can say that it is a new issue\n",
    "        if \"-\" in line.strip()[:2] or (\"–\" in line.strip()[:2]):\n",
    "            new_issue_flag = 1\n",
    "            parsed_issues.append((issue_str + \".\").strip())\n",
    "            issue_str = date_string + \" \" + line   \n",
    "            \n",
    "            \n",
    "        # a new issue might also start like this \"Issue. Sept 17, 2016 - 65-75% vegetation.\"\n",
    "        # line 1: Issue.\n",
    "        # line 2: Sept 17, 2016 - 65-75% vegetation.\n",
    "        if len(line) > 25:\n",
    "            date_s, date_c = date_parser_date_count(line)\n",
    "            #print(date_string)\n",
    "            if (date_c > 0) and ((\"–\" in line.strip()[:21]) or (\"-\" in line.strip()[:21])):\n",
    "                #dates.append(dates_a[0])\n",
    "                new_issue_with_date_flag = 1\n",
    "                parsed_issues.append((issue_str + \".\").strip())\n",
    "                issue_str = line\n",
    "                date_string = date_s\n",
    "                date_count = date_c\n",
    "                \n",
    "        \n",
    "        if new_issue_flag == 0 and new_issue_with_date_flag == 0 and len(line) > 0:\n",
    "            issue_str = issue_str + \". \" + line.strip()\n",
    "                \n",
    "#         if flag == 1:\n",
    "#             #print(issue_str)\n",
    "#             parsed_issues.append(issue_str + \".\")\n",
    "#             issue_str = line\n",
    "#             flag = 0\n",
    "        \n",
    "    if new_issue_with_date_flag ==1:\n",
    "        parsed_issues.append(issue_str + \".\")\n",
    "        \n",
    "    elif new_issue_flag ==1:\n",
    "        parsed_issues.append((date_string + \" \" + issue_str + \".\").strip())\n",
    "        \n",
    "    else:\n",
    "        parsed_issues.append((issue_str + \".\").strip())\n",
    "    \n",
    "    return parsed_issues\n",
    "    "
   ]
  },
  {
   "cell_type": "code",
   "execution_count": 13,
   "metadata": {},
   "outputs": [
    {
     "output_type": "stream",
     "name": "stdout",
     "text": [
      "July 13, 2016\n1\n"
     ]
    }
   ],
   "source": [
    "def date_parser_date_count(string):\n",
    "    ''' Date Finding Function\n",
    "        Input:  Takes any string as input \n",
    "        Output1: Returns the first date identified \n",
    "        Output2: Returns the number of dates identified in the string'''\n",
    "    \n",
    "    para = search_dates(string, \n",
    "                        settings={'STRICT_PARSING': True, \n",
    "                                  'DATE_ORDER': 'DMY'})\n",
    "    date_string = \"\"\n",
    "    count = 0\n",
    "    try:\n",
    "        for x in para:\n",
    "            count = count+1\n",
    "            if date_string == \"\":\n",
    "                date_string = x[0]\n",
    "    except:\n",
    "        # No date identified or error in finding a date\n",
    "        \"Hello\"\n",
    "        \n",
    "    return(date_string, count)\n",
    "\n",
    "line = \"July 13, 2016 -- Vegetation is filling in well with desirable species throughout tract.\"\n",
    "date_string, date_count  = date_parser_date_count(line)\n",
    "print(date_string)\n",
    "print(date_count)"
   ]
  },
  {
   "cell_type": "code",
   "execution_count": 14,
   "metadata": {},
   "outputs": [
    {
     "output_type": "stream",
     "name": "stdout",
     "text": [
      "June 22, 2016 – Intermittent weeds observed, recommend implementation of control measures. July 13, 2016 -- Vegetation is filling in well with desirable species throughout tract. Good establishment of grasses, shrubs and wetland vegetation.  - Wetland functioning well, consistent with previous assessments. - Intermittent herbicide application conducted to control perennial sow thistle and scentless chamomile  - No erosion or subsidence issues. Sept 17, 2016 - 65-75% vegetation established compared to off ROW. - Intermittent herbicide application conducted to control perennial sow thistle.\n",
      "-----breakdown-----\n",
      ":    June 22, 2016 – Intermittent weeds observed, recommend implementation of control measures.\n",
      ":    July 13, 2016 -- Vegetation is filling in well with desirable species throughout tract. Good establishment of grasses, shrubs and wetland vegetation.\n",
      ":    July 13, 2016   - Wetland functioning well, consistent with previous assessments.\n",
      ":    July 13, 2016  - Intermittent herbicide application conducted to control perennial sow thistle and scentless chamomile  - No erosion or subsidence issues.\n",
      ":    Sept 17, 2016 - 65-75% vegetation established compared to off ROW.\n",
      ":    Sept 17, 2016  - Intermittent herbicide application conducted to control perennial sow thistle.\n"
     ]
    }
   ],
   "source": [
    "text = \"June 22, 2016 – Intermittent weeds observed, recommend implementation of control measures. July 13, 2016 -- Vegetation is filling in well with desirable species throughout tract. Good establishment of grasses, shrubs and wetland vegetation.  - Wetland functioning well, consistent with previous assessments. - Intermittent herbicide application conducted to control perennial sow thistle and scentless chamomile  - No erosion or subsidence issues. Sept 17, 2016 - 65-75% vegetation established compared to off ROW. - Intermittent herbicide application conducted to control perennial sow thistle.\"\n",
    "print(text)\n",
    "print(\"-----breakdown-----\")\n",
    "\n",
    "for row in split_issues(text):\n",
    "    print(\":   \", row)"
   ]
  },
  {
   "cell_type": "code",
   "execution_count": 15,
   "metadata": {},
   "outputs": [
    {
     "output_type": "stream",
     "name": "stdout",
     "text": [
      "June 22, 2016 – Intermittent weeds observed, recommend implementation of control measures. July 13, 2016 -- Vegetation is filling in well with desirable species throughout tract. Good establishment of grasses, shrubs and wetland vegetation.  Wetland functioning well, consistent with previous assessments. - Intermittent herbicide application conducted to control perennial sow thistle and scentless chamomile.  - No erosion or subsidence issues. Sept 17, 2016 - 65-75% vegetation established compared to off ROW. - Intermittent herbicide application conducted to control perennial sow thistle. Intermittent herbicide application conducted to control perennial sow thistle.Intermittent herbicide application conducted to control perennial sow thistle. Intermittent herbicide application conducted to control perennial sow thistle. Intermittent herbicide application conducted to control perennial sow thistle. Intermittent herbicide application conducted to control perennial sow thistle. Intermittent herbicide application conducted to control perennial sow thistle. Intermittent herbicide application conducted to control perennial sow thistle. Intermittent herbicide application conducted to control perennial sow thistle. Intermittent herbicide application conducted to control perennial sow thistle. Intermittent herbicide application conducted to control perennial sow thistle. Intermittent herbicide application conducted to control perennial sow thistle. Intermittent herbicide application conducted to control perennial sow thistle. Intermittent herbicide application conducted to control perennial sow thistle. Intermittent herbicide application conducted to control perennial sow thistle. \n",
      "-----breakdown-----\n",
      ":    June 22, 2016 – Intermittent weeds observed, recommend implementation of control measures.\n",
      "90\n",
      ":    July 13, 2016 -- Vegetation is filling in well with desirable species throughout tract. Good establishment of grasses, shrubs and wetland vegetation. Wetland functioning well, consistent with previous assessments.\n",
      "213\n",
      ":    July 13, 2016  - Intermittent herbicide application conducted to control perennial sow thistle and scentless chamomile.\n",
      "119\n",
      ":    July 13, 2016   - No erosion or subsidence issues.\n",
      "50\n",
      ":    Sept 17, 2016 - 65-75% vegetation established compared to off ROW.\n",
      "66\n",
      ":    Sept 17, 2016  - Intermittent herbicide application conducted to control perennial sow thistle. Intermittent herbicide application conducted to control perennial sow thistle. Intermittent herbicide application conducted to control perennial sow thistle. Intermittent herbicide application conducted to control perennial sow thistle. Intermittent herbicide application conducted to control perennial sow thistle. Intermittent herbicide application conducted to control perennial sow thistle. Intermittent herbicide application conducted to control perennial sow thistle. Intermittent herbicide application conducted to control perennial sow thistle. Intermittent herbicide application conducted to control perennial sow thistle. Intermittent herbicide application conducted to control perennial sow thistle. Intermittent herbicide application conducted to control perennial sow thistle. Intermittent herbicide application conducted to control perennial sow thistle. Intermittent herbicide application conducted to control perennial sow thistle. Intermittent herbicide application conducted to control perennial sow thistle. Intermittent herbicide application conducted to control perennial sow thistle. .\n",
      "1203\n"
     ]
    }
   ],
   "source": [
    "text = \"June 22, 2016 – Intermittent weeds observed, recommend implementation of control measures. July 13, 2016 -- Vegetation is filling in well with desirable species throughout tract. Good establishment of grasses, shrubs and wetland vegetation.  Wetland functioning well, consistent with previous assessments. - Intermittent herbicide application conducted to control perennial sow thistle and scentless chamomile.  - No erosion or subsidence issues. Sept 17, 2016 - 65-75% vegetation established compared to off ROW. - Intermittent herbicide application conducted to control perennial sow thistle. Intermittent herbicide application conducted to control perennial sow thistle.Intermittent herbicide application conducted to control perennial sow thistle. Intermittent herbicide application conducted to control perennial sow thistle. Intermittent herbicide application conducted to control perennial sow thistle. Intermittent herbicide application conducted to control perennial sow thistle. Intermittent herbicide application conducted to control perennial sow thistle. Intermittent herbicide application conducted to control perennial sow thistle. Intermittent herbicide application conducted to control perennial sow thistle. Intermittent herbicide application conducted to control perennial sow thistle. Intermittent herbicide application conducted to control perennial sow thistle. Intermittent herbicide application conducted to control perennial sow thistle. Intermittent herbicide application conducted to control perennial sow thistle. Intermittent herbicide application conducted to control perennial sow thistle. Intermittent herbicide application conducted to control perennial sow thistle. \"\n",
    "print(text)\n",
    "print(\"-----breakdown-----\")\n",
    "\n",
    "for row in split_issues(text):\n",
    "    print(\":   \", row)\n",
    "    print(len(row))"
   ]
  },
  {
   "cell_type": "code",
   "execution_count": 10,
   "metadata": {},
   "outputs": [
    {
     "name": "stdout",
     "output_type": "stream",
     "text": [
      "August 12, 2017 - KP 1+890 to 2+040 and KP 2+250 to 2+350 – Intermittent herbicide application conducted to control perennial sow thistle and tansy. Issue resolved. September 11, 2017 – Woody swamp on ROW from KP 1+920 to 1+960 and 2+200 to 2+360 appears to be at full functionality.\n",
      "-----breakdown-----\n"
     ]
    },
    {
     "data": {
      "text/plain": [
       "['August 12, 2017 - KP 1+890 to 2+040 and KP 2+250 to 2+350 – Intermittent herbicide application conducted to control perennial sow thistle and tansy. Issue resolved.',\n",
       " 'September 11, 2017 – Woody swamp on ROW from KP 1+920 to 1+960 and 2+200 to 2+360 appears to be at full functionality.']"
      ]
     },
     "execution_count": 10,
     "metadata": {},
     "output_type": "execute_result"
    }
   ],
   "source": [
    "text = \"August 12, 2017 - KP 1+890 to 2+040 and KP 2+250 to 2+350 – Intermittent herbicide application conducted to control perennial sow thistle and tansy. Issue resolved. September 11, 2017 – Woody swamp on ROW from KP 1+920 to 1+960 and 2+200 to 2+360 appears to be at full functionality.\"\n",
    "print(text)\n",
    "print(\"-----breakdown-----\")\n",
    "\n",
    "split_issues(text)"
   ]
  },
  {
   "cell_type": "code",
   "execution_count": 16,
   "metadata": {},
   "outputs": [
    {
     "output_type": "execute_result",
     "data": {
      "text/plain": [
       "5190"
      ]
     },
     "metadata": {},
     "execution_count": 16
    }
   ],
   "source": [
    "len(df_issue)"
   ]
  },
  {
   "cell_type": "code",
   "execution_count": 17,
   "metadata": {},
   "outputs": [],
   "source": [
    "tableId = []\n",
    "rowIndex = []\n",
    "status_bin =[]\n",
    "status_txt = []\n",
    "issues =[]\n",
    "count = []\n",
    "\n",
    "none_type = []\n",
    "for index, row in df_issue.iterrows():\n",
    "    try:\n",
    "        if row['tableId'] in tables:\n",
    "#             print(\"---------------------\", \"---------------------\", \"---------------------\", \"---------------------\", \"---------------------\")\n",
    "#             print(row[\"status_txt\"])\n",
    "        \n",
    "            parsed_issues = split_issues(str(row[\"status_txt\"]))\n",
    "            counter = 0\n",
    "#             print(\"parsed issues\", parsed_issues)\n",
    "#             print(\"HELLOOOOO\")\n",
    "\n",
    "            if len(parsed_issues) > 0:\n",
    "                #print(\"--------------------- breakdown ---------------------\")\n",
    "                for issue in parsed_issues:\n",
    "                    counter = counter + 1\n",
    "                    #print(\"---\", issue)\n",
    "                    count.append(count)\n",
    "                    tableId.append(row['tableId'])\n",
    "                    rowIndex.append(row['rowIndex'])\n",
    "                    status_bin.append(row['status_bin'])\n",
    "                    status_txt.append(row['status_txt'])\n",
    "                    issues.append(issue)\n",
    "#                     if len(issue) > 260:\n",
    "#                         print(index)\n",
    "            #print(row['tableId'])\n",
    "        else:\n",
    "            continue\n",
    "    except:\n",
    "        none_type.append(index)\n",
    "        \n",
    "    "
   ]
  },
  {
   "cell_type": "code",
   "execution_count": null,
   "metadata": {},
   "outputs": [],
   "source": [
    "df_parsed_issues = pd.DataFrame({'tableId': tableId,\n",
    "                          'rowIndex' : rowIndex,\n",
    "                          'status_bin' : status_bin,\n",
    "                          'status_txt' :  status_txt,\n",
    "                        'count' : count,\n",
    "                        'issues': issues})\n",
    "df_parsed_issues.head(50)\n",
    "#len(df_labels)\n",
    "print(len(df_parsed_issues))"
   ]
  },
  {
   "cell_type": "code",
   "execution_count": null,
   "metadata": {},
   "outputs": [],
   "source": [
    "print(len(none_type))\n",
    "print(none_type)"
   ]
  },
  {
   "cell_type": "code",
   "execution_count": null,
   "metadata": {},
   "outputs": [],
   "source": [
    "df_parsed_issues.to_csv(\"parsed_issues.csv\", index = False, encoding='utf-8-sig')"
   ]
  },
  {
   "cell_type": "code",
   "execution_count": null,
   "metadata": {},
   "outputs": [],
   "source": [
    "df_parsed_issues.to_csv(\"v2_parsed_issues_tab.tsv\", sep=\"\\t\")"
   ]
  },
  {
   "cell_type": "code",
   "execution_count": null,
   "metadata": {},
   "outputs": [],
   "source": [
    "a = \"hello I am going to write a very long string. A string which has more than 255 characters to see if a very large string object behaves under string function. hello I am going to write a very long string. A string which has more than 255 characters to see if a very large string object behaves under string function.\"\n",
    "print(len(a))\n",
    "print(len(str(a)))"
   ]
  },
  {
   "cell_type": "code",
   "execution_count": null,
   "metadata": {},
   "outputs": [],
   "source": []
  }
 ],
 "metadata": {
  "kernelspec": {
   "display_name": "Python 3",
   "language": "python",
   "name": "python3"
  },
  "language_info": {
   "codemirror_mode": {
    "name": "ipython",
    "version": 3
   },
   "file_extension": ".py",
   "mimetype": "text/x-python",
   "name": "python",
   "nbconvert_exporter": "python",
   "pygments_lexer": "ipython3",
   "version": "3.7.4-final"
  }
 },
 "nbformat": 4,
 "nbformat_minor": 2
}