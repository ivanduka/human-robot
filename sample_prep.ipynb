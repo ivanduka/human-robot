{
 "metadata": {
  "language_info": {
   "codemirror_mode": {
    "name": "ipython",
    "version": 3
   },
   "file_extension": ".py",
   "mimetype": "text/x-python",
   "name": "python",
   "nbconvert_exporter": "python",
   "pygments_lexer": "ipython3",
   "version": "3.7.4-final"
  },
  "orig_nbformat": 2,
  "kernelspec": {
   "name": "python_defaultSpec_1601668500113",
   "display_name": "Python 3.7.4 64-bit ('base': conda)"
  }
 },
 "nbformat": 4,
 "nbformat_minor": 2,
 "cells": [
  {
   "cell_type": "code",
   "execution_count": 1,
   "metadata": {},
   "outputs": [],
   "source": [
    "from sqlalchemy import create_engine\n",
    "import pandas as pd\n",
    "import numpy as np \n",
    "import os\n",
    "import json\n",
    "from pathlib import Path\n",
    "import re"
   ]
  },
  {
   "cell_type": "code",
   "execution_count": 10,
   "metadata": {},
   "outputs": [],
   "source": [
    "# Importing environmental variables library that reads from the .env file\n",
    "from dotenv import load_dotenv\n",
    "\n",
    "# Loading key-value pairs from the .env file into the OS environment\n",
    "load_dotenv()\n",
    "\n",
    "# Reading the key-value pairs from the OS environment\n",
    "user = os.getenv(\"DB_USER\")\n",
    "password = os.getenv(\"DB_PASS\")\n",
    "db_hostname = os.getenv(\"DB_HOST\")\n",
    "db_name = os.getenv(\"DB_DATABASE\")\n",
    "\n",
    "# Using those variables in the connection string using \"F\" strings\n",
    "conn_string = f\"mysql+mysqldb://{user}:{password}@{db_hostname}/{db_name}?charset=utf8mb4\"\n",
    "engine = create_engine(conn_string)"
   ]
  },
  {
   "cell_type": "code",
   "execution_count": 29,
   "metadata": {},
   "outputs": [],
   "source": [
    "def clean_dataframe(dataframe, column_name):\n",
    "    pattern = '|'.join(['<s>', '</s>',])\n",
    "    dataframe[column_name] = dataframe[column_name].str.replace(pattern, '')\n",
    "    dataframe[column_name] = dataframe[column_name].str.replace('\\xa0', ' ')"
   ]
  },
  {
   "cell_type": "code",
   "execution_count": 91,
   "metadata": {
    "tags": []
   },
   "outputs": [],
   "source": [
    "query = \"SELECT * FROM pcmr.issues WHERE content NOT LIKE '%%VEC%%' ORDER BY RAND() LIMIT 150;\"\n",
    "\n",
    "with engine.connect() as conn:\n",
    "    df = pd.read_sql(query,conn)\n",
    "    clean_dataframe(df, 'content')\n",
    "\n",
    "data = pd.DataFrame([])\n",
    "for row in df.itertuples():\n",
    "    # converting JSON string to a list of lists of strings\n",
    "    table_row = json.loads(row.content)\n",
    "    table_row[0].append(row.tableId)\n",
    "    table_row[0].append(row.rowIndex)\n",
    "    table_row[1].append(row.tableId)\n",
    "    table_row[1].append(row.rowIndex)\n",
    "    data = data.append(table_row)\n",
    "    data = data.append(pd.Series(), ignore_index=True)"
   ]
  },
  {
   "cell_type": "code",
   "execution_count": 33,
   "metadata": {},
   "outputs": [],
   "source": [
    "df = pd.read_csv('wrangle_sample.csv', encoding = 'ISO-8859-1')"
   ]
  },
  {
   "cell_type": "code",
   "execution_count": 34,
   "metadata": {
    "tags": []
   },
   "outputs": [],
   "source": [
    "clean_dataframe(df, 'content')\n",
    "\n",
    "data = pd.DataFrame([])\n",
    "for row in df.itertuples():\n",
    "    # converting JSON string to a list of lists of strings\n",
    "    table_row = json.loads(row.content)\n",
    "    if 'VEC' in table_row[0]:\n",
    "        del table_row[1][table_row[0].index('VEC')]\n",
    "        del table_row[0][table_row[0].index('VEC')]\n",
    "    table_row[0].insert(0, row.tableId)\n",
    "    table_row[0].insert(1, row.rowIndex)\n",
    "    table_row[0].insert(2, row.VECassigned)\n",
    "    table_row[0].insert(3, row.Company_label)\n",
    "    table_row[0].insert(4, row.Rare)\n",
    "    table_row[1].insert(0, row.tableId)\n",
    "    table_row[1].insert(1, row.rowIndex)\n",
    "    table_row[1].insert(2, row.VECassigned)\n",
    "    table_row[1].insert(3, row.Company_label)\n",
    "    table_row[1].insert(4, row.Rare)\n",
    "    data = data.append(table_row)\n",
    "    data = data.append(pd.Series(), ignore_index=True)"
   ]
  },
  {
   "cell_type": "code",
   "execution_count": 35,
   "metadata": {
    "tags": []
   },
   "outputs": [],
   "source": [
    "data.to_csv('VEC_validation.csv', encoding = 'utf-8-sig', index = False, header = None)"
   ]
  },
  {
   "cell_type": "code",
   "execution_count": 36,
   "metadata": {},
   "outputs": [
    {
     "output_type": "execute_result",
     "data": {
      "text/plain": "Index(['tableId', 'rowIndex', 'content', 'issue_pri', 'issue_sec', 'land_use',\n       'loc_coord', 'loc_kp', 'loc_mer', 'loc_other', 'loc_tract', 'loc_utm',\n       'status_bin', 'status_txt', 'vec_pri', 'vec_sec', 'location', 'status',\n       'vec_simple', 'subvec_simple', 'VECassigned', 'soil', 'vegetation',\n       'water', 'fish', 'wildlife', 'species', 'air', 'heritage', 'physical',\n       'wetlands', 'acoustic', 'navigation', 'Company_label', 'Rare'],\n      dtype='object')"
     },
     "metadata": {},
     "execution_count": 36
    }
   ],
   "source": [
    "df.columns"
   ]
  }
 ]
}