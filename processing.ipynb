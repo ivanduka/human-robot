{
 "nbformat": 4,
 "nbformat_minor": 2,
 "metadata": {
  "language_info": {
   "name": "python",
   "codemirror_mode": {
    "name": "ipython",
    "version": 3
   },
   "version": "3.7.4-final"
  },
  "orig_nbformat": 2,
  "file_extension": ".py",
  "mimetype": "text/x-python",
  "name": "python",
  "npconvert_exporter": "python",
  "pygments_lexer": "ipython3",
  "version": 3,
  "kernelspec": {
   "name": "python37464bitbaseconda30fb8a07f75f4a94a3c6b568e65d1132",
   "language": "python",
   "display_name": "Python 3.7.4 64-bit ('base': conda)"
  },
  "pycharm": {
   "stem_cell": {
    "cell_type": "raw",
    "source": [],
    "metadata": {
     "collapsed": false
    }
   }
  }
 },
 "cells": [
  {
   "cell_type": "code",
   "execution_count": null,
   "metadata": {
    "pycharm": {
     "is_executing": false
    }
   },
   "outputs": [],
   "source": [
    "from selenium import webdriver\n",
    "from selenium.webdriver.chrome.options import Options\n",
    "from bs4 import BeautifulSoup\n",
    "from urllib.parse import quote\n",
    "import re\n",
    "import camelot\n",
    "import PyPDF2\n",
    "from pathlib import Path\n",
    "import shutil\n",
    "import pandas as pd\n",
    "from dotenv import load_dotenv\n",
    "from sqlalchemy import text, create_engine\n",
    "from wand.image import Image\n",
    "from multiprocessing import Pool\n",
    "import os\n",
    "import pandas as pd\n",
    "import shutil\n",
    "\n",
    "pdf_files_folder =       Path(\"//luxor/data/board/Dev/PCMR/pdf_files\")\n",
    "csv_tables_folder = Path(\"//luxor/data/board/Dev/PCMR/csv_tables\")\n",
    "jpg_tables_folder = Path(\"//luxor/data/board/Dev/PCMR/jpg_tables\")\n",
    "pdf_files = list(pdf_files_folder.glob(\"*.pdf\"))\n",
    "\n",
    "if not pdf_files_folder.exists():\n",
    "    print(pdf_files_folder, \"does not exist!\")\n",
    "elif not jpg_tables_folder.exists():\n",
    "    print(jpg_tables_folder, \"does not exist!\")\n",
    "elif not csv_tables_folder.exists():\n",
    "    print(csv_tables_folder, \"does not exist!\")\n",
    "else:\n",
    "    print(\"All paths are accessible.\")\n",
    "\n",
    "load_dotenv()\n",
    "host = os.getenv(\"DB_HOST\")\n",
    "database = os.getenv(\"DB_DATABASE\")\n",
    "user = os.getenv(\"DB_USER\")\n",
    "password = os.getenv(\"DB_PASS\")\n",
    "engine = create_engine(f\"mysql+mysqldb://{user}:{password}@{host}/{database}?charset=utf8\")\n",
    "\n",
    "engine2 = create_engine(f\"mssql+pyodbc://psql21cap/CS_Prod?driver=SQL+Server+Native+Client+11.0\")\n",
    "\n",
    "chrome_options = Options()\n",
    "chrome_options.add_argument(\"--headless\")\n",
    "search_url = \"https://apps.cer-rec.gc.ca/REGDOCS/Search?txthl=\"\n",
    "search_params=\"&w=0&m=0&lf=2\""
   ]
  },
  {
   "cell_type": "code",
   "execution_count": null,
   "metadata": {},
   "outputs": [],
   "source": []
  },
  {
   "cell_type": "code",
   "execution_count": null,
   "metadata": {},
   "outputs": [],
   "source": [
    "def get_number_of_pages(pdf_path):\n",
    "    with pdf_path.open(\"rb\") as pdf:\n",
    "        reader = PyPDF2.PdfFileReader(pdf)\n",
    "        if reader.isEncrypted:\n",
    "            reader.decrypt(\"\")\n",
    "        total_pages = reader.getNumPages()\n",
    "        return total_pages\n",
    "\n",
    "def check_if_file_is_in_db_already(pdf_path):\n",
    "    with engine.connect() as conn:\n",
    "        statement = text(\"SELECT * FROM pdfs WHERE pdfName = :pdf_name;\")\n",
    "        result = conn.execute(statement, {\"pdf_name\": pdf_path.stem})\n",
    "        return True if result.rowcount > 0 else False\n",
    "\n",
    "        # Function gets the metadata for a PDF from REGDOCS and adds it to the DB\n",
    "\n",
    "def insert_pdf(pdf_path):\n",
    "    try:\n",
    "        if (check_if_file_is_in_db_already(pdf_path)):\n",
    "            return\n",
    "\n",
    "        metadata = get_pdf_metadata(pdf_path)\n",
    "        metadata[\"pdf_name\"] = pdf_path.stem\n",
    "        metadata[\"pdf_size\"] = int(pdf_path.stat().st_size / 1024 / 1024 * 100) / 100\n",
    "        metadata[\"total_pages\"] = get_number_of_pages(pdf_path)\n",
    "\n",
    "        with engine.connect() as conn:\n",
    "            statement = text(\"INSERT INTO pdfs (pdfId, pdfName, pdfSize, filingId, date, totalPages) \" +\n",
    "                             \"VALUE (:DataID,:pdf_name,:pdf_size,:ParentID,:CreateDate,:total_pages);\")\n",
    "            result = conn.execute(statement, metadata)\n",
    "        print(f\"Successfully inserted {result.rowcount} rows for {pdf_path.stem}\")\n",
    "    except Exception as e:\n",
    "        print(f\"Error for {pdf.stem}: {e}\")\n",
    "\n",
    "def get_pdf_metadata(pdf_path):\n",
    "    statement = text(\"SELECT ParentID, DataID, CreateDate FROM [CS_Prod].[dbo].[DTreeCore] \" +\n",
    "                     \"WHERE Name LIKE :file_name\")\n",
    "    with engine2.connect() as conn:\n",
    "        df = pd.read_sql(statement, conn, params={\"file_name\": pdf_path.stem + \"%\"})\n",
    "    return df.to_dict(\"records\")[0]"
   ]
  },
  {
   "cell_type": "code",
   "execution_count": null,
   "metadata": {},
   "outputs": [],
   "source": [
    "# Function gets the metadata for all PDFs from REGDOCS and adds it to the DB\n",
    "print(f\"Working on {len(pdf_files)} items:\")\n",
    "\n",
    "for pdf in pdf_files:\n",
    "    insert_pdf(pdf)\n",
    "\n",
    "print(f\"Done processing {len(pdf_files)} PDF files\")"
   ]
  },
  {
   "cell_type": "code",
   "execution_count": null,
   "metadata": {},
   "outputs": [],
   "source": [
    "#############################################################################\n",
    "# The following cells are for processing the tables after capturing is done #\n",
    "#############################################################################\n",
    "\n",
    "def populate_coordinates(table):\n",
    "    try:\n",
    "        with engine.connect() as conn:\n",
    "            pdf = pdf_files_folder.joinpath(f\"{table.pdfName}.pdf\").resolve()\n",
    "            with Image(filename=f\"{pdf}[{table.page - 1}]\") as i:\n",
    "                pdf_width = i.width\n",
    "                pdf_height = i.height\n",
    "\n",
    "            x1 = int(table.x1 * pdf_width / table.pageWidth)\n",
    "            x2 = int(table.x2 * pdf_width / table.pageWidth)\n",
    "            y1 = int(table.y1 * pdf_height / table.pageHeight)\n",
    "            y2 = int(table.y2 * pdf_height / table.pageHeight)\n",
    "\n",
    "            query = (f\"UPDATE tables SET pdfWidth={pdf_width}, pdfHeight={pdf_height}, pdfX1={x1},\" +\n",
    "                    f\"pdfX2={x2}, pdfY1={y1}, pdfY2={y2} WHERE tableId='{table.tableId}';\")\n",
    "            conn.execute(query)\n",
    "            print(f\"Populated coordinates for table ID {table.tableId}\")\n",
    "    except Exception as e:\n",
    "        print(f\"Error for {table.pdfName} - page {table.page}: {e}\")"
   ]
  },
  {
   "cell_type": "code",
   "execution_count": null,
   "metadata": {},
   "outputs": [],
   "source": [
    "statement = text(\"SELECT * FROM tables WHERE pdfX1 IS NULL;\")\n",
    "with engine.connect() as conn:\n",
    "    df = pd.read_sql(statement, conn)\n",
    "tables = list(df.itertuples())\n",
    "print(f\"Working on {len(tables)} items:\")\n",
    "\n",
    "results = [populate_coordinates(table) for table in tables]\n",
    "print(\"Done\")"
   ]
  },
  {
   "cell_type": "code",
   "execution_count": null,
   "metadata": {},
   "outputs": [],
   "source": [
    "def create_args_for_image_extraction():\n",
    "  statement = text(\"SELECT * FROM tables WHERE imageExtracted IS NULL;\")\n",
    "  with engine.connect() as conn:\n",
    "      df = pd.read_sql(statement, conn)\n",
    "      tables = df.to_dict(\"records\")\n",
    "\n",
    "  args = [(table, engine, pdf_files_folder, jpg_tables_folder) for table in tables]\n",
    "  return args\n",
    "# create_args_for_image_extracton()"
   ]
  },
  {
   "cell_type": "code",
   "execution_count": null,
   "metadata": {},
   "outputs": [],
   "source": [
    "import ext_funcs\n",
    "\n",
    "args = create_args_for_image_extraction()\n",
    "\n",
    "results = [ext_funcs.extract_image(arg) for arg in args]\n",
    "\n",
    "for result in results:\n",
    "    print(result)"
   ]
  },
  {
   "cell_type": "code",
   "execution_count": null,
   "metadata": {},
   "outputs": [],
   "source": []
  }
 ]
}