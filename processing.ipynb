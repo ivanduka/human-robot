{
 "nbformat": 4,
 "nbformat_minor": 2,
 "metadata": {
  "language_info": {
   "name": "python",
   "codemirror_mode": {
    "name": "ipython",
    "version": 3
   },
   "version": "3.7.4-final"
  },
  "orig_nbformat": 2,
  "file_extension": ".py",
  "mimetype": "text/x-python",
  "name": "python",
  "npconvert_exporter": "python",
  "pygments_lexer": "ipython3",
  "version": 3,
  "kernelspec": {
   "name": "python37464bitbaseconda30fb8a07f75f4a94a3c6b568e65d1132",
   "language": "python",
   "display_name": "Python 3.7.4 64-bit ('base': conda)"
  },
  "pycharm": {
   "stem_cell": {
    "cell_type": "raw",
    "source": [],
    "metadata": {
     "collapsed": false
    }
   }
  }
 },
 "cells": [
  {
   "cell_type": "code",
   "execution_count": 48,
   "metadata": {
    "pycharm": {
     "is_executing": false
    }
   },
   "outputs": [],
   "source": [
    "from selenium import webdriver\n",
    "from selenium.webdriver.chrome.options import Options\n",
    "from bs4 import BeautifulSoup\n",
    "from urllib.parse import quote\n",
    "import re"
   ]
  },
  {
   "cell_type": "code",
   "execution_count": 49,
   "metadata": {},
   "outputs": [],
   "source": [
    "chrome_options = Options()\n",
    "chrome_options.add_argument(\"--headless\")\n",
    "with webdriver.Chrome(options=chrome_options) as driver:\n",
    "    name = \"A89301-1 NGTL_Cheecham-Kettle River Expansion_Cond.6_Post-Construction Environmental Monitoring Report - A5Z3H8\"\n",
    "    url = \"https://apps.cer-rec.gc.ca/REGDOCS/Search?txthl=\" + quote(name)\n",
    "    driver.get(url)\n",
    "    soup = BeautifulSoup(driver.page_source)"
   ]
  },
  {
   "cell_type": "code",
   "execution_count": 50,
   "metadata": {},
   "outputs": [
    {
     "output_type": "stream",
     "name": "stdout",
     "text": "PDF ID: 3436137\nFILING ID: 3437127\nCompany name: NOVA Gas Transmission Ltd.\nCompany ID: 554112\nDate: 2018-01-18\nSubmitter: NOVA Gas Transmission Ltd.\n"
    }
   ],
   "source": [
    "a1 = soup.find('a', string=name)\n",
    "pdf_id = a1[\"href\"].split(\"/\")[-1]\n",
    "print(\"PDF ID:\", pdf_id)\n",
    "\n",
    "a2 = soup.find('a', string=re.compile(\"See all Documents for this Filing:\"))\n",
    "filing_id = a2[\"href\"].split(\"/\")[-1]\n",
    "print(\"FILING ID:\", filing_id)\n",
    "\n",
    "div = soup.find(\"div\", string=re.compile(\"Company:\"))\n",
    "company_anchor = list(div.next_siblings)[1].find(\"a\")\n",
    "company_name = company_anchor.contents[0]\n",
    "print(\"Company name:\", company_name)\n",
    "company_id = company_anchor[\"href\"].split(\"/\")[-1]\n",
    "print(\"Company ID:\", company_id)\n",
    "\n",
    "td1 = soup.find(\"td\", class_=\"nowrap\")\n",
    "submission_date = td1.contents[0]\n",
    "print(\"Date:\", submission_date)\n",
    "\n",
    "td2 = list(td1.next_siblings)[1]\n",
    "submitter = td2.contents[0]\n",
    "print(\"Submitter:\", submitter)"
   ]
  }
 ]
}