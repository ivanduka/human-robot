{
 "nbformat": 4,
 "nbformat_minor": 2,
 "metadata": {
  "language_info": {
   "name": "python",
   "codemirror_mode": {
    "name": "ipython",
    "version": 3
   },
   "version": "3.7.4-final"
  },
  "orig_nbformat": 2,
  "file_extension": ".py",
  "mimetype": "text/x-python",
  "name": "python",
  "npconvert_exporter": "python",
  "pygments_lexer": "ipython3",
  "version": 3,
  "kernelspec": {
   "name": "python37464bitbaseconda30fb8a07f75f4a94a3c6b568e65d1132",
   "language": "python",
   "display_name": "Python 3.7.4 64-bit ('base': conda)"
  },
  "pycharm": {
   "stem_cell": {
    "cell_type": "raw",
    "source": [],
    "metadata": {
     "collapsed": false
    }
   }
  }
 },
 "cells": [
  {
   "cell_type": "code",
   "execution_count": null,
   "metadata": {
    "pycharm": {
     "is_executing": false
    }
   },
   "outputs": [],
   "source": [
    "from selenium import webdriver\n",
    "from selenium.webdriver.chrome.options import Options\n",
    "from bs4 import BeautifulSoup\n",
    "from urllib.parse import quote\n",
    "import re\n",
    "import camelot\n",
    "import PyPDF2\n",
    "from pathlib import Path\n",
    "import shutil\n",
    "import pandas as pd\n",
    "from dotenv import load_dotenv\n",
    "from sqlalchemy import text, create_engine\n",
    "from wand.image import Image\n",
    "from multiprocessing import Pool\n",
    "import os\n",
    "import pandas as pd\n",
    "import shutil\n",
    "\n",
    "prod_pdf_files_folder =  Path(\"//luxor/data/board/Dev/PCMR/pdf\")\n",
    "pdf_files_folder =       Path(\"//luxor/data/board/Dev/PCMR/original_pdf\")\n",
    "csv_tables_folder_path = Path(\"//luxor/data/board/Dev/PCMR/csv_tables\")\n",
    "jpg_tables_folder_path = Path(\"//luxor/data/board/Dev/PCMR/jpg_tables\")\n",
    "pdf_files = list(pdf_files_folder.glob(\"*.pdf\"))\n",
    "\n",
    "if not pdf_files_folder.exists():\n",
    "    print(pdf_files_folder, \"does not exist!\")\n",
    "if not jpg_tables_folder_path.exists():\n",
    "    print(jpg_tables_folder_path, \"does not exist!\")\n",
    "if not csv_tables_folder_path.exists():\n",
    "    print(csv_tables_folder_path, \"does not exist!\")\n",
    "\n",
    "load_dotenv()\n",
    "host = os.getenv(\"DB_HOST\")\n",
    "database = os.getenv(\"DB_DATABASE\")\n",
    "user = os.getenv(\"DB_USER\")\n",
    "password = os.getenv(\"DB_PASS\")\n",
    "engine = create_engine(f\"mysql+mysqldb://{user}:{password}@{host}/{database}?charset=utf8\")\n",
    "\n",
    "engine2 = create_engine(f\"mssql+pyodbc://psql21cap/CS_Prod?driver=SQL+Server+Native+Client+11.0\")\n",
    "\n",
    "chrome_options = Options()\n",
    "chrome_options.add_argument(\"--headless\")\n",
    "search_url = \"https://apps.cer-rec.gc.ca/REGDOCS/Search?txthl=\"\n",
    "search_params=\"&w=0&m=0&lf=2\""
   ]
  },
  {
   "cell_type": "code",
   "execution_count": null,
   "metadata": {},
   "outputs": [],
   "source": [
    "def copy_and_rename_pdfs():\n",
    "    with engine.connect() as conn:\n",
    "        statement = text(\"SELECT * FROM pdfs;\")\n",
    "        df = pd.read_sql(statement, conn)\n",
    "        data = df.to_dict(\"records\")\n",
    "        for item in data:\n",
    "            shutil.copy(pdf_files_folder.joinpath(str(item[\"pdfName\"]) + \".pdf\"),\n",
    "            prod_pdf_files_folder.joinpath(str(item[\"pdfId\"]) + \".pdf\"))\n",
    "copy_and_rename_pdfs()"
   ]
  },
  {
   "cell_type": "code",
   "execution_count": null,
   "metadata": {
    "pycharm": {
     "is_executing": false
    }
   },
   "outputs": [],
   "source": [
    "def get_number_of_pages(pdf_path):\n",
    "    with pdf_path.open(\"rb\") as pdf:\n",
    "        reader = PyPDF2.PdfFileReader(pdf)\n",
    "        if reader.isEncrypted:\n",
    "            reader.decrypt(\"\")\n",
    "        total_pages = reader.getNumPages()\n",
    "        return total_pages"
   ]
  },
  {
   "cell_type": "code",
   "execution_count": null,
   "metadata": {},
   "outputs": [],
   "source": [
    "def get_pdf_metadata(pdf_path):\n",
    "    statement = text(\"SELECT ParentID, DataID, CreateDate FROM [CS_Prod].[dbo].[DTreeCore] WHERE Name LIKE :file_name\")\n",
    "    with engine2.connect() as conn:\n",
    "        df = pd.read_sql(statement, conn, params={\"file_name\": pdf_path.stem + \"%\"})\n",
    "        return df.to_dict(\"records\")[0]"
   ]
  },
  {
   "cell_type": "code",
   "execution_count": null,
   "metadata": {},
   "outputs": [],
   "source": [
    "def check_if_file_is_in_db_already(pdf_path):\n",
    "    with engine.connect() as conn:\n",
    "        statement = text(\"SELECT * FROM pdfs WHERE pdfName = :pdf_name;\")\n",
    "        result = conn.execute(statement, {\"pdf_name\": pdf_path.stem})\n",
    "        return True if result.rowcount > 0 else False"
   ]
  },
  {
   "cell_type": "code",
   "execution_count": null,
   "metadata": {
    "pycharm": {
     "is_executing": false
    }
   },
   "outputs": [],
   "source": [
    "# Function gets the metadata for a PDF from REGDOCS and adds it to the DB\n",
    "\n",
    "def insert_pdf(pdf_path):\n",
    "    try:\n",
    "        if (check_if_file_is_in_db_already(pdf_path)):\n",
    "            return\n",
    "\n",
    "        metadata = get_pdf_metadata(pdf_path)\n",
    "        metadata[\"pdf_name\"] = pdf_path.stem\n",
    "        metadata[\"pdf_size\"] = int(pdf_path.stat().st_size / 1024 / 1024 * 100) / 100\n",
    "        metadata[\"total_pages\"] = get_number_of_pages(pdf_path)\n",
    "\n",
    "        with engine.connect() as conn:\n",
    "            statement = text(\"INSERT INTO pdfs (pdfId, pdfName, pdfSize, filingId, date, totalPages) \" +\n",
    "                             \" VALUE (:DataID, :pdf_name, :pdf_size, :ParentID, :CreateDate, :total_pages);\")\n",
    "            result = conn.execute(statement, metadata)\n",
    "        print(f\"Successfully inserted {result.rowcount} rows for {pdf_path.stem}\")\n",
    "    except Exception as e:\n",
    "        print(f\"Error for {pdf.stem}: {e}\")"
   ]
  },
  {
   "cell_type": "code",
   "execution_count": null,
   "metadata": {},
   "outputs": [],
   "source": [
    "# Function gets the metadata for all PDFs from REGDOCS and adds it to the DB\n",
    "\n",
    "for pdf in pdf_files:\n",
    "    insert_pdf(pdf)\n",
    "\n",
    "print(f\"Done processing {len(pdf_files)} PDF file\")"
   ]
  },
  {
   "cell_type": "code",
   "execution_count": null,
   "metadata": {},
   "outputs": [],
   "source": []
  }
 ]
}